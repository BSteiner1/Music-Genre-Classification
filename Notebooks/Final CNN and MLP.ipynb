{
  "cells": [
    {
      "cell_type": "markdown",
      "metadata": {
        "id": "BtfGBkbbdu8h"
      },
      "source": [
        "## Notes: \n",
        "- Extremely Overfit\n",
        "- Needs to be tuned \n",
        "- Maybe alter the cnn or mlp\n",
        "\n",
        "Also will only run on colab because the training loop moves memory over to the gpu"
      ]
    },
    {
      "cell_type": "code",
      "execution_count": 1,
      "metadata": {
        "colab": {
          "base_uri": "https://localhost:8080/"
        },
        "id": "5QFeaPbw41Ax",
        "outputId": "7ebd230a-4218-43b5-c83f-8174378be3f6"
      },
      "outputs": [
        {
          "output_type": "stream",
          "name": "stdout",
          "text": [
            "Looking in indexes: https://pypi.org/simple, https://us-python.pkg.dev/colab-wheels/public/simple/\n",
            "Requirement already satisfied: pandas in /usr/local/lib/python3.9/dist-packages (1.2.4)\n",
            "Requirement already satisfied: python-dateutil>=2.7.3 in /usr/local/lib/python3.9/dist-packages (from pandas) (2.8.2)\n",
            "Requirement already satisfied: pytz>=2017.3 in /usr/local/lib/python3.9/dist-packages (from pandas) (2022.7.1)\n",
            "Requirement already satisfied: numpy>=1.16.5 in /usr/local/lib/python3.9/dist-packages (from pandas) (1.21.5)\n",
            "Requirement already satisfied: six>=1.5 in /usr/local/lib/python3.9/dist-packages (from python-dateutil>=2.7.3->pandas) (1.16.0)\n",
            "Looking in indexes: https://pypi.org/simple, https://us-python.pkg.dev/colab-wheels/public/simple/\n",
            "Requirement already satisfied: d2l==0.17.6 in /usr/local/lib/python3.9/dist-packages (0.17.6)\n",
            "Requirement already satisfied: jupyter==1.0.0 in /usr/local/lib/python3.9/dist-packages (from d2l==0.17.6) (1.0.0)\n",
            "Requirement already satisfied: matplotlib==3.5.1 in /usr/local/lib/python3.9/dist-packages (from d2l==0.17.6) (3.5.1)\n",
            "Requirement already satisfied: numpy==1.21.5 in /usr/local/lib/python3.9/dist-packages (from d2l==0.17.6) (1.21.5)\n",
            "Requirement already satisfied: requests==2.25.1 in /usr/local/lib/python3.9/dist-packages (from d2l==0.17.6) (2.25.1)\n",
            "Requirement already satisfied: pandas==1.2.4 in /usr/local/lib/python3.9/dist-packages (from d2l==0.17.6) (1.2.4)\n",
            "Requirement already satisfied: notebook in /usr/local/lib/python3.9/dist-packages (from jupyter==1.0.0->d2l==0.17.6) (6.4.8)\n",
            "Requirement already satisfied: ipykernel in /usr/local/lib/python3.9/dist-packages (from jupyter==1.0.0->d2l==0.17.6) (5.5.6)\n",
            "Requirement already satisfied: nbconvert in /usr/local/lib/python3.9/dist-packages (from jupyter==1.0.0->d2l==0.17.6) (6.5.4)\n",
            "Requirement already satisfied: ipywidgets in /usr/local/lib/python3.9/dist-packages (from jupyter==1.0.0->d2l==0.17.6) (7.7.1)\n",
            "Requirement already satisfied: jupyter-console in /usr/local/lib/python3.9/dist-packages (from jupyter==1.0.0->d2l==0.17.6) (6.1.0)\n",
            "Requirement already satisfied: qtconsole in /usr/local/lib/python3.9/dist-packages (from jupyter==1.0.0->d2l==0.17.6) (5.4.2)\n",
            "Requirement already satisfied: packaging>=20.0 in /usr/local/lib/python3.9/dist-packages (from matplotlib==3.5.1->d2l==0.17.6) (23.0)\n",
            "Requirement already satisfied: cycler>=0.10 in /usr/local/lib/python3.9/dist-packages (from matplotlib==3.5.1->d2l==0.17.6) (0.11.0)\n",
            "Requirement already satisfied: pillow>=6.2.0 in /usr/local/lib/python3.9/dist-packages (from matplotlib==3.5.1->d2l==0.17.6) (8.4.0)\n",
            "Requirement already satisfied: fonttools>=4.22.0 in /usr/local/lib/python3.9/dist-packages (from matplotlib==3.5.1->d2l==0.17.6) (4.39.3)\n",
            "Requirement already satisfied: python-dateutil>=2.7 in /usr/local/lib/python3.9/dist-packages (from matplotlib==3.5.1->d2l==0.17.6) (2.8.2)\n",
            "Requirement already satisfied: kiwisolver>=1.0.1 in /usr/local/lib/python3.9/dist-packages (from matplotlib==3.5.1->d2l==0.17.6) (1.4.4)\n",
            "Requirement already satisfied: pyparsing>=2.2.1 in /usr/local/lib/python3.9/dist-packages (from matplotlib==3.5.1->d2l==0.17.6) (3.0.9)\n",
            "Requirement already satisfied: pytz>=2017.3 in /usr/local/lib/python3.9/dist-packages (from pandas==1.2.4->d2l==0.17.6) (2022.7.1)\n",
            "Requirement already satisfied: urllib3<1.27,>=1.21.1 in /usr/local/lib/python3.9/dist-packages (from requests==2.25.1->d2l==0.17.6) (1.26.15)\n",
            "Requirement already satisfied: certifi>=2017.4.17 in /usr/local/lib/python3.9/dist-packages (from requests==2.25.1->d2l==0.17.6) (2022.12.7)\n",
            "Requirement already satisfied: chardet<5,>=3.0.2 in /usr/local/lib/python3.9/dist-packages (from requests==2.25.1->d2l==0.17.6) (4.0.0)\n",
            "Requirement already satisfied: idna<3,>=2.5 in /usr/local/lib/python3.9/dist-packages (from requests==2.25.1->d2l==0.17.6) (2.10)\n",
            "Requirement already satisfied: six>=1.5 in /usr/local/lib/python3.9/dist-packages (from python-dateutil>=2.7->matplotlib==3.5.1->d2l==0.17.6) (1.16.0)\n",
            "Requirement already satisfied: tornado>=4.2 in /usr/local/lib/python3.9/dist-packages (from ipykernel->jupyter==1.0.0->d2l==0.17.6) (6.2)\n",
            "Requirement already satisfied: jupyter-client in /usr/local/lib/python3.9/dist-packages (from ipykernel->jupyter==1.0.0->d2l==0.17.6) (6.1.12)\n",
            "Requirement already satisfied: ipython>=5.0.0 in /usr/local/lib/python3.9/dist-packages (from ipykernel->jupyter==1.0.0->d2l==0.17.6) (7.34.0)\n",
            "Requirement already satisfied: ipython-genutils in /usr/local/lib/python3.9/dist-packages (from ipykernel->jupyter==1.0.0->d2l==0.17.6) (0.2.0)\n",
            "Requirement already satisfied: traitlets>=4.1.0 in /usr/local/lib/python3.9/dist-packages (from ipykernel->jupyter==1.0.0->d2l==0.17.6) (5.7.1)\n",
            "Requirement already satisfied: widgetsnbextension~=3.6.0 in /usr/local/lib/python3.9/dist-packages (from ipywidgets->jupyter==1.0.0->d2l==0.17.6) (3.6.4)\n",
            "Requirement already satisfied: jupyterlab-widgets>=1.0.0 in /usr/local/lib/python3.9/dist-packages (from ipywidgets->jupyter==1.0.0->d2l==0.17.6) (3.0.7)\n",
            "Requirement already satisfied: prompt-toolkit!=3.0.0,!=3.0.1,<3.1.0,>=2.0.0 in /usr/local/lib/python3.9/dist-packages (from jupyter-console->jupyter==1.0.0->d2l==0.17.6) (3.0.38)\n",
            "Requirement already satisfied: pygments in /usr/local/lib/python3.9/dist-packages (from jupyter-console->jupyter==1.0.0->d2l==0.17.6) (2.14.0)\n",
            "Requirement already satisfied: MarkupSafe>=2.0 in /usr/local/lib/python3.9/dist-packages (from nbconvert->jupyter==1.0.0->d2l==0.17.6) (2.1.2)\n",
            "Requirement already satisfied: jinja2>=3.0 in /usr/local/lib/python3.9/dist-packages (from nbconvert->jupyter==1.0.0->d2l==0.17.6) (3.1.2)\n",
            "Requirement already satisfied: jupyterlab-pygments in /usr/local/lib/python3.9/dist-packages (from nbconvert->jupyter==1.0.0->d2l==0.17.6) (0.2.2)\n",
            "Requirement already satisfied: pandocfilters>=1.4.1 in /usr/local/lib/python3.9/dist-packages (from nbconvert->jupyter==1.0.0->d2l==0.17.6) (1.5.0)\n",
            "Requirement already satisfied: bleach in /usr/local/lib/python3.9/dist-packages (from nbconvert->jupyter==1.0.0->d2l==0.17.6) (6.0.0)\n",
            "Requirement already satisfied: mistune<2,>=0.8.1 in /usr/local/lib/python3.9/dist-packages (from nbconvert->jupyter==1.0.0->d2l==0.17.6) (0.8.4)\n",
            "Requirement already satisfied: nbclient>=0.5.0 in /usr/local/lib/python3.9/dist-packages (from nbconvert->jupyter==1.0.0->d2l==0.17.6) (0.7.3)\n",
            "Requirement already satisfied: beautifulsoup4 in /usr/local/lib/python3.9/dist-packages (from nbconvert->jupyter==1.0.0->d2l==0.17.6) (4.11.2)\n",
            "Requirement already satisfied: tinycss2 in /usr/local/lib/python3.9/dist-packages (from nbconvert->jupyter==1.0.0->d2l==0.17.6) (1.2.1)\n",
            "Requirement already satisfied: lxml in /usr/local/lib/python3.9/dist-packages (from nbconvert->jupyter==1.0.0->d2l==0.17.6) (4.9.2)\n",
            "Requirement already satisfied: defusedxml in /usr/local/lib/python3.9/dist-packages (from nbconvert->jupyter==1.0.0->d2l==0.17.6) (0.7.1)\n",
            "Requirement already satisfied: entrypoints>=0.2.2 in /usr/local/lib/python3.9/dist-packages (from nbconvert->jupyter==1.0.0->d2l==0.17.6) (0.4)\n",
            "Requirement already satisfied: nbformat>=5.1 in /usr/local/lib/python3.9/dist-packages (from nbconvert->jupyter==1.0.0->d2l==0.17.6) (5.8.0)\n",
            "Requirement already satisfied: jupyter-core>=4.7 in /usr/local/lib/python3.9/dist-packages (from nbconvert->jupyter==1.0.0->d2l==0.17.6) (5.3.0)\n",
            "Requirement already satisfied: argon2-cffi in /usr/local/lib/python3.9/dist-packages (from notebook->jupyter==1.0.0->d2l==0.17.6) (21.3.0)\n",
            "Requirement already satisfied: Send2Trash>=1.8.0 in /usr/local/lib/python3.9/dist-packages (from notebook->jupyter==1.0.0->d2l==0.17.6) (1.8.0)\n",
            "Requirement already satisfied: pyzmq>=17 in /usr/local/lib/python3.9/dist-packages (from notebook->jupyter==1.0.0->d2l==0.17.6) (23.2.1)\n",
            "Requirement already satisfied: nest-asyncio>=1.5 in /usr/local/lib/python3.9/dist-packages (from notebook->jupyter==1.0.0->d2l==0.17.6) (1.5.6)\n",
            "Requirement already satisfied: terminado>=0.8.3 in /usr/local/lib/python3.9/dist-packages (from notebook->jupyter==1.0.0->d2l==0.17.6) (0.17.1)\n",
            "Requirement already satisfied: prometheus-client in /usr/local/lib/python3.9/dist-packages (from notebook->jupyter==1.0.0->d2l==0.17.6) (0.16.0)\n",
            "Requirement already satisfied: qtpy>=2.0.1 in /usr/local/lib/python3.9/dist-packages (from qtconsole->jupyter==1.0.0->d2l==0.17.6) (2.3.1)\n",
            "Requirement already satisfied: jedi>=0.16 in /usr/local/lib/python3.9/dist-packages (from ipython>=5.0.0->ipykernel->jupyter==1.0.0->d2l==0.17.6) (0.18.2)\n",
            "Requirement already satisfied: matplotlib-inline in /usr/local/lib/python3.9/dist-packages (from ipython>=5.0.0->ipykernel->jupyter==1.0.0->d2l==0.17.6) (0.1.6)\n",
            "Requirement already satisfied: pickleshare in /usr/local/lib/python3.9/dist-packages (from ipython>=5.0.0->ipykernel->jupyter==1.0.0->d2l==0.17.6) (0.7.5)\n",
            "Requirement already satisfied: setuptools>=18.5 in /usr/local/lib/python3.9/dist-packages (from ipython>=5.0.0->ipykernel->jupyter==1.0.0->d2l==0.17.6) (67.6.1)\n",
            "Requirement already satisfied: decorator in /usr/local/lib/python3.9/dist-packages (from ipython>=5.0.0->ipykernel->jupyter==1.0.0->d2l==0.17.6) (4.4.2)\n",
            "Requirement already satisfied: pexpect>4.3 in /usr/local/lib/python3.9/dist-packages (from ipython>=5.0.0->ipykernel->jupyter==1.0.0->d2l==0.17.6) (4.8.0)\n",
            "Requirement already satisfied: backcall in /usr/local/lib/python3.9/dist-packages (from ipython>=5.0.0->ipykernel->jupyter==1.0.0->d2l==0.17.6) (0.2.0)\n",
            "Requirement already satisfied: platformdirs>=2.5 in /usr/local/lib/python3.9/dist-packages (from jupyter-core>=4.7->nbconvert->jupyter==1.0.0->d2l==0.17.6) (3.2.0)\n",
            "Requirement already satisfied: fastjsonschema in /usr/local/lib/python3.9/dist-packages (from nbformat>=5.1->nbconvert->jupyter==1.0.0->d2l==0.17.6) (2.16.3)\n",
            "Requirement already satisfied: jsonschema>=2.6 in /usr/local/lib/python3.9/dist-packages (from nbformat>=5.1->nbconvert->jupyter==1.0.0->d2l==0.17.6) (4.3.3)\n",
            "Requirement already satisfied: wcwidth in /usr/local/lib/python3.9/dist-packages (from prompt-toolkit!=3.0.0,!=3.0.1,<3.1.0,>=2.0.0->jupyter-console->jupyter==1.0.0->d2l==0.17.6) (0.2.6)\n",
            "Requirement already satisfied: ptyprocess in /usr/local/lib/python3.9/dist-packages (from terminado>=0.8.3->notebook->jupyter==1.0.0->d2l==0.17.6) (0.7.0)\n",
            "Requirement already satisfied: argon2-cffi-bindings in /usr/local/lib/python3.9/dist-packages (from argon2-cffi->notebook->jupyter==1.0.0->d2l==0.17.6) (21.2.0)\n",
            "Requirement already satisfied: soupsieve>1.2 in /usr/local/lib/python3.9/dist-packages (from beautifulsoup4->nbconvert->jupyter==1.0.0->d2l==0.17.6) (2.4)\n",
            "Requirement already satisfied: webencodings in /usr/local/lib/python3.9/dist-packages (from bleach->nbconvert->jupyter==1.0.0->d2l==0.17.6) (0.5.1)\n",
            "Requirement already satisfied: parso<0.9.0,>=0.8.0 in /usr/local/lib/python3.9/dist-packages (from jedi>=0.16->ipython>=5.0.0->ipykernel->jupyter==1.0.0->d2l==0.17.6) (0.8.3)\n",
            "Requirement already satisfied: attrs>=17.4.0 in /usr/local/lib/python3.9/dist-packages (from jsonschema>=2.6->nbformat>=5.1->nbconvert->jupyter==1.0.0->d2l==0.17.6) (22.2.0)\n",
            "Requirement already satisfied: pyrsistent!=0.17.0,!=0.17.1,!=0.17.2,>=0.14.0 in /usr/local/lib/python3.9/dist-packages (from jsonschema>=2.6->nbformat>=5.1->nbconvert->jupyter==1.0.0->d2l==0.17.6) (0.19.3)\n",
            "Requirement already satisfied: cffi>=1.0.1 in /usr/local/lib/python3.9/dist-packages (from argon2-cffi-bindings->argon2-cffi->notebook->jupyter==1.0.0->d2l==0.17.6) (1.15.1)\n",
            "Requirement already satisfied: pycparser in /usr/local/lib/python3.9/dist-packages (from cffi>=1.0.1->argon2-cffi-bindings->argon2-cffi->notebook->jupyter==1.0.0->d2l==0.17.6) (2.21)\n",
            "Looking in indexes: https://pypi.org/simple, https://us-python.pkg.dev/colab-wheels/public/simple/\n",
            "Requirement already satisfied: matplotlib-inline in /usr/local/lib/python3.9/dist-packages (0.1.6)\n",
            "Requirement already satisfied: traitlets in /usr/local/lib/python3.9/dist-packages (from matplotlib-inline) (5.7.1)\n",
            "Looking in indexes: https://pypi.org/simple, https://us-python.pkg.dev/colab-wheels/public/simple/\n",
            "Requirement already satisfied: sklearn in /usr/local/lib/python3.9/dist-packages (0.0.post4)\n"
          ]
        }
      ],
      "source": [
        "!pip install pandas\n",
        "\n",
        "!pip install d2l==0.17.6\n",
        "#!pip install matplotlib\n",
        "!pip install matplotlib-inline\n",
        "\n",
        "!pip install sklearn"
      ]
    },
    {
      "cell_type": "code",
      "execution_count": 4,
      "metadata": {
        "id": "y_6XLE4I4-fV"
      },
      "outputs": [],
      "source": [
        "import cv2\n",
        "import torch\n",
        "from torch import nn\n",
        "from d2l import torch as d2l\n",
        "from torch.utils.data import DataLoader\n",
        "import os\n",
        "import pandas as pd\n",
        "from sklearn.preprocessing import StandardScaler"
      ]
    },
    {
      "cell_type": "code",
      "execution_count": 5,
      "metadata": {
        "colab": {
          "base_uri": "https://localhost:8080/"
        },
        "id": "5gHU8Vvk5AZk",
        "outputId": "362804f6-38bd-4cfb-af8f-47e16d38bc89"
      },
      "outputs": [
        {
          "output_type": "stream",
          "name": "stdout",
          "text": [
            "fatal: destination path 'ST311-Group-Project' already exists and is not an empty directory.\n"
          ]
        }
      ],
      "source": [
        "!git clone -b @olly-branch \"https://github.com/BSteiner1/ST311-Group-Project/\""
      ]
    },
    {
      "cell_type": "markdown",
      "metadata": {
        "id": "0Bi56fBX45Vo"
      },
      "source": [
        "### Data Loading (Spectograms)\n",
        "- Collect our spectogram images"
      ]
    },
    {
      "cell_type": "code",
      "execution_count": 6,
      "metadata": {
        "id": "5MPEdwnI5I8d"
      },
      "outputs": [],
      "source": [
        "class_dict = {'blues' : 0,\n",
        "              'classical': 1,\n",
        "              'country': 2,\n",
        "              'disco' : 3,\n",
        "              'hiphop' : 4,\n",
        "              'jazz' : 5,\n",
        "              'metal' : 6,\n",
        "              'pop' : 7,\n",
        "              'reggae': 8,\n",
        "              'rock' : 9    \n",
        "}"
      ]
    },
    {
      "cell_type": "code",
      "execution_count": 7,
      "metadata": {
        "id": "OIzfirG45Le0"
      },
      "outputs": [],
      "source": [
        "def collect_data():\n",
        "    data = []\n",
        "    # Collect all images from the 10 genres\n",
        "    for genre in os.listdir(\"ST311-Group-Project/Data/images_original\"):\n",
        "        for image in os.listdir(\"ST311-Group-Project/Data/images_original/\" + genre):\n",
        "            image_path = \"ST311-Group-Project/Data/images_original/\" + genre + \"/\" + image\n",
        "            # Convert to grayscale\n",
        "            grayscale_img = cv2.imread(image_path, cv2.IMREAD_GRAYSCALE)\n",
        "            # Trim the excess white pixels from the image\n",
        "            grayscale_img = grayscale_img[35:-36:, 54:-43]\n",
        "            # Convert to tensor\n",
        "            grayscale_img = torch.tensor(grayscale_img).to(dtype = torch.float32).clone().detach().requires_grad_(True)  \n",
        "            data.append((grayscale_img.reshape(1,217,335), torch.tensor(class_dict.get(genre))))\n",
        "\n",
        "    return data         \n"
      ]
    },
    {
      "cell_type": "code",
      "execution_count": 8,
      "metadata": {
        "id": "P0AC6rit5NQM"
      },
      "outputs": [],
      "source": [
        "data = collect_data()"
      ]
    },
    {
      "cell_type": "code",
      "execution_count": 9,
      "metadata": {
        "id": "piNGV0jI5Qeb"
      },
      "outputs": [],
      "source": [
        "# Split our data into train and test sets with an 80:20 split\n",
        "train_size = int(0.8 * len(data))\n",
        "test_size = len(data) - train_size\n",
        "train_dataset, test_dataset = torch.utils.data.random_split(data, [train_size, test_size])"
      ]
    },
    {
      "cell_type": "code",
      "execution_count": 10,
      "metadata": {
        "id": "iFdClw4J5SOr"
      },
      "outputs": [],
      "source": [
        "# Convert to data loaders\n",
        "train_loader = DataLoader(train_dataset, batch_size=16, shuffle=True)\n",
        "test_loader = DataLoader(test_dataset, batch_size=10, shuffle=False)"
      ]
    },
    {
      "cell_type": "markdown",
      "metadata": {
        "id": "4XSnVW6A5Xua"
      },
      "source": [
        "### Data Loading (Features)"
      ]
    },
    {
      "cell_type": "code",
      "execution_count": 11,
      "metadata": {
        "id": "0D11Dhnm5cwB"
      },
      "outputs": [],
      "source": [
        "feature_path = \"ST311-Group-Project/Data/features_30_sec - edited.csv\""
      ]
    },
    {
      "cell_type": "code",
      "execution_count": 12,
      "metadata": {
        "colab": {
          "base_uri": "https://localhost:8080/",
          "height": 299
        },
        "id": "oEP9XtBV53vy",
        "outputId": "f46f8603-2561-4066-d882-645aff07aabd"
      },
      "outputs": [
        {
          "output_type": "execute_result",
          "data": {
            "text/plain": [
              "          filename  length  chroma_stft_mean  chroma_stft_var  rms_mean  \\\n",
              "0  blues.00000.wav  661794          0.350088         0.088757  0.130228   \n",
              "1  blues.00001.wav  661794          0.340914         0.094980  0.095948   \n",
              "2  blues.00002.wav  661794          0.363637         0.085275  0.175570   \n",
              "3  blues.00003.wav  661794          0.404785         0.093999  0.141093   \n",
              "4  blues.00004.wav  661794          0.308526         0.087841  0.091529   \n",
              "\n",
              "    rms_var  spectral_centroid_mean  spectral_centroid_var  \\\n",
              "0  0.002827             1784.165850            129774.0645   \n",
              "1  0.002373             1530.176679            375850.0736   \n",
              "2  0.002746             1552.811865            156467.6434   \n",
              "3  0.006346             1070.106615            184355.9424   \n",
              "4  0.002303             1835.004266            343399.9393   \n",
              "\n",
              "   spectral_bandwidth_mean  spectral_bandwidth_var  ...  mfcc16_var  \\\n",
              "0              2002.449060             85882.76132  ...   52.420910   \n",
              "1              2039.036516            213843.75550  ...   55.356403   \n",
              "2              1747.702312             76254.19226  ...   40.598766   \n",
              "3              1596.412872            166441.49480  ...   44.427753   \n",
              "4              1748.172116             88445.20904  ...   86.099236   \n",
              "\n",
              "   mfcc17_mean  mfcc17_var  mfcc18_mean  mfcc18_var  mfcc19_mean  mfcc19_var  \\\n",
              "0    -1.690215   36.524071    -0.408979   41.597103    -2.303523   55.062923   \n",
              "1    -0.731125   60.314529     0.295073   48.120598    -0.283518   51.106190   \n",
              "2    -7.729093   47.639427    -1.816407   52.382141    -3.439720   46.639660   \n",
              "3    -3.319597   50.206673     0.636965   37.319130    -0.619121   37.259739   \n",
              "4    -5.454034   75.269707    -0.916874   53.613918    -4.404827   62.910812   \n",
              "\n",
              "   mfcc20_mean  mfcc20_var  label  \n",
              "0     1.221291   46.936035  blues  \n",
              "1     0.531217   45.786282  blues  \n",
              "2    -2.231258   30.573025  blues  \n",
              "3    -3.407448   31.949339  blues  \n",
              "4   -11.703234   55.195160  blues  \n",
              "\n",
              "[5 rows x 60 columns]"
            ],
            "text/html": [
              "\n",
              "  <div id=\"df-81e1dc64-965b-428b-8d35-ccc408d8e2e9\">\n",
              "    <div class=\"colab-df-container\">\n",
              "      <div>\n",
              "<style scoped>\n",
              "    .dataframe tbody tr th:only-of-type {\n",
              "        vertical-align: middle;\n",
              "    }\n",
              "\n",
              "    .dataframe tbody tr th {\n",
              "        vertical-align: top;\n",
              "    }\n",
              "\n",
              "    .dataframe thead th {\n",
              "        text-align: right;\n",
              "    }\n",
              "</style>\n",
              "<table border=\"1\" class=\"dataframe\">\n",
              "  <thead>\n",
              "    <tr style=\"text-align: right;\">\n",
              "      <th></th>\n",
              "      <th>filename</th>\n",
              "      <th>length</th>\n",
              "      <th>chroma_stft_mean</th>\n",
              "      <th>chroma_stft_var</th>\n",
              "      <th>rms_mean</th>\n",
              "      <th>rms_var</th>\n",
              "      <th>spectral_centroid_mean</th>\n",
              "      <th>spectral_centroid_var</th>\n",
              "      <th>spectral_bandwidth_mean</th>\n",
              "      <th>spectral_bandwidth_var</th>\n",
              "      <th>...</th>\n",
              "      <th>mfcc16_var</th>\n",
              "      <th>mfcc17_mean</th>\n",
              "      <th>mfcc17_var</th>\n",
              "      <th>mfcc18_mean</th>\n",
              "      <th>mfcc18_var</th>\n",
              "      <th>mfcc19_mean</th>\n",
              "      <th>mfcc19_var</th>\n",
              "      <th>mfcc20_mean</th>\n",
              "      <th>mfcc20_var</th>\n",
              "      <th>label</th>\n",
              "    </tr>\n",
              "  </thead>\n",
              "  <tbody>\n",
              "    <tr>\n",
              "      <th>0</th>\n",
              "      <td>blues.00000.wav</td>\n",
              "      <td>661794</td>\n",
              "      <td>0.350088</td>\n",
              "      <td>0.088757</td>\n",
              "      <td>0.130228</td>\n",
              "      <td>0.002827</td>\n",
              "      <td>1784.165850</td>\n",
              "      <td>129774.0645</td>\n",
              "      <td>2002.449060</td>\n",
              "      <td>85882.76132</td>\n",
              "      <td>...</td>\n",
              "      <td>52.420910</td>\n",
              "      <td>-1.690215</td>\n",
              "      <td>36.524071</td>\n",
              "      <td>-0.408979</td>\n",
              "      <td>41.597103</td>\n",
              "      <td>-2.303523</td>\n",
              "      <td>55.062923</td>\n",
              "      <td>1.221291</td>\n",
              "      <td>46.936035</td>\n",
              "      <td>blues</td>\n",
              "    </tr>\n",
              "    <tr>\n",
              "      <th>1</th>\n",
              "      <td>blues.00001.wav</td>\n",
              "      <td>661794</td>\n",
              "      <td>0.340914</td>\n",
              "      <td>0.094980</td>\n",
              "      <td>0.095948</td>\n",
              "      <td>0.002373</td>\n",
              "      <td>1530.176679</td>\n",
              "      <td>375850.0736</td>\n",
              "      <td>2039.036516</td>\n",
              "      <td>213843.75550</td>\n",
              "      <td>...</td>\n",
              "      <td>55.356403</td>\n",
              "      <td>-0.731125</td>\n",
              "      <td>60.314529</td>\n",
              "      <td>0.295073</td>\n",
              "      <td>48.120598</td>\n",
              "      <td>-0.283518</td>\n",
              "      <td>51.106190</td>\n",
              "      <td>0.531217</td>\n",
              "      <td>45.786282</td>\n",
              "      <td>blues</td>\n",
              "    </tr>\n",
              "    <tr>\n",
              "      <th>2</th>\n",
              "      <td>blues.00002.wav</td>\n",
              "      <td>661794</td>\n",
              "      <td>0.363637</td>\n",
              "      <td>0.085275</td>\n",
              "      <td>0.175570</td>\n",
              "      <td>0.002746</td>\n",
              "      <td>1552.811865</td>\n",
              "      <td>156467.6434</td>\n",
              "      <td>1747.702312</td>\n",
              "      <td>76254.19226</td>\n",
              "      <td>...</td>\n",
              "      <td>40.598766</td>\n",
              "      <td>-7.729093</td>\n",
              "      <td>47.639427</td>\n",
              "      <td>-1.816407</td>\n",
              "      <td>52.382141</td>\n",
              "      <td>-3.439720</td>\n",
              "      <td>46.639660</td>\n",
              "      <td>-2.231258</td>\n",
              "      <td>30.573025</td>\n",
              "      <td>blues</td>\n",
              "    </tr>\n",
              "    <tr>\n",
              "      <th>3</th>\n",
              "      <td>blues.00003.wav</td>\n",
              "      <td>661794</td>\n",
              "      <td>0.404785</td>\n",
              "      <td>0.093999</td>\n",
              "      <td>0.141093</td>\n",
              "      <td>0.006346</td>\n",
              "      <td>1070.106615</td>\n",
              "      <td>184355.9424</td>\n",
              "      <td>1596.412872</td>\n",
              "      <td>166441.49480</td>\n",
              "      <td>...</td>\n",
              "      <td>44.427753</td>\n",
              "      <td>-3.319597</td>\n",
              "      <td>50.206673</td>\n",
              "      <td>0.636965</td>\n",
              "      <td>37.319130</td>\n",
              "      <td>-0.619121</td>\n",
              "      <td>37.259739</td>\n",
              "      <td>-3.407448</td>\n",
              "      <td>31.949339</td>\n",
              "      <td>blues</td>\n",
              "    </tr>\n",
              "    <tr>\n",
              "      <th>4</th>\n",
              "      <td>blues.00004.wav</td>\n",
              "      <td>661794</td>\n",
              "      <td>0.308526</td>\n",
              "      <td>0.087841</td>\n",
              "      <td>0.091529</td>\n",
              "      <td>0.002303</td>\n",
              "      <td>1835.004266</td>\n",
              "      <td>343399.9393</td>\n",
              "      <td>1748.172116</td>\n",
              "      <td>88445.20904</td>\n",
              "      <td>...</td>\n",
              "      <td>86.099236</td>\n",
              "      <td>-5.454034</td>\n",
              "      <td>75.269707</td>\n",
              "      <td>-0.916874</td>\n",
              "      <td>53.613918</td>\n",
              "      <td>-4.404827</td>\n",
              "      <td>62.910812</td>\n",
              "      <td>-11.703234</td>\n",
              "      <td>55.195160</td>\n",
              "      <td>blues</td>\n",
              "    </tr>\n",
              "  </tbody>\n",
              "</table>\n",
              "<p>5 rows × 60 columns</p>\n",
              "</div>\n",
              "      <button class=\"colab-df-convert\" onclick=\"convertToInteractive('df-81e1dc64-965b-428b-8d35-ccc408d8e2e9')\"\n",
              "              title=\"Convert this dataframe to an interactive table.\"\n",
              "              style=\"display:none;\">\n",
              "        \n",
              "  <svg xmlns=\"http://www.w3.org/2000/svg\" height=\"24px\"viewBox=\"0 0 24 24\"\n",
              "       width=\"24px\">\n",
              "    <path d=\"M0 0h24v24H0V0z\" fill=\"none\"/>\n",
              "    <path d=\"M18.56 5.44l.94 2.06.94-2.06 2.06-.94-2.06-.94-.94-2.06-.94 2.06-2.06.94zm-11 1L8.5 8.5l.94-2.06 2.06-.94-2.06-.94L8.5 2.5l-.94 2.06-2.06.94zm10 10l.94 2.06.94-2.06 2.06-.94-2.06-.94-.94-2.06-.94 2.06-2.06.94z\"/><path d=\"M17.41 7.96l-1.37-1.37c-.4-.4-.92-.59-1.43-.59-.52 0-1.04.2-1.43.59L10.3 9.45l-7.72 7.72c-.78.78-.78 2.05 0 2.83L4 21.41c.39.39.9.59 1.41.59.51 0 1.02-.2 1.41-.59l7.78-7.78 2.81-2.81c.8-.78.8-2.07 0-2.86zM5.41 20L4 18.59l7.72-7.72 1.47 1.35L5.41 20z\"/>\n",
              "  </svg>\n",
              "      </button>\n",
              "      \n",
              "  <style>\n",
              "    .colab-df-container {\n",
              "      display:flex;\n",
              "      flex-wrap:wrap;\n",
              "      gap: 12px;\n",
              "    }\n",
              "\n",
              "    .colab-df-convert {\n",
              "      background-color: #E8F0FE;\n",
              "      border: none;\n",
              "      border-radius: 50%;\n",
              "      cursor: pointer;\n",
              "      display: none;\n",
              "      fill: #1967D2;\n",
              "      height: 32px;\n",
              "      padding: 0 0 0 0;\n",
              "      width: 32px;\n",
              "    }\n",
              "\n",
              "    .colab-df-convert:hover {\n",
              "      background-color: #E2EBFA;\n",
              "      box-shadow: 0px 1px 2px rgba(60, 64, 67, 0.3), 0px 1px 3px 1px rgba(60, 64, 67, 0.15);\n",
              "      fill: #174EA6;\n",
              "    }\n",
              "\n",
              "    [theme=dark] .colab-df-convert {\n",
              "      background-color: #3B4455;\n",
              "      fill: #D2E3FC;\n",
              "    }\n",
              "\n",
              "    [theme=dark] .colab-df-convert:hover {\n",
              "      background-color: #434B5C;\n",
              "      box-shadow: 0px 1px 3px 1px rgba(0, 0, 0, 0.15);\n",
              "      filter: drop-shadow(0px 1px 2px rgba(0, 0, 0, 0.3));\n",
              "      fill: #FFFFFF;\n",
              "    }\n",
              "  </style>\n",
              "\n",
              "      <script>\n",
              "        const buttonEl =\n",
              "          document.querySelector('#df-81e1dc64-965b-428b-8d35-ccc408d8e2e9 button.colab-df-convert');\n",
              "        buttonEl.style.display =\n",
              "          google.colab.kernel.accessAllowed ? 'block' : 'none';\n",
              "\n",
              "        async function convertToInteractive(key) {\n",
              "          const element = document.querySelector('#df-81e1dc64-965b-428b-8d35-ccc408d8e2e9');\n",
              "          const dataTable =\n",
              "            await google.colab.kernel.invokeFunction('convertToInteractive',\n",
              "                                                     [key], {});\n",
              "          if (!dataTable) return;\n",
              "\n",
              "          const docLinkHtml = 'Like what you see? Visit the ' +\n",
              "            '<a target=\"_blank\" href=https://colab.research.google.com/notebooks/data_table.ipynb>data table notebook</a>'\n",
              "            + ' to learn more about interactive tables.';\n",
              "          element.innerHTML = '';\n",
              "          dataTable['output_type'] = 'display_data';\n",
              "          await google.colab.output.renderOutput(dataTable, element);\n",
              "          const docLink = document.createElement('div');\n",
              "          docLink.innerHTML = docLinkHtml;\n",
              "          element.appendChild(docLink);\n",
              "        }\n",
              "      </script>\n",
              "    </div>\n",
              "  </div>\n",
              "  "
            ]
          },
          "metadata": {},
          "execution_count": 12
        }
      ],
      "source": [
        "# Load in the metadata into a DataFrame\n",
        "raw_df = pd.read_csv(feature_path)\n",
        "raw_df.head()"
      ]
    },
    {
      "cell_type": "code",
      "execution_count": 13,
      "metadata": {
        "id": "XmPvoB-a57Uc"
      },
      "outputs": [],
      "source": [
        "# Remove unnecessary variables for prediction\n",
        "del raw_df['filename']\n",
        "del raw_df['length']\n",
        "# Map the label to a number\n",
        "raw_df['label'] = raw_df['label'].map(class_dict)"
      ]
    },
    {
      "cell_type": "code",
      "execution_count": 14,
      "metadata": {
        "id": "CpyYsSCH6kLt"
      },
      "outputs": [],
      "source": [
        "# Scale each column of the DataFrame to mean 0 variance 1\n",
        "df = StandardScaler().fit_transform(raw_df.iloc[:, 0:-1])\n",
        "df = pd.DataFrame(df, columns = raw_df.columns.tolist()[:-1])\n",
        "df['label'] = raw_df['label']"
      ]
    },
    {
      "cell_type": "code",
      "execution_count": 15,
      "metadata": {
        "id": "dMXnxTvj6HiS"
      },
      "outputs": [],
      "source": [
        "# Colect the (metadata, label) tuples and convert to tensors\n",
        "metadata = [(torch.tensor(list(df.loc[i][:-1])).clone().detach().requires_grad_(True).reshape(1,1,-1), \\\n",
        "             torch.tensor(df['label'][i], dtype=torch.long)) for i in range(len(df))]"
      ]
    },
    {
      "cell_type": "code",
      "execution_count": 16,
      "metadata": {
        "id": "ZVZcuCFH6KTC"
      },
      "outputs": [],
      "source": [
        "# 80:20 train-test split for our metadata\n",
        "meta_train_size = int(0.80 * len(metadata))\n",
        "meta_test_size = len(metadata) - meta_train_size\n",
        "metadata_train_dataset, metadata_test_dataset = torch.utils.data.random_split(metadata, [meta_train_size, meta_test_size])"
      ]
    },
    {
      "cell_type": "code",
      "execution_count": 17,
      "metadata": {
        "id": "As5Ml_Z46YiC"
      },
      "outputs": [],
      "source": [
        "# Add to data loaders\n",
        "metadata_train_loader = DataLoader(metadata_train_dataset, batch_size=40, shuffle=True)\n",
        "metadata_test_loader = DataLoader(metadata_test_dataset, batch_size=20, shuffle=False)"
      ]
    },
    {
      "cell_type": "markdown",
      "metadata": {
        "id": "4fYkkATG7Ojq"
      },
      "source": [
        "### Train CNN "
      ]
    },
    {
      "cell_type": "code",
      "execution_count": 61,
      "metadata": {
        "id": "-U-Kcwa57Tfw"
      },
      "outputs": [],
      "source": [
        "'''\n",
        "Parameters\n",
        "'''\n",
        "# Define our hyperparameter values\n",
        "cnn_epochs = 50\n",
        "cnn_lr = 0.01\n",
        "cnn_batch_size = 30\n",
        "\n",
        "'''\n",
        "Net\n",
        "\n",
        "'''\n",
        "\n",
        "cnn_net = nn.Sequential(\n",
        "    \n",
        "    nn.Conv2d(1, 16, kernel_size = 3, stride = 1, padding = \"same\"), nn.ReLU(),\n",
        "\n",
        "    nn.MaxPool2d(kernel_size=3, stride=3),\n",
        "\n",
        "    nn.Conv2d(16, 32, kernel_size = 3, stride = 1, padding = \"same\"), nn.ReLU(),\n",
        "\n",
        "    nn.MaxPool2d(kernel_size=3, stride=3),\n",
        "\n",
        "    nn.Conv2d(32, 64, kernel_size = 3, stride = 1, padding = \"same\"), nn.ReLU(),\n",
        "\n",
        "    nn.MaxPool2d(kernel_size=3, stride=3),\n",
        "\n",
        "    nn.Conv2d(64,128, kernel_size = 3, stride = 1, padding = \"same\"), nn.ReLU(),\n",
        "\n",
        "    nn.MaxPool2d(kernel_size = 3, stride = 3),\n",
        "\n",
        "    nn.Conv2d(128, 64, kernel_size = 3, stride = 1, padding = \"same\"), nn.ReLU(),\n",
        "\n",
        "    nn.Flatten(),\n",
        "\n",
        "    nn.Linear(512, 64), nn.Dropout(0.2), nn.ReLU(),\n",
        "\n",
        "    nn.Linear(64,10)\n",
        "\n",
        ")"
      ]
    },
    {
      "cell_type": "code",
      "execution_count": 62,
      "metadata": {
        "colab": {
          "base_uri": "https://localhost:8080/",
          "height": 303
        },
        "id": "l1jAU7PG72W3",
        "outputId": "9fc220e1-6124-4d09-e738-f521c02989ca"
      },
      "outputs": [
        {
          "output_type": "stream",
          "name": "stdout",
          "text": [
            "loss 0.030, train acc 0.996, test acc 0.590\n",
            "1099.0 examples/sec on cuda:0\n"
          ]
        },
        {
          "output_type": "display_data",
          "data": {
            "text/plain": [
              "<Figure size 350x250 with 1 Axes>"
            ],
            "image/svg+xml": "<?xml version=\"1.0\" encoding=\"utf-8\" standalone=\"no\"?>\n<!DOCTYPE svg PUBLIC \"-//W3C//DTD SVG 1.1//EN\"\n  \"http://www.w3.org/Graphics/SVG/1.1/DTD/svg11.dtd\">\n<svg xmlns:xlink=\"http://www.w3.org/1999/xlink\" width=\"229.425pt\" height=\"183.35625pt\" viewBox=\"0 0 229.425 183.35625\" xmlns=\"http://www.w3.org/2000/svg\" version=\"1.1\">\n <metadata>\n  <rdf:RDF xmlns:dc=\"http://purl.org/dc/elements/1.1/\" xmlns:cc=\"http://creativecommons.org/ns#\" xmlns:rdf=\"http://www.w3.org/1999/02/22-rdf-syntax-ns#\">\n   <cc:Work>\n    <dc:type rdf:resource=\"http://purl.org/dc/dcmitype/StillImage\"/>\n    <dc:date>2023-04-14T12:57:11.816157</dc:date>\n    <dc:format>image/svg+xml</dc:format>\n    <dc:creator>\n     <cc:Agent>\n      <dc:title>Matplotlib v3.5.1, https://matplotlib.org/</dc:title>\n     </cc:Agent>\n    </dc:creator>\n   </cc:Work>\n  </rdf:RDF>\n </metadata>\n <defs>\n  <style type=\"text/css\">*{stroke-linejoin: round; stroke-linecap: butt}</style>\n </defs>\n <g id=\"figure_1\">\n  <g id=\"patch_1\">\n   <path d=\"M 0 183.35625 \nL 229.425 183.35625 \nL 229.425 0 \nL 0 0 \nz\n\" style=\"fill: #ffffff\"/>\n  </g>\n  <g id=\"axes_1\">\n   <g id=\"patch_2\">\n    <path d=\"M 20.5625 145.8 \nL 215.8625 145.8 \nL 215.8625 7.2 \nL 20.5625 7.2 \nz\n\" style=\"fill: #ffffff\"/>\n   </g>\n   <g id=\"matplotlib.axis_1\">\n    <g id=\"xtick_1\">\n     <g id=\"line2d_1\">\n      <path d=\"M 56.433929 145.8 \nL 56.433929 7.2 \n\" clip-path=\"url(#p2e2fd05373)\" style=\"fill: none; stroke: #b0b0b0; stroke-width: 0.8; stroke-linecap: square\"/>\n     </g>\n     <g id=\"line2d_2\">\n      <defs>\n       <path id=\"m85985270b9\" d=\"M 0 0 \nL 0 3.5 \n\" style=\"stroke: #000000; stroke-width: 0.8\"/>\n      </defs>\n      <g>\n       <use xlink:href=\"#m85985270b9\" x=\"56.433929\" y=\"145.8\" style=\"stroke: #000000; stroke-width: 0.8\"/>\n      </g>\n     </g>\n     <g id=\"text_1\">\n      <!-- 10 -->\n      <g transform=\"translate(50.071429 160.398438)scale(0.1 -0.1)\">\n       <defs>\n        <path id=\"DejaVuSans-31\" d=\"M 794 531 \nL 1825 531 \nL 1825 4091 \nL 703 3866 \nL 703 4441 \nL 1819 4666 \nL 2450 4666 \nL 2450 531 \nL 3481 531 \nL 3481 0 \nL 794 0 \nL 794 531 \nz\n\" transform=\"scale(0.015625)\"/>\n        <path id=\"DejaVuSans-30\" d=\"M 2034 4250 \nQ 1547 4250 1301 3770 \nQ 1056 3291 1056 2328 \nQ 1056 1369 1301 889 \nQ 1547 409 2034 409 \nQ 2525 409 2770 889 \nQ 3016 1369 3016 2328 \nQ 3016 3291 2770 3770 \nQ 2525 4250 2034 4250 \nz\nM 2034 4750 \nQ 2819 4750 3233 4129 \nQ 3647 3509 3647 2328 \nQ 3647 1150 3233 529 \nQ 2819 -91 2034 -91 \nQ 1250 -91 836 529 \nQ 422 1150 422 2328 \nQ 422 3509 836 4129 \nQ 1250 4750 2034 4750 \nz\n\" transform=\"scale(0.015625)\"/>\n       </defs>\n       <use xlink:href=\"#DejaVuSans-31\"/>\n       <use xlink:href=\"#DejaVuSans-30\" x=\"63.623047\"/>\n      </g>\n     </g>\n    </g>\n    <g id=\"xtick_2\">\n     <g id=\"line2d_3\">\n      <path d=\"M 96.291071 145.8 \nL 96.291071 7.2 \n\" clip-path=\"url(#p2e2fd05373)\" style=\"fill: none; stroke: #b0b0b0; stroke-width: 0.8; stroke-linecap: square\"/>\n     </g>\n     <g id=\"line2d_4\">\n      <g>\n       <use xlink:href=\"#m85985270b9\" x=\"96.291071\" y=\"145.8\" style=\"stroke: #000000; stroke-width: 0.8\"/>\n      </g>\n     </g>\n     <g id=\"text_2\">\n      <!-- 20 -->\n      <g transform=\"translate(89.928571 160.398438)scale(0.1 -0.1)\">\n       <defs>\n        <path id=\"DejaVuSans-32\" d=\"M 1228 531 \nL 3431 531 \nL 3431 0 \nL 469 0 \nL 469 531 \nQ 828 903 1448 1529 \nQ 2069 2156 2228 2338 \nQ 2531 2678 2651 2914 \nQ 2772 3150 2772 3378 \nQ 2772 3750 2511 3984 \nQ 2250 4219 1831 4219 \nQ 1534 4219 1204 4116 \nQ 875 4013 500 3803 \nL 500 4441 \nQ 881 4594 1212 4672 \nQ 1544 4750 1819 4750 \nQ 2544 4750 2975 4387 \nQ 3406 4025 3406 3419 \nQ 3406 3131 3298 2873 \nQ 3191 2616 2906 2266 \nQ 2828 2175 2409 1742 \nQ 1991 1309 1228 531 \nz\n\" transform=\"scale(0.015625)\"/>\n       </defs>\n       <use xlink:href=\"#DejaVuSans-32\"/>\n       <use xlink:href=\"#DejaVuSans-30\" x=\"63.623047\"/>\n      </g>\n     </g>\n    </g>\n    <g id=\"xtick_3\">\n     <g id=\"line2d_5\">\n      <path d=\"M 136.148214 145.8 \nL 136.148214 7.2 \n\" clip-path=\"url(#p2e2fd05373)\" style=\"fill: none; stroke: #b0b0b0; stroke-width: 0.8; stroke-linecap: square\"/>\n     </g>\n     <g id=\"line2d_6\">\n      <g>\n       <use xlink:href=\"#m85985270b9\" x=\"136.148214\" y=\"145.8\" style=\"stroke: #000000; stroke-width: 0.8\"/>\n      </g>\n     </g>\n     <g id=\"text_3\">\n      <!-- 30 -->\n      <g transform=\"translate(129.785714 160.398438)scale(0.1 -0.1)\">\n       <defs>\n        <path id=\"DejaVuSans-33\" d=\"M 2597 2516 \nQ 3050 2419 3304 2112 \nQ 3559 1806 3559 1356 \nQ 3559 666 3084 287 \nQ 2609 -91 1734 -91 \nQ 1441 -91 1130 -33 \nQ 819 25 488 141 \nL 488 750 \nQ 750 597 1062 519 \nQ 1375 441 1716 441 \nQ 2309 441 2620 675 \nQ 2931 909 2931 1356 \nQ 2931 1769 2642 2001 \nQ 2353 2234 1838 2234 \nL 1294 2234 \nL 1294 2753 \nL 1863 2753 \nQ 2328 2753 2575 2939 \nQ 2822 3125 2822 3475 \nQ 2822 3834 2567 4026 \nQ 2313 4219 1838 4219 \nQ 1578 4219 1281 4162 \nQ 984 4106 628 3988 \nL 628 4550 \nQ 988 4650 1302 4700 \nQ 1616 4750 1894 4750 \nQ 2613 4750 3031 4423 \nQ 3450 4097 3450 3541 \nQ 3450 3153 3228 2886 \nQ 3006 2619 2597 2516 \nz\n\" transform=\"scale(0.015625)\"/>\n       </defs>\n       <use xlink:href=\"#DejaVuSans-33\"/>\n       <use xlink:href=\"#DejaVuSans-30\" x=\"63.623047\"/>\n      </g>\n     </g>\n    </g>\n    <g id=\"xtick_4\">\n     <g id=\"line2d_7\">\n      <path d=\"M 176.005357 145.8 \nL 176.005357 7.2 \n\" clip-path=\"url(#p2e2fd05373)\" style=\"fill: none; stroke: #b0b0b0; stroke-width: 0.8; stroke-linecap: square\"/>\n     </g>\n     <g id=\"line2d_8\">\n      <g>\n       <use xlink:href=\"#m85985270b9\" x=\"176.005357\" y=\"145.8\" style=\"stroke: #000000; stroke-width: 0.8\"/>\n      </g>\n     </g>\n     <g id=\"text_4\">\n      <!-- 40 -->\n      <g transform=\"translate(169.642857 160.398438)scale(0.1 -0.1)\">\n       <defs>\n        <path id=\"DejaVuSans-34\" d=\"M 2419 4116 \nL 825 1625 \nL 2419 1625 \nL 2419 4116 \nz\nM 2253 4666 \nL 3047 4666 \nL 3047 1625 \nL 3713 1625 \nL 3713 1100 \nL 3047 1100 \nL 3047 0 \nL 2419 0 \nL 2419 1100 \nL 313 1100 \nL 313 1709 \nL 2253 4666 \nz\n\" transform=\"scale(0.015625)\"/>\n       </defs>\n       <use xlink:href=\"#DejaVuSans-34\"/>\n       <use xlink:href=\"#DejaVuSans-30\" x=\"63.623047\"/>\n      </g>\n     </g>\n    </g>\n    <g id=\"xtick_5\">\n     <g id=\"line2d_9\">\n      <path d=\"M 215.8625 145.8 \nL 215.8625 7.2 \n\" clip-path=\"url(#p2e2fd05373)\" style=\"fill: none; stroke: #b0b0b0; stroke-width: 0.8; stroke-linecap: square\"/>\n     </g>\n     <g id=\"line2d_10\">\n      <g>\n       <use xlink:href=\"#m85985270b9\" x=\"215.8625\" y=\"145.8\" style=\"stroke: #000000; stroke-width: 0.8\"/>\n      </g>\n     </g>\n     <g id=\"text_5\">\n      <!-- 50 -->\n      <g transform=\"translate(209.5 160.398438)scale(0.1 -0.1)\">\n       <defs>\n        <path id=\"DejaVuSans-35\" d=\"M 691 4666 \nL 3169 4666 \nL 3169 4134 \nL 1269 4134 \nL 1269 2991 \nQ 1406 3038 1543 3061 \nQ 1681 3084 1819 3084 \nQ 2600 3084 3056 2656 \nQ 3513 2228 3513 1497 \nQ 3513 744 3044 326 \nQ 2575 -91 1722 -91 \nQ 1428 -91 1123 -41 \nQ 819 9 494 109 \nL 494 744 \nQ 775 591 1075 516 \nQ 1375 441 1709 441 \nQ 2250 441 2565 725 \nQ 2881 1009 2881 1497 \nQ 2881 1984 2565 2268 \nQ 2250 2553 1709 2553 \nQ 1456 2553 1204 2497 \nQ 953 2441 691 2322 \nL 691 4666 \nz\n\" transform=\"scale(0.015625)\"/>\n       </defs>\n       <use xlink:href=\"#DejaVuSans-35\"/>\n       <use xlink:href=\"#DejaVuSans-30\" x=\"63.623047\"/>\n      </g>\n     </g>\n    </g>\n    <g id=\"text_6\">\n     <!-- epoch -->\n     <g transform=\"translate(102.984375 174.076563)scale(0.1 -0.1)\">\n      <defs>\n       <path id=\"DejaVuSans-65\" d=\"M 3597 1894 \nL 3597 1613 \nL 953 1613 \nQ 991 1019 1311 708 \nQ 1631 397 2203 397 \nQ 2534 397 2845 478 \nQ 3156 559 3463 722 \nL 3463 178 \nQ 3153 47 2828 -22 \nQ 2503 -91 2169 -91 \nQ 1331 -91 842 396 \nQ 353 884 353 1716 \nQ 353 2575 817 3079 \nQ 1281 3584 2069 3584 \nQ 2775 3584 3186 3129 \nQ 3597 2675 3597 1894 \nz\nM 3022 2063 \nQ 3016 2534 2758 2815 \nQ 2500 3097 2075 3097 \nQ 1594 3097 1305 2825 \nQ 1016 2553 972 2059 \nL 3022 2063 \nz\n\" transform=\"scale(0.015625)\"/>\n       <path id=\"DejaVuSans-70\" d=\"M 1159 525 \nL 1159 -1331 \nL 581 -1331 \nL 581 3500 \nL 1159 3500 \nL 1159 2969 \nQ 1341 3281 1617 3432 \nQ 1894 3584 2278 3584 \nQ 2916 3584 3314 3078 \nQ 3713 2572 3713 1747 \nQ 3713 922 3314 415 \nQ 2916 -91 2278 -91 \nQ 1894 -91 1617 61 \nQ 1341 213 1159 525 \nz\nM 3116 1747 \nQ 3116 2381 2855 2742 \nQ 2594 3103 2138 3103 \nQ 1681 3103 1420 2742 \nQ 1159 2381 1159 1747 \nQ 1159 1113 1420 752 \nQ 1681 391 2138 391 \nQ 2594 391 2855 752 \nQ 3116 1113 3116 1747 \nz\n\" transform=\"scale(0.015625)\"/>\n       <path id=\"DejaVuSans-6f\" d=\"M 1959 3097 \nQ 1497 3097 1228 2736 \nQ 959 2375 959 1747 \nQ 959 1119 1226 758 \nQ 1494 397 1959 397 \nQ 2419 397 2687 759 \nQ 2956 1122 2956 1747 \nQ 2956 2369 2687 2733 \nQ 2419 3097 1959 3097 \nz\nM 1959 3584 \nQ 2709 3584 3137 3096 \nQ 3566 2609 3566 1747 \nQ 3566 888 3137 398 \nQ 2709 -91 1959 -91 \nQ 1206 -91 779 398 \nQ 353 888 353 1747 \nQ 353 2609 779 3096 \nQ 1206 3584 1959 3584 \nz\n\" transform=\"scale(0.015625)\"/>\n       <path id=\"DejaVuSans-63\" d=\"M 3122 3366 \nL 3122 2828 \nQ 2878 2963 2633 3030 \nQ 2388 3097 2138 3097 \nQ 1578 3097 1268 2742 \nQ 959 2388 959 1747 \nQ 959 1106 1268 751 \nQ 1578 397 2138 397 \nQ 2388 397 2633 464 \nQ 2878 531 3122 666 \nL 3122 134 \nQ 2881 22 2623 -34 \nQ 2366 -91 2075 -91 \nQ 1284 -91 818 406 \nQ 353 903 353 1747 \nQ 353 2603 823 3093 \nQ 1294 3584 2113 3584 \nQ 2378 3584 2631 3529 \nQ 2884 3475 3122 3366 \nz\n\" transform=\"scale(0.015625)\"/>\n       <path id=\"DejaVuSans-68\" d=\"M 3513 2113 \nL 3513 0 \nL 2938 0 \nL 2938 2094 \nQ 2938 2591 2744 2837 \nQ 2550 3084 2163 3084 \nQ 1697 3084 1428 2787 \nQ 1159 2491 1159 1978 \nL 1159 0 \nL 581 0 \nL 581 4863 \nL 1159 4863 \nL 1159 2956 \nQ 1366 3272 1645 3428 \nQ 1925 3584 2291 3584 \nQ 2894 3584 3203 3211 \nQ 3513 2838 3513 2113 \nz\n\" transform=\"scale(0.015625)\"/>\n      </defs>\n      <use xlink:href=\"#DejaVuSans-65\"/>\n      <use xlink:href=\"#DejaVuSans-70\" x=\"61.523438\"/>\n      <use xlink:href=\"#DejaVuSans-6f\" x=\"125\"/>\n      <use xlink:href=\"#DejaVuSans-63\" x=\"186.181641\"/>\n      <use xlink:href=\"#DejaVuSans-68\" x=\"241.162109\"/>\n     </g>\n    </g>\n   </g>\n   <g id=\"matplotlib.axis_2\">\n    <g id=\"ytick_1\">\n     <g id=\"line2d_11\">\n      <path d=\"M 20.5625 140.168283 \nL 215.8625 140.168283 \n\" clip-path=\"url(#p2e2fd05373)\" style=\"fill: none; stroke: #b0b0b0; stroke-width: 0.8; stroke-linecap: square\"/>\n     </g>\n     <g id=\"line2d_12\">\n      <defs>\n       <path id=\"macc88d6640\" d=\"M 0 0 \nL -3.5 0 \n\" style=\"stroke: #000000; stroke-width: 0.8\"/>\n      </defs>\n      <g>\n       <use xlink:href=\"#macc88d6640\" x=\"20.5625\" y=\"140.168283\" style=\"stroke: #000000; stroke-width: 0.8\"/>\n      </g>\n     </g>\n     <g id=\"text_7\">\n      <!-- 0 -->\n      <g transform=\"translate(7.2 143.967502)scale(0.1 -0.1)\">\n       <use xlink:href=\"#DejaVuSans-30\"/>\n      </g>\n     </g>\n    </g>\n    <g id=\"ytick_2\">\n     <g id=\"line2d_13\">\n      <path d=\"M 20.5625 111.065096 \nL 215.8625 111.065096 \n\" clip-path=\"url(#p2e2fd05373)\" style=\"fill: none; stroke: #b0b0b0; stroke-width: 0.8; stroke-linecap: square\"/>\n     </g>\n     <g id=\"line2d_14\">\n      <g>\n       <use xlink:href=\"#macc88d6640\" x=\"20.5625\" y=\"111.065096\" style=\"stroke: #000000; stroke-width: 0.8\"/>\n      </g>\n     </g>\n     <g id=\"text_8\">\n      <!-- 1 -->\n      <g transform=\"translate(7.2 114.864315)scale(0.1 -0.1)\">\n       <use xlink:href=\"#DejaVuSans-31\"/>\n      </g>\n     </g>\n    </g>\n    <g id=\"ytick_3\">\n     <g id=\"line2d_15\">\n      <path d=\"M 20.5625 81.96191 \nL 215.8625 81.96191 \n\" clip-path=\"url(#p2e2fd05373)\" style=\"fill: none; stroke: #b0b0b0; stroke-width: 0.8; stroke-linecap: square\"/>\n     </g>\n     <g id=\"line2d_16\">\n      <g>\n       <use xlink:href=\"#macc88d6640\" x=\"20.5625\" y=\"81.96191\" style=\"stroke: #000000; stroke-width: 0.8\"/>\n      </g>\n     </g>\n     <g id=\"text_9\">\n      <!-- 2 -->\n      <g transform=\"translate(7.2 85.761129)scale(0.1 -0.1)\">\n       <use xlink:href=\"#DejaVuSans-32\"/>\n      </g>\n     </g>\n    </g>\n    <g id=\"ytick_4\">\n     <g id=\"line2d_17\">\n      <path d=\"M 20.5625 52.858723 \nL 215.8625 52.858723 \n\" clip-path=\"url(#p2e2fd05373)\" style=\"fill: none; stroke: #b0b0b0; stroke-width: 0.8; stroke-linecap: square\"/>\n     </g>\n     <g id=\"line2d_18\">\n      <g>\n       <use xlink:href=\"#macc88d6640\" x=\"20.5625\" y=\"52.858723\" style=\"stroke: #000000; stroke-width: 0.8\"/>\n      </g>\n     </g>\n     <g id=\"text_10\">\n      <!-- 3 -->\n      <g transform=\"translate(7.2 56.657942)scale(0.1 -0.1)\">\n       <use xlink:href=\"#DejaVuSans-33\"/>\n      </g>\n     </g>\n    </g>\n    <g id=\"ytick_5\">\n     <g id=\"line2d_19\">\n      <path d=\"M 20.5625 23.755537 \nL 215.8625 23.755537 \n\" clip-path=\"url(#p2e2fd05373)\" style=\"fill: none; stroke: #b0b0b0; stroke-width: 0.8; stroke-linecap: square\"/>\n     </g>\n     <g id=\"line2d_20\">\n      <g>\n       <use xlink:href=\"#macc88d6640\" x=\"20.5625\" y=\"23.755537\" style=\"stroke: #000000; stroke-width: 0.8\"/>\n      </g>\n     </g>\n     <g id=\"text_11\">\n      <!-- 4 -->\n      <g transform=\"translate(7.2 27.554755)scale(0.1 -0.1)\">\n       <use xlink:href=\"#DejaVuSans-34\"/>\n      </g>\n     </g>\n    </g>\n   </g>\n   <g id=\"line2d_21\">\n    <path d=\"M 17.373929 13.5 \nL 18.171071 43.408896 \nL 18.968214 53.321647 \nL 19.765357 58.256104 \nL 20.5625 61.238261 \nL 21.359643 73.833926 \nL 22.156786 73.82705 \nL 23.751071 74.198297 \nL 24.548214 74.11428 \nL 25.345357 75.056946 \nL 26.1425 75.200831 \nL 27.736786 75.936073 \nL 28.533929 75.621605 \nL 29.331071 77.983102 \nL 30.128214 78.455452 \nL 31.7225 77.829367 \nL 32.519643 78.570799 \nL 33.316786 75.143118 \nL 34.113929 77.640772 \nL 34.911071 77.704877 \nL 35.708214 78.631497 \nL 36.505357 78.704223 \nL 37.3025 80.952562 \nL 38.896786 81.286673 \nL 39.693929 82.817882 \nL 40.491071 82.95637 \nL 41.288214 84.839088 \nL 42.085357 85.213701 \nL 42.8825 86.963871 \nL 43.679643 86.986135 \nL 44.476786 85.220871 \nL 45.273929 87.831622 \nL 46.071071 86.559426 \nL 47.665357 86.746405 \nL 48.4625 87.496454 \nL 49.259643 85.065689 \nL 50.056786 84.632035 \nL 50.853929 86.925433 \nL 51.651071 87.604795 \nL 52.448214 88.514314 \nL 53.245357 87.862659 \nL 54.839643 91.925609 \nL 55.636786 88.24912 \nL 56.433929 89.167837 \nL 57.231071 95.181722 \nL 58.028214 92.29825 \nL 58.825357 93.81306 \nL 59.6225 94.54333 \nL 61.216786 92.537984 \nL 62.013929 94.142584 \nL 63.608214 94.962965 \nL 64.405357 95.479686 \nL 65.2025 92.697853 \nL 65.999643 92.860408 \nL 66.796786 94.058532 \nL 68.391071 95.68659 \nL 69.188214 103.293026 \nL 69.985357 98.55302 \nL 70.7825 99.796503 \nL 71.579643 99.607966 \nL 72.376786 99.894439 \nL 73.173929 102.133579 \nL 73.971071 98.396873 \nL 74.768214 99.589256 \nL 75.565357 98.606358 \nL 76.3625 98.954659 \nL 77.159643 99.723261 \nL 77.956786 98.96082 \nL 78.753929 99.524801 \nL 79.551071 98.930407 \nL 80.348214 99.434901 \nL 81.145357 102.238758 \nL 81.9425 101.18651 \nL 82.739643 100.869775 \nL 83.536786 100.820284 \nL 84.333929 101.095796 \nL 85.131071 111.079665 \nL 85.928214 104.388319 \nL 87.5225 104.090355 \nL 88.319643 103.541665 \nL 89.116786 106.951805 \nL 90.711071 107.503819 \nL 91.508214 106.298823 \nL 92.305357 105.855057 \nL 93.1025 102.216675 \nL 93.899643 105.83408 \nL 94.696786 105.487026 \nL 95.493929 105.824863 \nL 96.291071 106.60495 \nL 97.088214 100.14738 \nL 97.885357 106.440346 \nL 98.6825 107.686063 \nL 99.479643 108.658898 \nL 100.276786 108.622573 \nL 101.073929 110.387605 \nL 101.871071 108.200097 \nL 102.668214 110.031426 \nL 103.465357 110.72077 \nL 104.2625 109.912107 \nL 105.059643 115.316273 \nL 105.856786 113.26187 \nL 107.451071 111.966694 \nL 108.248214 113.554913 \nL 109.045357 110.225979 \nL 109.8425 109.267558 \nL 110.639643 111.752337 \nL 111.436786 113.289566 \nL 112.233929 113.758078 \nL 113.031071 120.232138 \nL 114.625357 115.212709 \nL 115.4225 116.290533 \nL 116.219643 116.720463 \nL 117.016786 111.0981 \nL 117.813929 113.200837 \nL 118.611071 114.269678 \nL 119.408214 116.18895 \nL 120.205357 116.858275 \nL 121.0025 120.194597 \nL 121.799643 117.806911 \nL 122.596786 118.997475 \nL 123.393929 119.818345 \nL 124.191071 119.108469 \nL 124.988214 126.067643 \nL 125.785357 125.877996 \nL 126.5825 125.014948 \nL 127.379643 123.542361 \nL 128.176786 123.826797 \nL 128.973929 126.876616 \nL 129.771071 128.467618 \nL 130.568214 122.789838 \nL 131.365357 122.790298 \nL 132.1625 123.606383 \nL 132.959643 129.242449 \nL 133.756786 127.824704 \nL 134.553929 127.102848 \nL 135.351071 125.350409 \nL 136.148214 125.726541 \nL 136.945357 127.775989 \nL 137.7425 109.153276 \nL 138.539643 107.290427 \nL 139.336786 108.401252 \nL 140.133929 111.240836 \nL 140.931071 123.650322 \nL 141.728214 124.05375 \nL 142.525357 126.400574 \nL 143.3225 124.440844 \nL 144.119643 125.054637 \nL 144.916786 131.486408 \nL 145.713929 132.83807 \nL 146.511071 131.910599 \nL 147.308214 125.432909 \nL 148.105357 126.363488 \nL 148.9025 131.506789 \nL 149.699643 132.262912 \nL 150.496786 131.617395 \nL 151.293929 131.682606 \nL 152.091071 131.401098 \nL 152.888214 134.340493 \nL 153.685357 135.551311 \nL 154.4825 133.59444 \nL 155.279643 134.065232 \nL 156.076786 133.911061 \nL 156.873929 134.681142 \nL 157.671071 132.852735 \nL 160.0625 133.854011 \nL 160.859643 133.753728 \nL 161.656786 134.862367 \nL 162.453929 134.988799 \nL 163.251071 135.681178 \nL 164.845357 135.928172 \nL 165.6425 135.756282 \nL 166.439643 136.694457 \nL 167.236786 135.576584 \nL 168.033929 133.587788 \nL 168.831071 135.52843 \nL 169.628214 135.649807 \nL 170.425357 136.259011 \nL 171.2225 135.777846 \nL 172.019643 135.656947 \nL 172.816786 129.803674 \nL 173.613929 131.939068 \nL 174.411071 133.563805 \nL 176.005357 135.212785 \nL 176.8025 137.782199 \nL 177.599643 138.551239 \nL 178.396786 138.231133 \nL 179.193929 138.24586 \nL 179.991071 137.825141 \nL 180.788214 131.77351 \nL 181.585357 133.937516 \nL 183.976786 135.747501 \nL 184.773929 139.049321 \nL 185.571071 139.221557 \nL 186.368214 139.262103 \nL 187.9625 139.112557 \nL 188.759643 137.914411 \nL 189.556786 137.49609 \nL 190.353929 137.421259 \nL 191.151071 137.798097 \nL 191.948214 137.938747 \nL 192.745357 137.964936 \nL 193.5425 138.270432 \nL 194.339643 137.4027 \nL 195.136786 137.568471 \nL 195.933929 137.873009 \nL 196.731071 139.475442 \nL 197.528214 139.399084 \nL 198.325357 138.919668 \nL 199.1225 135.01949 \nL 199.919643 135.36788 \nL 200.716786 137.900693 \nL 201.513929 135.958098 \nL 202.311071 136.822731 \nL 203.108214 136.880644 \nL 203.905357 137.262322 \nL 204.7025 139.5 \nL 205.499643 138.96623 \nL 206.296786 139.050308 \nL 207.093929 138.762522 \nL 207.891071 138.863254 \nL 208.688214 138.376208 \nL 210.2825 138.630758 \nL 211.079643 138.54002 \nL 212.673929 138.763349 \nL 213.471071 139.199037 \nL 215.8625 139.282415 \nL 215.8625 139.282415 \n\" clip-path=\"url(#p2e2fd05373)\" style=\"fill: none; stroke: #1f77b4; stroke-width: 1.5; stroke-linecap: square\"/>\n   </g>\n   <g id=\"line2d_22\">\n    <path d=\"M 17.373929 137.803649 \nL 18.171071 137.348912 \nL 20.5625 137.545718 \nL 21.359643 136.166595 \nL 22.156786 136.439437 \nL 22.953929 136.591016 \nL 23.751071 136.34849 \nL 24.548214 136.562256 \nL 26.1425 136.439437 \nL 27.736786 135.484489 \nL 28.533929 135.469521 \nL 29.331071 133.438171 \nL 30.128214 133.165329 \nL 30.925357 133.862592 \nL 31.7225 134.165751 \nL 33.316786 133.620066 \nL 34.113929 132.983434 \nL 34.911071 133.438171 \nL 35.708214 132.983434 \nL 36.505357 133.174776 \nL 37.3025 131.983012 \nL 38.099643 132.528696 \nL 38.896786 132.710591 \nL 40.491071 131.827069 \nL 41.288214 131.437327 \nL 42.085357 131.346379 \nL 42.8825 130.891642 \nL 43.679643 130.709747 \nL 44.476786 131.02573 \nL 45.273929 129.436483 \nL 46.071071 130.6188 \nL 46.868214 131.1948 \nL 47.665357 130.709747 \nL 48.4625 130.370089 \nL 49.259643 130.345957 \nL 50.056786 130.800695 \nL 50.853929 129.982168 \nL 51.651071 129.936694 \nL 52.448214 129.423051 \nL 53.245357 130.709747 \nL 54.0425 129.345535 \nL 54.839643 128.708903 \nL 55.636786 129.345535 \nL 56.433929 129.022382 \nL 57.231071 126.344269 \nL 58.028214 127.344691 \nL 58.825357 127.132481 \nL 59.6225 127.117323 \nL 61.216786 128.345113 \nL 62.811071 127.49627 \nL 63.608214 127.481113 \nL 64.405357 127.31043 \nL 65.2025 128.345113 \nL 65.999643 128.072271 \nL 66.796786 127.314376 \nL 67.593929 126.753533 \nL 68.391071 126.545515 \nL 69.188214 126.162374 \nL 69.985357 126.162374 \nL 70.7825 125.313531 \nL 71.579643 125.161952 \nL 72.376786 124.797138 \nL 73.173929 125.071005 \nL 73.971071 126.071427 \nL 74.768214 125.434795 \nL 75.565357 125.434795 \nL 76.3625 125.161383 \nL 77.956786 125.707637 \nL 79.551071 125.707637 \nL 80.348214 125.307081 \nL 81.145357 124.707215 \nL 81.9425 125.2529 \nL 83.536786 125.207426 \nL 84.333929 125.088534 \nL 85.131071 120.887422 \nL 85.928214 123.79774 \nL 87.5225 123.843214 \nL 88.319643 124.032223 \nL 89.116786 123.252056 \nL 89.913929 123.615846 \nL 90.711071 123.070161 \nL 91.508214 123.79774 \nL 93.1025 123.979635 \nL 93.899643 122.797318 \nL 94.696786 123.252056 \nL 95.493929 123.115635 \nL 96.291071 122.830214 \nL 97.088214 124.88911 \nL 97.885357 122.160686 \nL 98.6825 122.342581 \nL 99.479643 121.84237 \nL 101.073929 121.978791 \nL 101.871071 122.342581 \nL 102.668214 121.493738 \nL 103.465357 121.342159 \nL 104.2625 121.518932 \nL 105.059643 119.432262 \nL 105.856786 119.977947 \nL 106.653929 121.069317 \nL 107.451071 121.342159 \nL 108.248214 120.644743 \nL 109.045357 121.796896 \nL 109.8425 121.251212 \nL 110.639643 120.523632 \nL 111.436786 120.068895 \nL 112.233929 119.879829 \nL 113.031071 118.522788 \nL 113.828214 119.887 \nL 114.625357 120.523632 \nL 115.4225 119.750579 \nL 116.219643 119.260612 \nL 117.016786 120.887422 \nL 117.813929 119.705105 \nL 118.611071 119.492894 \nL 119.408214 118.977525 \nL 120.205357 118.969216 \nL 121.0025 119.432262 \nL 121.799643 119.250368 \nL 122.596786 118.644051 \nL 123.393929 118.340893 \nL 124.191071 118.459273 \nL 124.988214 114.702995 \nL 126.5825 115.915627 \nL 127.379643 116.203628 \nL 128.176786 116.237377 \nL 128.973929 115.430574 \nL 129.771071 114.975837 \nL 130.568214 117.006997 \nL 131.365357 116.976681 \nL 132.1625 116.565198 \nL 132.959643 114.15731 \nL 133.756786 115.066784 \nL 134.553929 115.127416 \nL 135.351071 115.794364 \nL 136.148214 115.873132 \nL 136.945357 115.066784 \nL 137.7425 118.068051 \nL 138.539643 119.674789 \nL 139.336786 119.977947 \nL 140.133929 119.369886 \nL 140.931071 115.976259 \nL 141.728214 116.249101 \nL 142.525357 115.369943 \nL 143.3225 115.976259 \nL 144.119643 115.69101 \nL 144.916786 114.339205 \nL 145.713929 113.42973 \nL 146.511071 113.672257 \nL 147.308214 115.476048 \nL 148.105357 115.253915 \nL 148.9025 113.42973 \nL 150.496786 113.975415 \nL 152.091071 114.088331 \nL 152.888214 113.06594 \nL 153.685357 112.338361 \nL 154.4825 113.06594 \nL 155.279643 112.974993 \nL 156.076786 113.177718 \nL 156.873929 112.338361 \nL 157.671071 113.247835 \nL 158.468214 113.126572 \nL 159.265357 113.156888 \nL 160.0625 112.922747 \nL 160.859643 113.06594 \nL 161.656786 112.611203 \nL 162.453929 112.520256 \nL 163.251071 112.292887 \nL 164.048214 112.230681 \nL 165.6425 112.520256 \nL 166.439643 112.035203 \nL 167.236786 112.292887 \nL 168.033929 112.922747 \nL 168.831071 112.156466 \nL 169.628214 112.338361 \nL 170.425357 112.156466 \nL 172.019643 112.412803 \nL 172.816786 114.702995 \nL 173.613929 113.79352 \nL 174.411071 113.06594 \nL 175.208214 112.656677 \nL 176.005357 112.412803 \nL 176.8025 111.610781 \nL 177.599643 111.337939 \nL 178.396786 111.489518 \nL 179.193929 111.47436 \nL 179.991071 111.793587 \nL 180.788214 114.339205 \nL 181.585357 113.338783 \nL 183.179643 112.929519 \nL 183.976786 112.667775 \nL 184.773929 111.246991 \nL 185.571071 111.337939 \nL 186.368214 111.246991 \nL 187.9625 111.320068 \nL 188.759643 111.792676 \nL 189.556786 112.065518 \nL 190.353929 112.095834 \nL 191.948214 111.757162 \nL 193.5425 111.792676 \nL 194.339643 112.095834 \nL 195.136786 112.020045 \nL 195.933929 111.830011 \nL 196.731071 111.246991 \nL 197.528214 111.246991 \nL 198.325357 111.368255 \nL 199.1225 112.611203 \nL 199.919643 112.449228 \nL 200.716786 111.974571 \nL 201.513929 112.429308 \nL 202.311071 112.156466 \nL 203.905357 111.90286 \nL 204.7025 111.065096 \nL 205.499643 111.246991 \nL 206.296786 111.246991 \nL 207.093929 111.383412 \nL 207.891071 111.320068 \nL 208.688214 111.974571 \nL 209.485357 111.701729 \nL 211.876786 111.611464 \nL 212.673929 111.246991 \nL 213.471071 111.156044 \nL 215.8625 111.17437 \nL 215.8625 111.17437 \n\" clip-path=\"url(#p2e2fd05373)\" style=\"fill: none; stroke-dasharray: 5.55,2.4; stroke-dashoffset: 0; stroke: #bf00bf; stroke-width: 1.5\"/>\n   </g>\n   <g id=\"line2d_23\">\n    <path d=\"M 20.5625 136.675901 \nL 24.548214 134.638677 \nL 28.533929 133.911098 \nL 32.519643 135.511773 \nL 36.505357 132.310423 \nL 40.491071 129.982168 \nL 44.476786 130.855263 \nL 48.4625 128.527008 \nL 52.448214 127.653913 \nL 56.433929 128.963556 \nL 60.419643 128.235976 \nL 64.405357 126.780817 \nL 68.391071 128.527008 \nL 72.376786 125.762206 \nL 76.3625 131.437327 \nL 80.348214 124.743594 \nL 84.333929 125.180142 \nL 88.319643 126.344269 \nL 92.305357 130.273199 \nL 96.291071 126.489785 \nL 100.276786 125.034626 \nL 104.2625 124.743594 \nL 108.248214 125.325658 \nL 112.233929 124.598078 \nL 116.219643 126.053237 \nL 120.205357 124.88911 \nL 124.191071 123.433951 \nL 128.176786 123.870498 \nL 132.1625 123.724982 \nL 136.148214 123.579467 \nL 140.133929 126.053237 \nL 144.119643 124.452562 \nL 148.105357 123.579467 \nL 152.091071 124.016014 \nL 156.076786 122.997403 \nL 160.0625 126.053237 \nL 164.048214 122.706371 \nL 168.033929 125.907721 \nL 172.019643 123.142919 \nL 176.005357 122.560855 \nL 179.991071 124.016014 \nL 183.976786 122.415339 \nL 187.9625 121.978791 \nL 191.948214 121.978791 \nL 195.933929 122.269823 \nL 199.919643 123.870498 \nL 203.905357 123.142919 \nL 207.891071 123.142919 \nL 211.876786 122.560855 \nL 215.8625 122.997403 \n\" clip-path=\"url(#p2e2fd05373)\" style=\"fill: none; stroke-dasharray: 9.6,2.4,1.5,2.4; stroke-dashoffset: 0; stroke: #008000; stroke-width: 1.5\"/>\n   </g>\n   <g id=\"patch_3\">\n    <path d=\"M 20.5625 145.8 \nL 20.5625 7.2 \n\" style=\"fill: none; stroke: #000000; stroke-width: 0.8; stroke-linejoin: miter; stroke-linecap: square\"/>\n   </g>\n   <g id=\"patch_4\">\n    <path d=\"M 215.8625 145.8 \nL 215.8625 7.2 \n\" style=\"fill: none; stroke: #000000; stroke-width: 0.8; stroke-linejoin: miter; stroke-linecap: square\"/>\n   </g>\n   <g id=\"patch_5\">\n    <path d=\"M 20.5625 145.8 \nL 215.8625 145.8 \n\" style=\"fill: none; stroke: #000000; stroke-width: 0.8; stroke-linejoin: miter; stroke-linecap: square\"/>\n   </g>\n   <g id=\"patch_6\">\n    <path d=\"M 20.5625 7.2 \nL 215.8625 7.2 \n\" style=\"fill: none; stroke: #000000; stroke-width: 0.8; stroke-linejoin: miter; stroke-linecap: square\"/>\n   </g>\n   <g id=\"legend_1\">\n    <g id=\"patch_7\">\n     <path d=\"M 131.09375 59.234375 \nL 208.8625 59.234375 \nQ 210.8625 59.234375 210.8625 57.234375 \nL 210.8625 14.2 \nQ 210.8625 12.2 208.8625 12.2 \nL 131.09375 12.2 \nQ 129.09375 12.2 129.09375 14.2 \nL 129.09375 57.234375 \nQ 129.09375 59.234375 131.09375 59.234375 \nz\n\" style=\"fill: #ffffff; opacity: 0.8; stroke: #cccccc; stroke-linejoin: miter\"/>\n    </g>\n    <g id=\"line2d_24\">\n     <path d=\"M 133.09375 20.298438 \nL 143.09375 20.298438 \nL 153.09375 20.298438 \n\" style=\"fill: none; stroke: #1f77b4; stroke-width: 1.5; stroke-linecap: square\"/>\n    </g>\n    <g id=\"text_12\">\n     <!-- train loss -->\n     <g transform=\"translate(161.09375 23.798438)scale(0.1 -0.1)\">\n      <defs>\n       <path id=\"DejaVuSans-74\" d=\"M 1172 4494 \nL 1172 3500 \nL 2356 3500 \nL 2356 3053 \nL 1172 3053 \nL 1172 1153 \nQ 1172 725 1289 603 \nQ 1406 481 1766 481 \nL 2356 481 \nL 2356 0 \nL 1766 0 \nQ 1100 0 847 248 \nQ 594 497 594 1153 \nL 594 3053 \nL 172 3053 \nL 172 3500 \nL 594 3500 \nL 594 4494 \nL 1172 4494 \nz\n\" transform=\"scale(0.015625)\"/>\n       <path id=\"DejaVuSans-72\" d=\"M 2631 2963 \nQ 2534 3019 2420 3045 \nQ 2306 3072 2169 3072 \nQ 1681 3072 1420 2755 \nQ 1159 2438 1159 1844 \nL 1159 0 \nL 581 0 \nL 581 3500 \nL 1159 3500 \nL 1159 2956 \nQ 1341 3275 1631 3429 \nQ 1922 3584 2338 3584 \nQ 2397 3584 2469 3576 \nQ 2541 3569 2628 3553 \nL 2631 2963 \nz\n\" transform=\"scale(0.015625)\"/>\n       <path id=\"DejaVuSans-61\" d=\"M 2194 1759 \nQ 1497 1759 1228 1600 \nQ 959 1441 959 1056 \nQ 959 750 1161 570 \nQ 1363 391 1709 391 \nQ 2188 391 2477 730 \nQ 2766 1069 2766 1631 \nL 2766 1759 \nL 2194 1759 \nz\nM 3341 1997 \nL 3341 0 \nL 2766 0 \nL 2766 531 \nQ 2569 213 2275 61 \nQ 1981 -91 1556 -91 \nQ 1019 -91 701 211 \nQ 384 513 384 1019 \nQ 384 1609 779 1909 \nQ 1175 2209 1959 2209 \nL 2766 2209 \nL 2766 2266 \nQ 2766 2663 2505 2880 \nQ 2244 3097 1772 3097 \nQ 1472 3097 1187 3025 \nQ 903 2953 641 2809 \nL 641 3341 \nQ 956 3463 1253 3523 \nQ 1550 3584 1831 3584 \nQ 2591 3584 2966 3190 \nQ 3341 2797 3341 1997 \nz\n\" transform=\"scale(0.015625)\"/>\n       <path id=\"DejaVuSans-69\" d=\"M 603 3500 \nL 1178 3500 \nL 1178 0 \nL 603 0 \nL 603 3500 \nz\nM 603 4863 \nL 1178 4863 \nL 1178 4134 \nL 603 4134 \nL 603 4863 \nz\n\" transform=\"scale(0.015625)\"/>\n       <path id=\"DejaVuSans-6e\" d=\"M 3513 2113 \nL 3513 0 \nL 2938 0 \nL 2938 2094 \nQ 2938 2591 2744 2837 \nQ 2550 3084 2163 3084 \nQ 1697 3084 1428 2787 \nQ 1159 2491 1159 1978 \nL 1159 0 \nL 581 0 \nL 581 3500 \nL 1159 3500 \nL 1159 2956 \nQ 1366 3272 1645 3428 \nQ 1925 3584 2291 3584 \nQ 2894 3584 3203 3211 \nQ 3513 2838 3513 2113 \nz\n\" transform=\"scale(0.015625)\"/>\n       <path id=\"DejaVuSans-20\" transform=\"scale(0.015625)\"/>\n       <path id=\"DejaVuSans-6c\" d=\"M 603 4863 \nL 1178 4863 \nL 1178 0 \nL 603 0 \nL 603 4863 \nz\n\" transform=\"scale(0.015625)\"/>\n       <path id=\"DejaVuSans-73\" d=\"M 2834 3397 \nL 2834 2853 \nQ 2591 2978 2328 3040 \nQ 2066 3103 1784 3103 \nQ 1356 3103 1142 2972 \nQ 928 2841 928 2578 \nQ 928 2378 1081 2264 \nQ 1234 2150 1697 2047 \nL 1894 2003 \nQ 2506 1872 2764 1633 \nQ 3022 1394 3022 966 \nQ 3022 478 2636 193 \nQ 2250 -91 1575 -91 \nQ 1294 -91 989 -36 \nQ 684 19 347 128 \nL 347 722 \nQ 666 556 975 473 \nQ 1284 391 1588 391 \nQ 1994 391 2212 530 \nQ 2431 669 2431 922 \nQ 2431 1156 2273 1281 \nQ 2116 1406 1581 1522 \nL 1381 1569 \nQ 847 1681 609 1914 \nQ 372 2147 372 2553 \nQ 372 3047 722 3315 \nQ 1072 3584 1716 3584 \nQ 2034 3584 2315 3537 \nQ 2597 3491 2834 3397 \nz\n\" transform=\"scale(0.015625)\"/>\n      </defs>\n      <use xlink:href=\"#DejaVuSans-74\"/>\n      <use xlink:href=\"#DejaVuSans-72\" x=\"39.208984\"/>\n      <use xlink:href=\"#DejaVuSans-61\" x=\"80.322266\"/>\n      <use xlink:href=\"#DejaVuSans-69\" x=\"141.601562\"/>\n      <use xlink:href=\"#DejaVuSans-6e\" x=\"169.384766\"/>\n      <use xlink:href=\"#DejaVuSans-20\" x=\"232.763672\"/>\n      <use xlink:href=\"#DejaVuSans-6c\" x=\"264.550781\"/>\n      <use xlink:href=\"#DejaVuSans-6f\" x=\"292.333984\"/>\n      <use xlink:href=\"#DejaVuSans-73\" x=\"353.515625\"/>\n      <use xlink:href=\"#DejaVuSans-73\" x=\"405.615234\"/>\n     </g>\n    </g>\n    <g id=\"line2d_25\">\n     <path d=\"M 133.09375 34.976563 \nL 143.09375 34.976563 \nL 153.09375 34.976563 \n\" style=\"fill: none; stroke-dasharray: 5.55,2.4; stroke-dashoffset: 0; stroke: #bf00bf; stroke-width: 1.5\"/>\n    </g>\n    <g id=\"text_13\">\n     <!-- train acc -->\n     <g transform=\"translate(161.09375 38.476563)scale(0.1 -0.1)\">\n      <use xlink:href=\"#DejaVuSans-74\"/>\n      <use xlink:href=\"#DejaVuSans-72\" x=\"39.208984\"/>\n      <use xlink:href=\"#DejaVuSans-61\" x=\"80.322266\"/>\n      <use xlink:href=\"#DejaVuSans-69\" x=\"141.601562\"/>\n      <use xlink:href=\"#DejaVuSans-6e\" x=\"169.384766\"/>\n      <use xlink:href=\"#DejaVuSans-20\" x=\"232.763672\"/>\n      <use xlink:href=\"#DejaVuSans-61\" x=\"264.550781\"/>\n      <use xlink:href=\"#DejaVuSans-63\" x=\"325.830078\"/>\n      <use xlink:href=\"#DejaVuSans-63\" x=\"380.810547\"/>\n     </g>\n    </g>\n    <g id=\"line2d_26\">\n     <path d=\"M 133.09375 49.654688 \nL 143.09375 49.654688 \nL 153.09375 49.654688 \n\" style=\"fill: none; stroke-dasharray: 9.6,2.4,1.5,2.4; stroke-dashoffset: 0; stroke: #008000; stroke-width: 1.5\"/>\n    </g>\n    <g id=\"text_14\">\n     <!-- test acc -->\n     <g transform=\"translate(161.09375 53.154688)scale(0.1 -0.1)\">\n      <use xlink:href=\"#DejaVuSans-74\"/>\n      <use xlink:href=\"#DejaVuSans-65\" x=\"39.208984\"/>\n      <use xlink:href=\"#DejaVuSans-73\" x=\"100.732422\"/>\n      <use xlink:href=\"#DejaVuSans-74\" x=\"152.832031\"/>\n      <use xlink:href=\"#DejaVuSans-20\" x=\"192.041016\"/>\n      <use xlink:href=\"#DejaVuSans-61\" x=\"223.828125\"/>\n      <use xlink:href=\"#DejaVuSans-63\" x=\"285.107422\"/>\n      <use xlink:href=\"#DejaVuSans-63\" x=\"340.087891\"/>\n     </g>\n    </g>\n   </g>\n  </g>\n </g>\n <defs>\n  <clipPath id=\"p2e2fd05373\">\n   <rect x=\"20.5625\" y=\"7.2\" width=\"195.3\" height=\"138.6\"/>\n  </clipPath>\n </defs>\n</svg>\n"
          },
          "metadata": {}
        }
      ],
      "source": [
        "d2l.train_ch6(cnn_net, train_loader, test_loader, cnn_epochs, cnn_lr, d2l.try_gpu())"
      ]
    },
    {
      "cell_type": "markdown",
      "metadata": {
        "id": "0B82cQo18A1D"
      },
      "source": [
        "### MLP Training"
      ]
    },
    {
      "cell_type": "code",
      "execution_count": 96,
      "metadata": {
        "id": "tFeOQZST8CXu"
      },
      "outputs": [],
      "source": [
        "mlp_model = nn.Sequential(\n",
        "    nn.Flatten(),\n",
        "    nn.Linear(57, 32), nn.ReLU(), nn.Dropout(0.25),\n",
        "    nn.Linear(32, 16), nn.ReLU(), nn.Dropout(0.25),\n",
        "    nn.Linear(16, 10)\n",
        ")\n",
        "\n",
        "loss = nn.CrossEntropyLoss()\n",
        "trainer = torch.optim.SGD(mlp_model.parameters(), lr=0.1)\n",
        "meta_epochs = 50"
      ]
    },
    {
      "cell_type": "code",
      "execution_count": 97,
      "metadata": {
        "colab": {
          "base_uri": "https://localhost:8080/",
          "height": 267
        },
        "id": "-ROKaBv58SyL",
        "outputId": "15f886a4-438b-40c3-95af-739540354911"
      },
      "outputs": [
        {
          "output_type": "display_data",
          "data": {
            "text/plain": [
              "<Figure size 350x250 with 1 Axes>"
            ],
            "image/svg+xml": "<?xml version=\"1.0\" encoding=\"utf-8\" standalone=\"no\"?>\n<!DOCTYPE svg PUBLIC \"-//W3C//DTD SVG 1.1//EN\"\n  \"http://www.w3.org/Graphics/SVG/1.1/DTD/svg11.dtd\">\n<svg xmlns:xlink=\"http://www.w3.org/1999/xlink\" width=\"238.965625pt\" height=\"183.35625pt\" viewBox=\"0 0 238.965625 183.35625\" xmlns=\"http://www.w3.org/2000/svg\" version=\"1.1\">\n <metadata>\n  <rdf:RDF xmlns:dc=\"http://purl.org/dc/elements/1.1/\" xmlns:cc=\"http://creativecommons.org/ns#\" xmlns:rdf=\"http://www.w3.org/1999/02/22-rdf-syntax-ns#\">\n   <cc:Work>\n    <dc:type rdf:resource=\"http://purl.org/dc/dcmitype/StillImage\"/>\n    <dc:date>2023-04-14T13:24:15.327721</dc:date>\n    <dc:format>image/svg+xml</dc:format>\n    <dc:creator>\n     <cc:Agent>\n      <dc:title>Matplotlib v3.5.1, https://matplotlib.org/</dc:title>\n     </cc:Agent>\n    </dc:creator>\n   </cc:Work>\n  </rdf:RDF>\n </metadata>\n <defs>\n  <style type=\"text/css\">*{stroke-linejoin: round; stroke-linecap: butt}</style>\n </defs>\n <g id=\"figure_1\">\n  <g id=\"patch_1\">\n   <path d=\"M 0 183.35625 \nL 238.965625 183.35625 \nL 238.965625 0 \nL 0 0 \nz\n\" style=\"fill: #ffffff\"/>\n  </g>\n  <g id=\"axes_1\">\n   <g id=\"patch_2\">\n    <path d=\"M 30.103125 145.8 \nL 225.403125 145.8 \nL 225.403125 7.2 \nL 30.103125 7.2 \nz\n\" style=\"fill: #ffffff\"/>\n   </g>\n   <g id=\"matplotlib.axis_1\">\n    <g id=\"xtick_1\">\n     <g id=\"line2d_1\">\n      <path d=\"M 65.974554 145.8 \nL 65.974554 7.2 \n\" clip-path=\"url(#p0ac6b3e088)\" style=\"fill: none; stroke: #b0b0b0; stroke-width: 0.8; stroke-linecap: square\"/>\n     </g>\n     <g id=\"line2d_2\">\n      <defs>\n       <path id=\"m887e233e11\" d=\"M 0 0 \nL 0 3.5 \n\" style=\"stroke: #000000; stroke-width: 0.8\"/>\n      </defs>\n      <g>\n       <use xlink:href=\"#m887e233e11\" x=\"65.974554\" y=\"145.8\" style=\"stroke: #000000; stroke-width: 0.8\"/>\n      </g>\n     </g>\n     <g id=\"text_1\">\n      <!-- 10 -->\n      <g transform=\"translate(59.612054 160.398438)scale(0.1 -0.1)\">\n       <defs>\n        <path id=\"DejaVuSans-31\" d=\"M 794 531 \nL 1825 531 \nL 1825 4091 \nL 703 3866 \nL 703 4441 \nL 1819 4666 \nL 2450 4666 \nL 2450 531 \nL 3481 531 \nL 3481 0 \nL 794 0 \nL 794 531 \nz\n\" transform=\"scale(0.015625)\"/>\n        <path id=\"DejaVuSans-30\" d=\"M 2034 4250 \nQ 1547 4250 1301 3770 \nQ 1056 3291 1056 2328 \nQ 1056 1369 1301 889 \nQ 1547 409 2034 409 \nQ 2525 409 2770 889 \nQ 3016 1369 3016 2328 \nQ 3016 3291 2770 3770 \nQ 2525 4250 2034 4250 \nz\nM 2034 4750 \nQ 2819 4750 3233 4129 \nQ 3647 3509 3647 2328 \nQ 3647 1150 3233 529 \nQ 2819 -91 2034 -91 \nQ 1250 -91 836 529 \nQ 422 1150 422 2328 \nQ 422 3509 836 4129 \nQ 1250 4750 2034 4750 \nz\n\" transform=\"scale(0.015625)\"/>\n       </defs>\n       <use xlink:href=\"#DejaVuSans-31\"/>\n       <use xlink:href=\"#DejaVuSans-30\" x=\"63.623047\"/>\n      </g>\n     </g>\n    </g>\n    <g id=\"xtick_2\">\n     <g id=\"line2d_3\">\n      <path d=\"M 105.831696 145.8 \nL 105.831696 7.2 \n\" clip-path=\"url(#p0ac6b3e088)\" style=\"fill: none; stroke: #b0b0b0; stroke-width: 0.8; stroke-linecap: square\"/>\n     </g>\n     <g id=\"line2d_4\">\n      <g>\n       <use xlink:href=\"#m887e233e11\" x=\"105.831696\" y=\"145.8\" style=\"stroke: #000000; stroke-width: 0.8\"/>\n      </g>\n     </g>\n     <g id=\"text_2\">\n      <!-- 20 -->\n      <g transform=\"translate(99.469196 160.398438)scale(0.1 -0.1)\">\n       <defs>\n        <path id=\"DejaVuSans-32\" d=\"M 1228 531 \nL 3431 531 \nL 3431 0 \nL 469 0 \nL 469 531 \nQ 828 903 1448 1529 \nQ 2069 2156 2228 2338 \nQ 2531 2678 2651 2914 \nQ 2772 3150 2772 3378 \nQ 2772 3750 2511 3984 \nQ 2250 4219 1831 4219 \nQ 1534 4219 1204 4116 \nQ 875 4013 500 3803 \nL 500 4441 \nQ 881 4594 1212 4672 \nQ 1544 4750 1819 4750 \nQ 2544 4750 2975 4387 \nQ 3406 4025 3406 3419 \nQ 3406 3131 3298 2873 \nQ 3191 2616 2906 2266 \nQ 2828 2175 2409 1742 \nQ 1991 1309 1228 531 \nz\n\" transform=\"scale(0.015625)\"/>\n       </defs>\n       <use xlink:href=\"#DejaVuSans-32\"/>\n       <use xlink:href=\"#DejaVuSans-30\" x=\"63.623047\"/>\n      </g>\n     </g>\n    </g>\n    <g id=\"xtick_3\">\n     <g id=\"line2d_5\">\n      <path d=\"M 145.688839 145.8 \nL 145.688839 7.2 \n\" clip-path=\"url(#p0ac6b3e088)\" style=\"fill: none; stroke: #b0b0b0; stroke-width: 0.8; stroke-linecap: square\"/>\n     </g>\n     <g id=\"line2d_6\">\n      <g>\n       <use xlink:href=\"#m887e233e11\" x=\"145.688839\" y=\"145.8\" style=\"stroke: #000000; stroke-width: 0.8\"/>\n      </g>\n     </g>\n     <g id=\"text_3\">\n      <!-- 30 -->\n      <g transform=\"translate(139.326339 160.398438)scale(0.1 -0.1)\">\n       <defs>\n        <path id=\"DejaVuSans-33\" d=\"M 2597 2516 \nQ 3050 2419 3304 2112 \nQ 3559 1806 3559 1356 \nQ 3559 666 3084 287 \nQ 2609 -91 1734 -91 \nQ 1441 -91 1130 -33 \nQ 819 25 488 141 \nL 488 750 \nQ 750 597 1062 519 \nQ 1375 441 1716 441 \nQ 2309 441 2620 675 \nQ 2931 909 2931 1356 \nQ 2931 1769 2642 2001 \nQ 2353 2234 1838 2234 \nL 1294 2234 \nL 1294 2753 \nL 1863 2753 \nQ 2328 2753 2575 2939 \nQ 2822 3125 2822 3475 \nQ 2822 3834 2567 4026 \nQ 2313 4219 1838 4219 \nQ 1578 4219 1281 4162 \nQ 984 4106 628 3988 \nL 628 4550 \nQ 988 4650 1302 4700 \nQ 1616 4750 1894 4750 \nQ 2613 4750 3031 4423 \nQ 3450 4097 3450 3541 \nQ 3450 3153 3228 2886 \nQ 3006 2619 2597 2516 \nz\n\" transform=\"scale(0.015625)\"/>\n       </defs>\n       <use xlink:href=\"#DejaVuSans-33\"/>\n       <use xlink:href=\"#DejaVuSans-30\" x=\"63.623047\"/>\n      </g>\n     </g>\n    </g>\n    <g id=\"xtick_4\">\n     <g id=\"line2d_7\">\n      <path d=\"M 185.545982 145.8 \nL 185.545982 7.2 \n\" clip-path=\"url(#p0ac6b3e088)\" style=\"fill: none; stroke: #b0b0b0; stroke-width: 0.8; stroke-linecap: square\"/>\n     </g>\n     <g id=\"line2d_8\">\n      <g>\n       <use xlink:href=\"#m887e233e11\" x=\"185.545982\" y=\"145.8\" style=\"stroke: #000000; stroke-width: 0.8\"/>\n      </g>\n     </g>\n     <g id=\"text_4\">\n      <!-- 40 -->\n      <g transform=\"translate(179.183482 160.398438)scale(0.1 -0.1)\">\n       <defs>\n        <path id=\"DejaVuSans-34\" d=\"M 2419 4116 \nL 825 1625 \nL 2419 1625 \nL 2419 4116 \nz\nM 2253 4666 \nL 3047 4666 \nL 3047 1625 \nL 3713 1625 \nL 3713 1100 \nL 3047 1100 \nL 3047 0 \nL 2419 0 \nL 2419 1100 \nL 313 1100 \nL 313 1709 \nL 2253 4666 \nz\n\" transform=\"scale(0.015625)\"/>\n       </defs>\n       <use xlink:href=\"#DejaVuSans-34\"/>\n       <use xlink:href=\"#DejaVuSans-30\" x=\"63.623047\"/>\n      </g>\n     </g>\n    </g>\n    <g id=\"xtick_5\">\n     <g id=\"line2d_9\">\n      <path d=\"M 225.403125 145.8 \nL 225.403125 7.2 \n\" clip-path=\"url(#p0ac6b3e088)\" style=\"fill: none; stroke: #b0b0b0; stroke-width: 0.8; stroke-linecap: square\"/>\n     </g>\n     <g id=\"line2d_10\">\n      <g>\n       <use xlink:href=\"#m887e233e11\" x=\"225.403125\" y=\"145.8\" style=\"stroke: #000000; stroke-width: 0.8\"/>\n      </g>\n     </g>\n     <g id=\"text_5\">\n      <!-- 50 -->\n      <g transform=\"translate(219.040625 160.398438)scale(0.1 -0.1)\">\n       <defs>\n        <path id=\"DejaVuSans-35\" d=\"M 691 4666 \nL 3169 4666 \nL 3169 4134 \nL 1269 4134 \nL 1269 2991 \nQ 1406 3038 1543 3061 \nQ 1681 3084 1819 3084 \nQ 2600 3084 3056 2656 \nQ 3513 2228 3513 1497 \nQ 3513 744 3044 326 \nQ 2575 -91 1722 -91 \nQ 1428 -91 1123 -41 \nQ 819 9 494 109 \nL 494 744 \nQ 775 591 1075 516 \nQ 1375 441 1709 441 \nQ 2250 441 2565 725 \nQ 2881 1009 2881 1497 \nQ 2881 1984 2565 2268 \nQ 2250 2553 1709 2553 \nQ 1456 2553 1204 2497 \nQ 953 2441 691 2322 \nL 691 4666 \nz\n\" transform=\"scale(0.015625)\"/>\n       </defs>\n       <use xlink:href=\"#DejaVuSans-35\"/>\n       <use xlink:href=\"#DejaVuSans-30\" x=\"63.623047\"/>\n      </g>\n     </g>\n    </g>\n    <g id=\"text_6\">\n     <!-- epoch -->\n     <g transform=\"translate(112.525 174.076563)scale(0.1 -0.1)\">\n      <defs>\n       <path id=\"DejaVuSans-65\" d=\"M 3597 1894 \nL 3597 1613 \nL 953 1613 \nQ 991 1019 1311 708 \nQ 1631 397 2203 397 \nQ 2534 397 2845 478 \nQ 3156 559 3463 722 \nL 3463 178 \nQ 3153 47 2828 -22 \nQ 2503 -91 2169 -91 \nQ 1331 -91 842 396 \nQ 353 884 353 1716 \nQ 353 2575 817 3079 \nQ 1281 3584 2069 3584 \nQ 2775 3584 3186 3129 \nQ 3597 2675 3597 1894 \nz\nM 3022 2063 \nQ 3016 2534 2758 2815 \nQ 2500 3097 2075 3097 \nQ 1594 3097 1305 2825 \nQ 1016 2553 972 2059 \nL 3022 2063 \nz\n\" transform=\"scale(0.015625)\"/>\n       <path id=\"DejaVuSans-70\" d=\"M 1159 525 \nL 1159 -1331 \nL 581 -1331 \nL 581 3500 \nL 1159 3500 \nL 1159 2969 \nQ 1341 3281 1617 3432 \nQ 1894 3584 2278 3584 \nQ 2916 3584 3314 3078 \nQ 3713 2572 3713 1747 \nQ 3713 922 3314 415 \nQ 2916 -91 2278 -91 \nQ 1894 -91 1617 61 \nQ 1341 213 1159 525 \nz\nM 3116 1747 \nQ 3116 2381 2855 2742 \nQ 2594 3103 2138 3103 \nQ 1681 3103 1420 2742 \nQ 1159 2381 1159 1747 \nQ 1159 1113 1420 752 \nQ 1681 391 2138 391 \nQ 2594 391 2855 752 \nQ 3116 1113 3116 1747 \nz\n\" transform=\"scale(0.015625)\"/>\n       <path id=\"DejaVuSans-6f\" d=\"M 1959 3097 \nQ 1497 3097 1228 2736 \nQ 959 2375 959 1747 \nQ 959 1119 1226 758 \nQ 1494 397 1959 397 \nQ 2419 397 2687 759 \nQ 2956 1122 2956 1747 \nQ 2956 2369 2687 2733 \nQ 2419 3097 1959 3097 \nz\nM 1959 3584 \nQ 2709 3584 3137 3096 \nQ 3566 2609 3566 1747 \nQ 3566 888 3137 398 \nQ 2709 -91 1959 -91 \nQ 1206 -91 779 398 \nQ 353 888 353 1747 \nQ 353 2609 779 3096 \nQ 1206 3584 1959 3584 \nz\n\" transform=\"scale(0.015625)\"/>\n       <path id=\"DejaVuSans-63\" d=\"M 3122 3366 \nL 3122 2828 \nQ 2878 2963 2633 3030 \nQ 2388 3097 2138 3097 \nQ 1578 3097 1268 2742 \nQ 959 2388 959 1747 \nQ 959 1106 1268 751 \nQ 1578 397 2138 397 \nQ 2388 397 2633 464 \nQ 2878 531 3122 666 \nL 3122 134 \nQ 2881 22 2623 -34 \nQ 2366 -91 2075 -91 \nQ 1284 -91 818 406 \nQ 353 903 353 1747 \nQ 353 2603 823 3093 \nQ 1294 3584 2113 3584 \nQ 2378 3584 2631 3529 \nQ 2884 3475 3122 3366 \nz\n\" transform=\"scale(0.015625)\"/>\n       <path id=\"DejaVuSans-68\" d=\"M 3513 2113 \nL 3513 0 \nL 2938 0 \nL 2938 2094 \nQ 2938 2591 2744 2837 \nQ 2550 3084 2163 3084 \nQ 1697 3084 1428 2787 \nQ 1159 2491 1159 1978 \nL 1159 0 \nL 581 0 \nL 581 4863 \nL 1159 4863 \nL 1159 2956 \nQ 1366 3272 1645 3428 \nQ 1925 3584 2291 3584 \nQ 2894 3584 3203 3211 \nQ 3513 2838 3513 2113 \nz\n\" transform=\"scale(0.015625)\"/>\n      </defs>\n      <use xlink:href=\"#DejaVuSans-65\"/>\n      <use xlink:href=\"#DejaVuSans-70\" x=\"61.523438\"/>\n      <use xlink:href=\"#DejaVuSans-6f\" x=\"125\"/>\n      <use xlink:href=\"#DejaVuSans-63\" x=\"186.181641\"/>\n      <use xlink:href=\"#DejaVuSans-68\" x=\"241.162109\"/>\n     </g>\n    </g>\n   </g>\n   <g id=\"matplotlib.axis_2\">\n    <g id=\"ytick_1\">\n     <g id=\"line2d_11\">\n      <path d=\"M 30.103125 122.7 \nL 225.403125 122.7 \n\" clip-path=\"url(#p0ac6b3e088)\" style=\"fill: none; stroke: #b0b0b0; stroke-width: 0.8; stroke-linecap: square\"/>\n     </g>\n     <g id=\"line2d_12\">\n      <defs>\n       <path id=\"m53ac74f512\" d=\"M 0 0 \nL -3.5 0 \n\" style=\"stroke: #000000; stroke-width: 0.8\"/>\n      </defs>\n      <g>\n       <use xlink:href=\"#m53ac74f512\" x=\"30.103125\" y=\"122.7\" style=\"stroke: #000000; stroke-width: 0.8\"/>\n      </g>\n     </g>\n     <g id=\"text_7\">\n      <!-- 0.4 -->\n      <g transform=\"translate(7.2 126.499219)scale(0.1 -0.1)\">\n       <defs>\n        <path id=\"DejaVuSans-2e\" d=\"M 684 794 \nL 1344 794 \nL 1344 0 \nL 684 0 \nL 684 794 \nz\n\" transform=\"scale(0.015625)\"/>\n       </defs>\n       <use xlink:href=\"#DejaVuSans-30\"/>\n       <use xlink:href=\"#DejaVuSans-2e\" x=\"63.623047\"/>\n       <use xlink:href=\"#DejaVuSans-34\" x=\"95.410156\"/>\n      </g>\n     </g>\n    </g>\n    <g id=\"ytick_2\">\n     <g id=\"line2d_13\">\n      <path d=\"M 30.103125 76.5 \nL 225.403125 76.5 \n\" clip-path=\"url(#p0ac6b3e088)\" style=\"fill: none; stroke: #b0b0b0; stroke-width: 0.8; stroke-linecap: square\"/>\n     </g>\n     <g id=\"line2d_14\">\n      <g>\n       <use xlink:href=\"#m53ac74f512\" x=\"30.103125\" y=\"76.5\" style=\"stroke: #000000; stroke-width: 0.8\"/>\n      </g>\n     </g>\n     <g id=\"text_8\">\n      <!-- 0.6 -->\n      <g transform=\"translate(7.2 80.299219)scale(0.1 -0.1)\">\n       <defs>\n        <path id=\"DejaVuSans-36\" d=\"M 2113 2584 \nQ 1688 2584 1439 2293 \nQ 1191 2003 1191 1497 \nQ 1191 994 1439 701 \nQ 1688 409 2113 409 \nQ 2538 409 2786 701 \nQ 3034 994 3034 1497 \nQ 3034 2003 2786 2293 \nQ 2538 2584 2113 2584 \nz\nM 3366 4563 \nL 3366 3988 \nQ 3128 4100 2886 4159 \nQ 2644 4219 2406 4219 \nQ 1781 4219 1451 3797 \nQ 1122 3375 1075 2522 \nQ 1259 2794 1537 2939 \nQ 1816 3084 2150 3084 \nQ 2853 3084 3261 2657 \nQ 3669 2231 3669 1497 \nQ 3669 778 3244 343 \nQ 2819 -91 2113 -91 \nQ 1303 -91 875 529 \nQ 447 1150 447 2328 \nQ 447 3434 972 4092 \nQ 1497 4750 2381 4750 \nQ 2619 4750 2861 4703 \nQ 3103 4656 3366 4563 \nz\n\" transform=\"scale(0.015625)\"/>\n       </defs>\n       <use xlink:href=\"#DejaVuSans-30\"/>\n       <use xlink:href=\"#DejaVuSans-2e\" x=\"63.623047\"/>\n       <use xlink:href=\"#DejaVuSans-36\" x=\"95.410156\"/>\n      </g>\n     </g>\n    </g>\n    <g id=\"ytick_3\">\n     <g id=\"line2d_15\">\n      <path d=\"M 30.103125 30.3 \nL 225.403125 30.3 \n\" clip-path=\"url(#p0ac6b3e088)\" style=\"fill: none; stroke: #b0b0b0; stroke-width: 0.8; stroke-linecap: square\"/>\n     </g>\n     <g id=\"line2d_16\">\n      <g>\n       <use xlink:href=\"#m53ac74f512\" x=\"30.103125\" y=\"30.3\" style=\"stroke: #000000; stroke-width: 0.8\"/>\n      </g>\n     </g>\n     <g id=\"text_9\">\n      <!-- 0.8 -->\n      <g transform=\"translate(7.2 34.099219)scale(0.1 -0.1)\">\n       <defs>\n        <path id=\"DejaVuSans-38\" d=\"M 2034 2216 \nQ 1584 2216 1326 1975 \nQ 1069 1734 1069 1313 \nQ 1069 891 1326 650 \nQ 1584 409 2034 409 \nQ 2484 409 2743 651 \nQ 3003 894 3003 1313 \nQ 3003 1734 2745 1975 \nQ 2488 2216 2034 2216 \nz\nM 1403 2484 \nQ 997 2584 770 2862 \nQ 544 3141 544 3541 \nQ 544 4100 942 4425 \nQ 1341 4750 2034 4750 \nQ 2731 4750 3128 4425 \nQ 3525 4100 3525 3541 \nQ 3525 3141 3298 2862 \nQ 3072 2584 2669 2484 \nQ 3125 2378 3379 2068 \nQ 3634 1759 3634 1313 \nQ 3634 634 3220 271 \nQ 2806 -91 2034 -91 \nQ 1263 -91 848 271 \nQ 434 634 434 1313 \nQ 434 1759 690 2068 \nQ 947 2378 1403 2484 \nz\nM 1172 3481 \nQ 1172 3119 1398 2916 \nQ 1625 2713 2034 2713 \nQ 2441 2713 2670 2916 \nQ 2900 3119 2900 3481 \nQ 2900 3844 2670 4047 \nQ 2441 4250 2034 4250 \nQ 1625 4250 1398 4047 \nQ 1172 3844 1172 3481 \nz\n\" transform=\"scale(0.015625)\"/>\n       </defs>\n       <use xlink:href=\"#DejaVuSans-30\"/>\n       <use xlink:href=\"#DejaVuSans-2e\" x=\"63.623047\"/>\n       <use xlink:href=\"#DejaVuSans-38\" x=\"95.410156\"/>\n      </g>\n     </g>\n    </g>\n   </g>\n   <g id=\"line2d_17\">\n    <path clip-path=\"url(#p0ac6b3e088)\" style=\"fill: none; stroke: #1f77b4; stroke-width: 1.5; stroke-linecap: square\"/>\n   </g>\n   <g id=\"line2d_18\">\n    <path d=\"M 30.922772 184.35625 \nL 34.088839 170.576846 \nL 38.074554 156.988611 \nL 42.060268 144.26771 \nL 46.045982 139.063705 \nL 50.031696 132.125031 \nL 54.017411 124.897247 \nL 58.003125 116.513016 \nL 61.988839 109.285232 \nL 65.974554 100.61189 \nL 69.960268 112.176345 \nL 73.945982 105.815895 \nL 77.931696 104.659449 \nL 81.917411 87.601877 \nL 85.903125 94.829662 \nL 89.888839 96.56433 \nL 93.874554 91.071214 \nL 97.860268 86.15632 \nL 101.845982 78.928536 \nL 105.831696 80.084981 \nL 109.817411 82.686984 \nL 113.803125 74.591865 \nL 117.788839 78.061202 \nL 121.774554 80.374093 \nL 125.760268 72.278974 \nL 129.745982 67.653191 \nL 133.731696 73.146308 \nL 137.717411 65.918523 \nL 141.703125 67.074969 \nL 145.688839 61.870964 \nL 149.674554 59.558073 \nL 153.660268 58.112516 \nL 157.645982 58.401627 \nL 161.631696 62.738298 \nL 165.617411 53.197622 \nL 169.603125 60.714518 \nL 173.588839 58.112516 \nL 177.574554 51.462954 \nL 181.560268 51.462954 \nL 185.545982 49.439174 \nL 189.531696 54.064956 \nL 193.517411 45.969837 \nL 197.503125 48.860951 \nL 201.488839 49.439174 \nL 205.474554 47.993617 \nL 209.460268 52.041176 \nL 213.445982 41.054944 \nL 217.431696 50.59562 \nL 221.417411 53.486733 \nL 225.403125 48.57184 \n\" clip-path=\"url(#p0ac6b3e088)\" style=\"fill: none; stroke-dasharray: 5.55,2.4; stroke-dashoffset: 0; stroke: #bf00bf; stroke-width: 1.5\"/>\n   </g>\n   <g id=\"line2d_19\">\n    <path d=\"M 30.103125 178.14 \nL 34.088839 148.11 \nL 38.074554 141.18 \nL 42.060268 129.63 \nL 46.045982 118.08 \nL 50.031696 112.305 \nL 54.017411 107.685 \nL 58.003125 93.825 \nL 61.988839 104.22 \nL 65.974554 93.825 \nL 69.960268 100.755 \nL 73.945982 84.585 \nL 77.931696 79.965 \nL 81.917411 82.275 \nL 85.903125 82.275 \nL 89.888839 82.275 \nL 93.874554 75.345 \nL 97.860268 77.655 \nL 101.845982 78.81 \nL 105.831696 74.19 \nL 109.817411 68.415 \nL 113.803125 71.88 \nL 117.788839 69.57 \nL 121.774554 74.19 \nL 125.760268 63.795 \nL 129.745982 62.64 \nL 133.731696 66.105 \nL 137.717411 66.105 \nL 141.703125 70.725 \nL 145.688839 66.105 \nL 149.674554 64.95 \nL 153.660268 62.64 \nL 157.645982 59.175 \nL 161.631696 59.175 \nL 165.617411 58.02 \nL 169.603125 53.4 \nL 173.588839 58.02 \nL 177.574554 56.865 \nL 181.560268 58.02 \nL 185.545982 56.865 \nL 189.531696 60.33 \nL 193.517411 53.4 \nL 197.503125 54.555 \nL 201.488839 58.02 \nL 205.474554 51.09 \nL 209.460268 51.09 \nL 213.445982 60.33 \nL 217.431696 61.485 \nL 221.417411 55.71 \nL 225.403125 51.09 \n\" clip-path=\"url(#p0ac6b3e088)\" style=\"fill: none; stroke-dasharray: 9.6,2.4,1.5,2.4; stroke-dashoffset: 0; stroke: #008000; stroke-width: 1.5\"/>\n   </g>\n   <g id=\"patch_3\">\n    <path d=\"M 30.103125 145.8 \nL 30.103125 7.2 \n\" style=\"fill: none; stroke: #000000; stroke-width: 0.8; stroke-linejoin: miter; stroke-linecap: square\"/>\n   </g>\n   <g id=\"patch_4\">\n    <path d=\"M 225.403125 145.8 \nL 225.403125 7.2 \n\" style=\"fill: none; stroke: #000000; stroke-width: 0.8; stroke-linejoin: miter; stroke-linecap: square\"/>\n   </g>\n   <g id=\"patch_5\">\n    <path d=\"M 30.103125 145.8 \nL 225.403125 145.8 \n\" style=\"fill: none; stroke: #000000; stroke-width: 0.8; stroke-linejoin: miter; stroke-linecap: square\"/>\n   </g>\n   <g id=\"patch_6\">\n    <path d=\"M 30.103125 7.2 \nL 225.403125 7.2 \n\" style=\"fill: none; stroke: #000000; stroke-width: 0.8; stroke-linejoin: miter; stroke-linecap: square\"/>\n   </g>\n   <g id=\"legend_1\">\n    <g id=\"patch_7\">\n     <path d=\"M 37.103125 59.234375 \nL 114.871875 59.234375 \nQ 116.871875 59.234375 116.871875 57.234375 \nL 116.871875 14.2 \nQ 116.871875 12.2 114.871875 12.2 \nL 37.103125 12.2 \nQ 35.103125 12.2 35.103125 14.2 \nL 35.103125 57.234375 \nQ 35.103125 59.234375 37.103125 59.234375 \nz\n\" style=\"fill: #ffffff; opacity: 0.8; stroke: #cccccc; stroke-linejoin: miter\"/>\n    </g>\n    <g id=\"line2d_20\">\n     <path d=\"M 39.103125 20.298438 \nL 49.103125 20.298438 \nL 59.103125 20.298438 \n\" style=\"fill: none; stroke: #1f77b4; stroke-width: 1.5; stroke-linecap: square\"/>\n    </g>\n    <g id=\"text_10\">\n     <!-- train loss -->\n     <g transform=\"translate(67.103125 23.798438)scale(0.1 -0.1)\">\n      <defs>\n       <path id=\"DejaVuSans-74\" d=\"M 1172 4494 \nL 1172 3500 \nL 2356 3500 \nL 2356 3053 \nL 1172 3053 \nL 1172 1153 \nQ 1172 725 1289 603 \nQ 1406 481 1766 481 \nL 2356 481 \nL 2356 0 \nL 1766 0 \nQ 1100 0 847 248 \nQ 594 497 594 1153 \nL 594 3053 \nL 172 3053 \nL 172 3500 \nL 594 3500 \nL 594 4494 \nL 1172 4494 \nz\n\" transform=\"scale(0.015625)\"/>\n       <path id=\"DejaVuSans-72\" d=\"M 2631 2963 \nQ 2534 3019 2420 3045 \nQ 2306 3072 2169 3072 \nQ 1681 3072 1420 2755 \nQ 1159 2438 1159 1844 \nL 1159 0 \nL 581 0 \nL 581 3500 \nL 1159 3500 \nL 1159 2956 \nQ 1341 3275 1631 3429 \nQ 1922 3584 2338 3584 \nQ 2397 3584 2469 3576 \nQ 2541 3569 2628 3553 \nL 2631 2963 \nz\n\" transform=\"scale(0.015625)\"/>\n       <path id=\"DejaVuSans-61\" d=\"M 2194 1759 \nQ 1497 1759 1228 1600 \nQ 959 1441 959 1056 \nQ 959 750 1161 570 \nQ 1363 391 1709 391 \nQ 2188 391 2477 730 \nQ 2766 1069 2766 1631 \nL 2766 1759 \nL 2194 1759 \nz\nM 3341 1997 \nL 3341 0 \nL 2766 0 \nL 2766 531 \nQ 2569 213 2275 61 \nQ 1981 -91 1556 -91 \nQ 1019 -91 701 211 \nQ 384 513 384 1019 \nQ 384 1609 779 1909 \nQ 1175 2209 1959 2209 \nL 2766 2209 \nL 2766 2266 \nQ 2766 2663 2505 2880 \nQ 2244 3097 1772 3097 \nQ 1472 3097 1187 3025 \nQ 903 2953 641 2809 \nL 641 3341 \nQ 956 3463 1253 3523 \nQ 1550 3584 1831 3584 \nQ 2591 3584 2966 3190 \nQ 3341 2797 3341 1997 \nz\n\" transform=\"scale(0.015625)\"/>\n       <path id=\"DejaVuSans-69\" d=\"M 603 3500 \nL 1178 3500 \nL 1178 0 \nL 603 0 \nL 603 3500 \nz\nM 603 4863 \nL 1178 4863 \nL 1178 4134 \nL 603 4134 \nL 603 4863 \nz\n\" transform=\"scale(0.015625)\"/>\n       <path id=\"DejaVuSans-6e\" d=\"M 3513 2113 \nL 3513 0 \nL 2938 0 \nL 2938 2094 \nQ 2938 2591 2744 2837 \nQ 2550 3084 2163 3084 \nQ 1697 3084 1428 2787 \nQ 1159 2491 1159 1978 \nL 1159 0 \nL 581 0 \nL 581 3500 \nL 1159 3500 \nL 1159 2956 \nQ 1366 3272 1645 3428 \nQ 1925 3584 2291 3584 \nQ 2894 3584 3203 3211 \nQ 3513 2838 3513 2113 \nz\n\" transform=\"scale(0.015625)\"/>\n       <path id=\"DejaVuSans-20\" transform=\"scale(0.015625)\"/>\n       <path id=\"DejaVuSans-6c\" d=\"M 603 4863 \nL 1178 4863 \nL 1178 0 \nL 603 0 \nL 603 4863 \nz\n\" transform=\"scale(0.015625)\"/>\n       <path id=\"DejaVuSans-73\" d=\"M 2834 3397 \nL 2834 2853 \nQ 2591 2978 2328 3040 \nQ 2066 3103 1784 3103 \nQ 1356 3103 1142 2972 \nQ 928 2841 928 2578 \nQ 928 2378 1081 2264 \nQ 1234 2150 1697 2047 \nL 1894 2003 \nQ 2506 1872 2764 1633 \nQ 3022 1394 3022 966 \nQ 3022 478 2636 193 \nQ 2250 -91 1575 -91 \nQ 1294 -91 989 -36 \nQ 684 19 347 128 \nL 347 722 \nQ 666 556 975 473 \nQ 1284 391 1588 391 \nQ 1994 391 2212 530 \nQ 2431 669 2431 922 \nQ 2431 1156 2273 1281 \nQ 2116 1406 1581 1522 \nL 1381 1569 \nQ 847 1681 609 1914 \nQ 372 2147 372 2553 \nQ 372 3047 722 3315 \nQ 1072 3584 1716 3584 \nQ 2034 3584 2315 3537 \nQ 2597 3491 2834 3397 \nz\n\" transform=\"scale(0.015625)\"/>\n      </defs>\n      <use xlink:href=\"#DejaVuSans-74\"/>\n      <use xlink:href=\"#DejaVuSans-72\" x=\"39.208984\"/>\n      <use xlink:href=\"#DejaVuSans-61\" x=\"80.322266\"/>\n      <use xlink:href=\"#DejaVuSans-69\" x=\"141.601562\"/>\n      <use xlink:href=\"#DejaVuSans-6e\" x=\"169.384766\"/>\n      <use xlink:href=\"#DejaVuSans-20\" x=\"232.763672\"/>\n      <use xlink:href=\"#DejaVuSans-6c\" x=\"264.550781\"/>\n      <use xlink:href=\"#DejaVuSans-6f\" x=\"292.333984\"/>\n      <use xlink:href=\"#DejaVuSans-73\" x=\"353.515625\"/>\n      <use xlink:href=\"#DejaVuSans-73\" x=\"405.615234\"/>\n     </g>\n    </g>\n    <g id=\"line2d_21\">\n     <path d=\"M 39.103125 34.976563 \nL 49.103125 34.976563 \nL 59.103125 34.976563 \n\" style=\"fill: none; stroke-dasharray: 5.55,2.4; stroke-dashoffset: 0; stroke: #bf00bf; stroke-width: 1.5\"/>\n    </g>\n    <g id=\"text_11\">\n     <!-- train acc -->\n     <g transform=\"translate(67.103125 38.476563)scale(0.1 -0.1)\">\n      <use xlink:href=\"#DejaVuSans-74\"/>\n      <use xlink:href=\"#DejaVuSans-72\" x=\"39.208984\"/>\n      <use xlink:href=\"#DejaVuSans-61\" x=\"80.322266\"/>\n      <use xlink:href=\"#DejaVuSans-69\" x=\"141.601562\"/>\n      <use xlink:href=\"#DejaVuSans-6e\" x=\"169.384766\"/>\n      <use xlink:href=\"#DejaVuSans-20\" x=\"232.763672\"/>\n      <use xlink:href=\"#DejaVuSans-61\" x=\"264.550781\"/>\n      <use xlink:href=\"#DejaVuSans-63\" x=\"325.830078\"/>\n      <use xlink:href=\"#DejaVuSans-63\" x=\"380.810547\"/>\n     </g>\n    </g>\n    <g id=\"line2d_22\">\n     <path d=\"M 39.103125 49.654688 \nL 49.103125 49.654688 \nL 59.103125 49.654688 \n\" style=\"fill: none; stroke-dasharray: 9.6,2.4,1.5,2.4; stroke-dashoffset: 0; stroke: #008000; stroke-width: 1.5\"/>\n    </g>\n    <g id=\"text_12\">\n     <!-- test acc -->\n     <g transform=\"translate(67.103125 53.154688)scale(0.1 -0.1)\">\n      <use xlink:href=\"#DejaVuSans-74\"/>\n      <use xlink:href=\"#DejaVuSans-65\" x=\"39.208984\"/>\n      <use xlink:href=\"#DejaVuSans-73\" x=\"100.732422\"/>\n      <use xlink:href=\"#DejaVuSans-74\" x=\"152.832031\"/>\n      <use xlink:href=\"#DejaVuSans-20\" x=\"192.041016\"/>\n      <use xlink:href=\"#DejaVuSans-61\" x=\"223.828125\"/>\n      <use xlink:href=\"#DejaVuSans-63\" x=\"285.107422\"/>\n      <use xlink:href=\"#DejaVuSans-63\" x=\"340.087891\"/>\n     </g>\n    </g>\n   </g>\n  </g>\n </g>\n <defs>\n  <clipPath id=\"p0ac6b3e088\">\n   <rect x=\"30.103125\" y=\"7.2\" width=\"195.3\" height=\"138.6\"/>\n  </clipPath>\n </defs>\n</svg>\n"
          },
          "metadata": {}
        }
      ],
      "source": [
        "d2l.train_ch3(mlp_model, metadata_train_loader, metadata_test_loader, loss, meta_epochs, trainer)"
      ]
    },
    {
      "cell_type": "markdown",
      "source": [
        "# Done up to here"
      ],
      "metadata": {
        "id": "BN05tU_f8OAW"
      }
    },
    {
      "cell_type": "markdown",
      "metadata": {
        "id": "SNMP1iT_8zps"
      },
      "source": [
        "### Ensemble (Test Acc. 67)"
      ]
    },
    {
      "cell_type": "markdown",
      "metadata": {
        "id": "kU7wxZzpIubf"
      },
      "source": [
        "Data Loading:"
      ]
    },
    {
      "cell_type": "code",
      "execution_count": null,
      "metadata": {
        "id": "jVKJSn3wItiP"
      },
      "outputs": [],
      "source": [
        "joined_data = [(data[i][0], metadata[i][0], torch.tensor(df['label'][i], dtype=torch.long)) for i in range(len(df))]"
      ]
    },
    {
      "cell_type": "code",
      "execution_count": null,
      "metadata": {
        "colab": {
          "base_uri": "https://localhost:8080/"
        },
        "id": "eeAbAX-7SBcO",
        "outputId": "23329558-c7b6-455d-b1f3-3ec0d1f27649"
      },
      "outputs": [
        {
          "output_type": "execute_result",
          "data": {
            "text/plain": [
              "(tensor([[[  0.,   0.,   0.,  ...,   0.,   0.,   0.],\n",
              "          [  0.,   0.,   0.,  ...,   0.,   0.,   0.],\n",
              "          [  0.,   0.,   0.,  ...,   0.,   0.,   0.],\n",
              "          ...,\n",
              "          [ 21., 110.,  73.,  ..., 134., 123.,  80.],\n",
              "          [ 21., 110.,  73.,  ..., 134., 123.,  80.],\n",
              "          [ 10.,  24.,   0.,  ...,   0.,   0.,  26.]]],\n",
              "        grad_fn=<ReshapeAliasBackward0>),\n",
              " tensor([[[-0.3515,  0.3121, -0.0102, -0.0619, -0.5842, -0.8485, -0.4564,\n",
              "           -0.5303, -0.4871, -0.6615, -0.4929, -0.7350,  0.1905, -0.3740,\n",
              "            0.3719,  0.0037,  0.1269,  0.3087, -0.4281,  0.7036, -0.9358,\n",
              "           -0.4722, -0.8114,  0.3637, -0.5974, -0.4268, -0.0651,  0.3363,\n",
              "           -0.5567, -0.8625, -0.8357,  0.4987, -0.4703, -0.6369, -0.1614,\n",
              "            0.4086, -0.5006, -0.3379, -0.3617,  0.6445, -0.5346,  0.1822,\n",
              "           -0.8044,  0.7917, -0.7032, -0.2647, -0.3865, -0.0868, -0.2465,\n",
              "            0.4999, -0.7801, -0.2375, -0.6429,  0.0066, -0.3008,  0.6037,\n",
              "           -0.5122]]], grad_fn=<ReshapeAliasBackward0>),\n",
              " tensor(0))"
            ]
          },
          "metadata": {},
          "execution_count": 56
        }
      ],
      "source": [
        "joined_data[0]"
      ]
    },
    {
      "cell_type": "code",
      "execution_count": null,
      "metadata": {
        "id": "6EEqvsSaPkRu"
      },
      "outputs": [],
      "source": [
        "joined_train_size = int(0.8 * len(joined_data))\n",
        "joined_test_size = len(joined_data) - joined_train_size\n",
        "joined_train_dataset, joined_test_dataset = torch.utils.data.random_split(joined_data, [joined_train_size, joined_test_size])"
      ]
    },
    {
      "cell_type": "code",
      "execution_count": null,
      "metadata": {
        "id": "kUX8Ut2RPyXJ"
      },
      "outputs": [],
      "source": [
        "joined_train_loader = DataLoader(joined_train_dataset, batch_size=16, shuffle=True)\n",
        "joined_test_loader = DataLoader(joined_test_dataset, batch_size=10, shuffle=False)"
      ]
    },
    {
      "cell_type": "markdown",
      "metadata": {
        "id": "3dwPrmPsIGNM"
      },
      "source": [
        "Net"
      ]
    },
    {
      "cell_type": "code",
      "execution_count": null,
      "metadata": {
        "id": "T8Gd4cNV800K"
      },
      "outputs": [],
      "source": [
        "class cnn_mlp(nn.Module):\n",
        "    def __init__(self):\n",
        "        super(cnn_mlp, self).__init__()\n",
        "\n",
        "        #Net to process images\n",
        "        self.net3 = net3\n",
        "\n",
        "        #Net to process features\n",
        "        self.model = model\n",
        "\n",
        "        self.fc1 = nn.Linear(20, 16)\n",
        "        self.sig = nn.Sigmoid()\n",
        "        self.fc2 = nn.Linear(16,10)\n",
        "\n",
        "        self.dropout = nn.Dropout(0.5)\n",
        "\n",
        "    def forward(self, x1, x2):\n",
        "\n",
        "        #Pass image through first subnetwork\n",
        "        out1 = self.net3(x1)\n",
        "\n",
        "        out1.size()\n",
        "\n",
        "        #Pass features through second subnetwork\n",
        "        out2 = self.model(x2)\n",
        "\n",
        "        out2.size()\n",
        "\n",
        "        #Concatenate\n",
        "        out = torch.cat((out1, out2), dim = 1)\n",
        "\n",
        "        out.size()\n",
        "        \n",
        "        #Pass through linear layer\n",
        "        x = self.fc1(out)\n",
        "        x = self.dropout(x)\n",
        "        x = self.sig(x)\n",
        "        x = self.fc2(x)\n",
        "\n",
        "        return x"
      ]
    },
    {
      "cell_type": "markdown",
      "metadata": {
        "id": "e0INTn_8IDoU"
      },
      "source": [
        "Training"
      ]
    },
    {
      "cell_type": "code",
      "execution_count": null,
      "metadata": {
        "id": "GUc_PDNTIEUl"
      },
      "outputs": [],
      "source": [
        "# Define instance of ensemble\n",
        "\n",
        "#to.('cuda') ensures loop runs on colab gpu\n",
        "\n",
        "cnn_mlp = cnn_mlp().to('cuda')"
      ]
    },
    {
      "cell_type": "code",
      "execution_count": null,
      "metadata": {
        "id": "DlUzcA9uQaMU"
      },
      "outputs": [],
      "source": [
        "#Define Loss and optimiser\n",
        "\n",
        "cnn_mlp_optimizer = torch.optim.Adam(cnn_mlp.parameters(), lr=0.001)\n",
        "cnn_mlp_loss = nn.CrossEntropyLoss()"
      ]
    },
    {
      "cell_type": "code",
      "execution_count": null,
      "metadata": {
        "id": "Cf-8cEdkQpx_"
      },
      "outputs": [],
      "source": [
        "#Define Epochs\n",
        "\n",
        "cnn_mlp_epochs = 200"
      ]
    },
    {
      "cell_type": "code",
      "execution_count": null,
      "metadata": {
        "colab": {
          "base_uri": "https://localhost:8080/",
          "height": 1000
        },
        "id": "FeVxXs8TQvFL",
        "outputId": "fb9446c1-faaf-43aa-906c-5030a7f2013b"
      },
      "outputs": [
        {
          "output_type": "stream",
          "name": "stdout",
          "text": [
            "Epoch 1: Train Loss: 2.241 | Train Acc: 13.016% | Val Loss: 2.175 | Val Acc: 21.000%\n",
            "Epoch 2: Train Loss: 2.117 | Train Acc: 32.791% | Val Loss: 2.105 | Val Acc: 32.500%\n",
            "Epoch 3: Train Loss: 2.035 | Train Acc: 46.683% | Val Loss: 1.999 | Val Acc: 49.500%\n",
            "Epoch 4: Train Loss: 1.942 | Train Acc: 57.572% | Val Loss: 1.957 | Val Acc: 57.500%\n",
            "Epoch 5: Train Loss: 1.885 | Train Acc: 63.705% | Val Loss: 1.876 | Val Acc: 59.500%\n",
            "Epoch 6: Train Loss: 1.810 | Train Acc: 68.085% | Val Loss: 1.852 | Val Acc: 62.500%\n",
            "Epoch 7: Train Loss: 1.748 | Train Acc: 73.467% | Val Loss: 1.792 | Val Acc: 63.000%\n",
            "Epoch 8: Train Loss: 1.692 | Train Acc: 77.222% | Val Loss: 1.751 | Val Acc: 65.000%\n",
            "Epoch 9: Train Loss: 1.639 | Train Acc: 78.723% | Val Loss: 1.705 | Val Acc: 69.500%\n",
            "Epoch 10: Train Loss: 1.586 | Train Acc: 80.350% | Val Loss: 1.683 | Val Acc: 72.500%\n",
            "Epoch 11: Train Loss: 1.540 | Train Acc: 80.476% | Val Loss: 1.631 | Val Acc: 71.500%\n",
            "Epoch 12: Train Loss: 1.507 | Train Acc: 80.851% | Val Loss: 1.600 | Val Acc: 73.000%\n",
            "Epoch 13: Train Loss: 1.448 | Train Acc: 83.855% | Val Loss: 1.563 | Val Acc: 68.000%\n",
            "Epoch 14: Train Loss: 1.382 | Train Acc: 86.859% | Val Loss: 1.561 | Val Acc: 65.500%\n",
            "Epoch 15: Train Loss: 1.367 | Train Acc: 86.358% | Val Loss: 1.505 | Val Acc: 68.500%\n",
            "Epoch 16: Train Loss: 1.327 | Train Acc: 87.109% | Val Loss: 1.455 | Val Acc: 73.000%\n",
            "Epoch 17: Train Loss: 1.287 | Train Acc: 87.109% | Val Loss: 1.548 | Val Acc: 66.000%\n",
            "Epoch 18: Train Loss: 1.246 | Train Acc: 87.985% | Val Loss: 1.421 | Val Acc: 74.000%\n",
            "Epoch 19: Train Loss: 1.224 | Train Acc: 87.860% | Val Loss: 1.364 | Val Acc: 73.500%\n",
            "Epoch 20: Train Loss: 1.235 | Train Acc: 86.984% | Val Loss: 1.468 | Val Acc: 65.500%\n",
            "Epoch 21: Train Loss: 1.182 | Train Acc: 86.984% | Val Loss: 1.382 | Val Acc: 69.500%\n",
            "Epoch 22: Train Loss: 1.158 | Train Acc: 88.360% | Val Loss: 1.372 | Val Acc: 69.000%\n",
            "Epoch 23: Train Loss: 1.107 | Train Acc: 89.737% | Val Loss: 1.381 | Val Acc: 71.500%\n",
            "Epoch 24: Train Loss: 1.094 | Train Acc: 87.359% | Val Loss: 1.313 | Val Acc: 74.000%\n",
            "Epoch 25: Train Loss: 1.042 | Train Acc: 89.487% | Val Loss: 1.334 | Val Acc: 73.000%\n",
            "Epoch 26: Train Loss: 0.991 | Train Acc: 90.989% | Val Loss: 1.306 | Val Acc: 71.500%\n",
            "Epoch 27: Train Loss: 0.992 | Train Acc: 92.365% | Val Loss: 1.267 | Val Acc: 68.500%\n",
            "Epoch 28: Train Loss: 0.977 | Train Acc: 89.987% | Val Loss: 1.269 | Val Acc: 69.000%\n",
            "Epoch 29: Train Loss: 0.943 | Train Acc: 91.615% | Val Loss: 1.243 | Val Acc: 72.000%\n",
            "Epoch 30: Train Loss: 0.929 | Train Acc: 90.488% | Val Loss: 1.238 | Val Acc: 71.500%\n",
            "Epoch 31: Train Loss: 0.892 | Train Acc: 91.364% | Val Loss: 1.272 | Val Acc: 67.000%\n",
            "Epoch 32: Train Loss: 0.858 | Train Acc: 92.991% | Val Loss: 1.269 | Val Acc: 69.000%\n",
            "Epoch 33: Train Loss: 0.871 | Train Acc: 90.363% | Val Loss: 1.228 | Val Acc: 71.000%\n",
            "Epoch 34: Train Loss: 0.834 | Train Acc: 91.990% | Val Loss: 1.228 | Val Acc: 68.500%\n",
            "Epoch 35: Train Loss: 0.836 | Train Acc: 91.114% | Val Loss: 1.079 | Val Acc: 73.500%\n",
            "Epoch 36: Train Loss: 0.815 | Train Acc: 91.489% | Val Loss: 1.129 | Val Acc: 73.000%\n",
            "Epoch 37: Train Loss: 0.793 | Train Acc: 91.740% | Val Loss: 1.090 | Val Acc: 73.500%\n",
            "Epoch 38: Train Loss: 0.759 | Train Acc: 93.742% | Val Loss: 1.104 | Val Acc: 77.000%\n",
            "Epoch 39: Train Loss: 0.754 | Train Acc: 93.367% | Val Loss: 1.088 | Val Acc: 72.500%\n",
            "Epoch 40: Train Loss: 0.728 | Train Acc: 93.116% | Val Loss: 1.083 | Val Acc: 73.500%\n",
            "Epoch 41: Train Loss: 0.727 | Train Acc: 93.242% | Val Loss: 1.084 | Val Acc: 70.000%\n",
            "Epoch 42: Train Loss: 0.707 | Train Acc: 92.365% | Val Loss: 1.062 | Val Acc: 73.000%\n",
            "Epoch 43: Train Loss: 0.691 | Train Acc: 93.367% | Val Loss: 1.067 | Val Acc: 72.500%\n",
            "Epoch 44: Train Loss: 0.676 | Train Acc: 92.365% | Val Loss: 1.086 | Val Acc: 75.000%\n",
            "Epoch 45: Train Loss: 0.684 | Train Acc: 91.114% | Val Loss: 1.119 | Val Acc: 70.000%\n",
            "Epoch 46: Train Loss: 0.696 | Train Acc: 90.864% | Val Loss: 1.068 | Val Acc: 75.500%\n",
            "Epoch 47: Train Loss: 0.685 | Train Acc: 90.238% | Val Loss: 1.137 | Val Acc: 67.000%\n",
            "Epoch 48: Train Loss: 0.687 | Train Acc: 90.989% | Val Loss: 1.047 | Val Acc: 70.000%\n",
            "Epoch 49: Train Loss: 0.675 | Train Acc: 89.612% | Val Loss: 1.136 | Val Acc: 71.000%\n",
            "Epoch 50: Train Loss: 0.706 | Train Acc: 88.611% | Val Loss: 1.199 | Val Acc: 66.500%\n",
            "Epoch 51: Train Loss: 0.655 | Train Acc: 90.989% | Val Loss: 1.033 | Val Acc: 70.500%\n",
            "Epoch 52: Train Loss: 0.604 | Train Acc: 92.741% | Val Loss: 1.065 | Val Acc: 71.500%\n",
            "Epoch 53: Train Loss: 0.595 | Train Acc: 92.616% | Val Loss: 1.046 | Val Acc: 74.000%\n",
            "Epoch 54: Train Loss: 0.569 | Train Acc: 93.617% | Val Loss: 1.096 | Val Acc: 70.500%\n",
            "Epoch 55: Train Loss: 0.579 | Train Acc: 91.239% | Val Loss: 1.106 | Val Acc: 72.000%\n",
            "Epoch 56: Train Loss: 0.568 | Train Acc: 92.240% | Val Loss: 0.990 | Val Acc: 74.000%\n",
            "Epoch 57: Train Loss: 0.544 | Train Acc: 91.990% | Val Loss: 1.049 | Val Acc: 72.500%\n",
            "Epoch 58: Train Loss: 0.550 | Train Acc: 91.990% | Val Loss: 1.125 | Val Acc: 68.000%\n",
            "Epoch 59: Train Loss: 0.538 | Train Acc: 92.115% | Val Loss: 1.058 | Val Acc: 70.000%\n",
            "Epoch 60: Train Loss: 0.536 | Train Acc: 92.866% | Val Loss: 1.046 | Val Acc: 71.500%\n",
            "Epoch 61: Train Loss: 0.544 | Train Acc: 91.865% | Val Loss: 1.031 | Val Acc: 69.500%\n",
            "Epoch 62: Train Loss: 0.515 | Train Acc: 92.240% | Val Loss: 1.160 | Val Acc: 71.500%\n",
            "Epoch 63: Train Loss: 0.500 | Train Acc: 93.992% | Val Loss: 1.053 | Val Acc: 73.500%\n",
            "Epoch 64: Train Loss: 0.499 | Train Acc: 93.242% | Val Loss: 1.001 | Val Acc: 74.500%\n",
            "Epoch 65: Train Loss: 0.489 | Train Acc: 92.991% | Val Loss: 1.032 | Val Acc: 72.000%\n",
            "Epoch 66: Train Loss: 0.504 | Train Acc: 91.865% | Val Loss: 1.035 | Val Acc: 71.000%\n",
            "Epoch 67: Train Loss: 0.482 | Train Acc: 93.742% | Val Loss: 1.023 | Val Acc: 72.500%\n",
            "Epoch 68: Train Loss: 0.463 | Train Acc: 93.116% | Val Loss: 1.077 | Val Acc: 70.000%\n",
            "Epoch 69: Train Loss: 0.470 | Train Acc: 93.992% | Val Loss: 1.054 | Val Acc: 73.000%\n",
            "Epoch 70: Train Loss: 0.469 | Train Acc: 93.242% | Val Loss: 1.027 | Val Acc: 70.000%\n",
            "Epoch 71: Train Loss: 0.461 | Train Acc: 91.865% | Val Loss: 1.019 | Val Acc: 72.500%\n",
            "Epoch 72: Train Loss: 0.447 | Train Acc: 94.618% | Val Loss: 1.101 | Val Acc: 70.000%\n",
            "Epoch 73: Train Loss: 0.442 | Train Acc: 93.867% | Val Loss: 1.071 | Val Acc: 68.000%\n",
            "Epoch 74: Train Loss: 0.446 | Train Acc: 92.991% | Val Loss: 1.151 | Val Acc: 68.500%\n",
            "Epoch 75: Train Loss: 0.424 | Train Acc: 94.368% | Val Loss: 1.050 | Val Acc: 70.500%\n",
            "Epoch 76: Train Loss: 0.430 | Train Acc: 93.242% | Val Loss: 1.066 | Val Acc: 68.500%\n",
            "Epoch 77: Train Loss: 0.412 | Train Acc: 94.243% | Val Loss: 1.127 | Val Acc: 69.000%\n",
            "Epoch 78: Train Loss: 0.428 | Train Acc: 92.866% | Val Loss: 1.034 | Val Acc: 71.000%\n",
            "Epoch 79: Train Loss: 0.403 | Train Acc: 92.991% | Val Loss: 1.029 | Val Acc: 72.000%\n",
            "Epoch 80: Train Loss: 0.430 | Train Acc: 93.617% | Val Loss: 1.037 | Val Acc: 69.500%\n",
            "Epoch 81: Train Loss: 0.421 | Train Acc: 92.991% | Val Loss: 1.052 | Val Acc: 72.000%\n",
            "Epoch 82: Train Loss: 0.420 | Train Acc: 92.115% | Val Loss: 1.110 | Val Acc: 67.000%\n",
            "Epoch 83: Train Loss: 0.481 | Train Acc: 91.239% | Val Loss: 1.022 | Val Acc: 70.500%\n",
            "Epoch 84: Train Loss: 0.585 | Train Acc: 87.234% | Val Loss: 1.065 | Val Acc: 65.000%\n",
            "Epoch 85: Train Loss: 0.533 | Train Acc: 89.111% | Val Loss: 1.155 | Val Acc: 66.000%\n",
            "Epoch 86: Train Loss: 0.528 | Train Acc: 87.860% | Val Loss: 1.125 | Val Acc: 68.000%\n",
            "Epoch 87: Train Loss: 0.506 | Train Acc: 89.237% | Val Loss: 1.030 | Val Acc: 69.500%\n",
            "Epoch 88: Train Loss: 0.431 | Train Acc: 93.116% | Val Loss: 1.186 | Val Acc: 67.500%\n",
            "Epoch 89: Train Loss: 0.449 | Train Acc: 91.740% | Val Loss: 1.254 | Val Acc: 63.000%\n",
            "Epoch 90: Train Loss: 0.477 | Train Acc: 90.113% | Val Loss: 1.222 | Val Acc: 69.000%\n",
            "Epoch 91: Train Loss: 0.435 | Train Acc: 91.990% | Val Loss: 1.238 | Val Acc: 67.000%\n",
            "Epoch 92: Train Loss: 0.420 | Train Acc: 91.740% | Val Loss: 1.119 | Val Acc: 71.500%\n",
            "Epoch 93: Train Loss: 0.398 | Train Acc: 93.617% | Val Loss: 1.192 | Val Acc: 67.000%\n",
            "Epoch 94: Train Loss: 0.372 | Train Acc: 94.493% | Val Loss: 1.116 | Val Acc: 68.500%\n",
            "Epoch 95: Train Loss: 0.386 | Train Acc: 93.992% | Val Loss: 1.143 | Val Acc: 67.500%\n",
            "Epoch 96: Train Loss: 0.359 | Train Acc: 94.618% | Val Loss: 1.102 | Val Acc: 68.500%\n",
            "Epoch 97: Train Loss: 0.362 | Train Acc: 94.368% | Val Loss: 1.179 | Val Acc: 65.000%\n",
            "Epoch 98: Train Loss: 0.339 | Train Acc: 93.867% | Val Loss: 1.129 | Val Acc: 66.500%\n",
            "Epoch 99: Train Loss: 0.333 | Train Acc: 93.867% | Val Loss: 1.120 | Val Acc: 71.000%\n",
            "Epoch 100: Train Loss: 0.345 | Train Acc: 92.991% | Val Loss: 1.094 | Val Acc: 69.000%\n",
            "Epoch 101: Train Loss: 0.337 | Train Acc: 95.494% | Val Loss: 1.117 | Val Acc: 68.000%\n",
            "Epoch 102: Train Loss: 0.320 | Train Acc: 95.494% | Val Loss: 1.158 | Val Acc: 67.000%\n",
            "Epoch 103: Train Loss: 0.316 | Train Acc: 94.994% | Val Loss: 1.182 | Val Acc: 67.500%\n",
            "Epoch 104: Train Loss: 0.313 | Train Acc: 95.995% | Val Loss: 1.196 | Val Acc: 68.500%\n",
            "Epoch 105: Train Loss: 0.335 | Train Acc: 94.493% | Val Loss: 1.202 | Val Acc: 67.500%\n",
            "Epoch 106: Train Loss: 0.320 | Train Acc: 94.243% | Val Loss: 1.124 | Val Acc: 69.500%\n",
            "Epoch 107: Train Loss: 0.313 | Train Acc: 94.618% | Val Loss: 1.127 | Val Acc: 68.500%\n",
            "Epoch 108: Train Loss: 0.317 | Train Acc: 93.742% | Val Loss: 1.125 | Val Acc: 68.500%\n",
            "Epoch 109: Train Loss: 0.300 | Train Acc: 94.743% | Val Loss: 1.146 | Val Acc: 69.000%\n",
            "Epoch 110: Train Loss: 0.303 | Train Acc: 94.368% | Val Loss: 1.111 | Val Acc: 68.500%\n",
            "Epoch 111: Train Loss: 0.304 | Train Acc: 94.994% | Val Loss: 1.210 | Val Acc: 66.000%\n",
            "Epoch 112: Train Loss: 0.301 | Train Acc: 94.994% | Val Loss: 1.114 | Val Acc: 70.500%\n",
            "Epoch 113: Train Loss: 0.276 | Train Acc: 96.245% | Val Loss: 1.141 | Val Acc: 66.500%\n",
            "Epoch 114: Train Loss: 0.288 | Train Acc: 95.494% | Val Loss: 1.177 | Val Acc: 69.500%\n",
            "Epoch 115: Train Loss: 0.273 | Train Acc: 94.618% | Val Loss: 1.180 | Val Acc: 63.500%\n",
            "Epoch 116: Train Loss: 0.294 | Train Acc: 93.492% | Val Loss: 1.177 | Val Acc: 70.000%\n",
            "Epoch 117: Train Loss: 0.304 | Train Acc: 93.742% | Val Loss: 1.168 | Val Acc: 72.000%\n",
            "Epoch 118: Train Loss: 0.293 | Train Acc: 94.618% | Val Loss: 1.189 | Val Acc: 69.500%\n",
            "Epoch 119: Train Loss: 0.285 | Train Acc: 94.743% | Val Loss: 1.140 | Val Acc: 69.000%\n",
            "Epoch 120: Train Loss: 0.279 | Train Acc: 95.494% | Val Loss: 1.287 | Val Acc: 64.000%\n",
            "Epoch 121: Train Loss: 0.266 | Train Acc: 94.994% | Val Loss: 1.244 | Val Acc: 65.000%\n",
            "Epoch 122: Train Loss: 0.265 | Train Acc: 94.493% | Val Loss: 1.086 | Val Acc: 67.000%\n",
            "Epoch 123: Train Loss: 0.286 | Train Acc: 94.618% | Val Loss: 1.114 | Val Acc: 66.500%\n",
            "Epoch 124: Train Loss: 0.261 | Train Acc: 94.493% | Val Loss: 1.124 | Val Acc: 68.000%\n",
            "Epoch 125: Train Loss: 0.257 | Train Acc: 95.244% | Val Loss: 1.152 | Val Acc: 67.500%\n",
            "Epoch 126: Train Loss: 0.261 | Train Acc: 95.244% | Val Loss: 1.150 | Val Acc: 70.500%\n",
            "Epoch 127: Train Loss: 0.253 | Train Acc: 95.995% | Val Loss: 1.171 | Val Acc: 70.500%\n",
            "Epoch 128: Train Loss: 0.261 | Train Acc: 94.368% | Val Loss: 1.193 | Val Acc: 73.000%\n",
            "Epoch 129: Train Loss: 0.259 | Train Acc: 95.244% | Val Loss: 1.264 | Val Acc: 70.500%\n",
            "Epoch 130: Train Loss: 0.253 | Train Acc: 94.743% | Val Loss: 1.283 | Val Acc: 66.000%\n",
            "Epoch 131: Train Loss: 0.247 | Train Acc: 95.119% | Val Loss: 1.204 | Val Acc: 67.000%\n",
            "Epoch 132: Train Loss: 0.221 | Train Acc: 96.996% | Val Loss: 1.128 | Val Acc: 71.000%\n",
            "Epoch 133: Train Loss: 0.245 | Train Acc: 95.494% | Val Loss: 1.130 | Val Acc: 67.500%\n",
            "Epoch 134: Train Loss: 0.252 | Train Acc: 95.369% | Val Loss: 1.232 | Val Acc: 67.500%\n",
            "Epoch 135: Train Loss: 0.274 | Train Acc: 94.368% | Val Loss: 1.174 | Val Acc: 67.000%\n",
            "Epoch 136: Train Loss: 0.478 | Train Acc: 86.733% | Val Loss: 1.425 | Val Acc: 66.500%\n",
            "Epoch 137: Train Loss: 0.918 | Train Acc: 75.094% | Val Loss: 1.568 | Val Acc: 55.500%\n",
            "Epoch 138: Train Loss: 0.588 | Train Acc: 84.230% | Val Loss: 1.130 | Val Acc: 68.000%\n",
            "Epoch 139: Train Loss: 0.385 | Train Acc: 90.363% | Val Loss: 1.034 | Val Acc: 64.500%\n",
            "Epoch 140: Train Loss: 0.367 | Train Acc: 91.364% | Val Loss: 0.991 | Val Acc: 72.500%\n",
            "Epoch 141: Train Loss: 0.348 | Train Acc: 91.990% | Val Loss: 1.051 | Val Acc: 69.500%\n",
            "Epoch 142: Train Loss: 0.375 | Train Acc: 90.613% | Val Loss: 1.153 | Val Acc: 68.500%\n",
            "Epoch 143: Train Loss: 0.368 | Train Acc: 92.866% | Val Loss: 1.063 | Val Acc: 72.000%\n",
            "Epoch 144: Train Loss: 0.303 | Train Acc: 93.116% | Val Loss: 1.073 | Val Acc: 69.500%\n",
            "Epoch 145: Train Loss: 0.293 | Train Acc: 93.617% | Val Loss: 1.000 | Val Acc: 70.000%\n",
            "Epoch 146: Train Loss: 0.270 | Train Acc: 94.618% | Val Loss: 1.190 | Val Acc: 68.500%\n",
            "Epoch 147: Train Loss: 0.240 | Train Acc: 95.620% | Val Loss: 1.173 | Val Acc: 71.000%\n",
            "Epoch 148: Train Loss: 0.241 | Train Acc: 94.743% | Val Loss: 1.077 | Val Acc: 72.000%\n",
            "Epoch 149: Train Loss: 0.234 | Train Acc: 94.618% | Val Loss: 1.044 | Val Acc: 73.500%\n",
            "Epoch 150: Train Loss: 0.232 | Train Acc: 94.869% | Val Loss: 1.025 | Val Acc: 73.500%\n",
            "Epoch 151: Train Loss: 0.227 | Train Acc: 94.368% | Val Loss: 1.125 | Val Acc: 67.500%\n",
            "Epoch 152: Train Loss: 0.226 | Train Acc: 95.119% | Val Loss: 1.174 | Val Acc: 69.500%\n",
            "Epoch 153: Train Loss: 0.244 | Train Acc: 95.244% | Val Loss: 1.143 | Val Acc: 73.000%\n",
            "Epoch 154: Train Loss: 0.231 | Train Acc: 95.494% | Val Loss: 1.138 | Val Acc: 70.500%\n",
            "Epoch 155: Train Loss: 0.206 | Train Acc: 96.120% | Val Loss: 1.113 | Val Acc: 72.000%\n",
            "Epoch 156: Train Loss: 0.205 | Train Acc: 96.120% | Val Loss: 1.088 | Val Acc: 71.000%\n",
            "Epoch 157: Train Loss: 0.222 | Train Acc: 96.120% | Val Loss: 1.162 | Val Acc: 73.500%\n",
            "Epoch 158: Train Loss: 0.204 | Train Acc: 95.494% | Val Loss: 1.116 | Val Acc: 71.000%\n",
            "Epoch 159: Train Loss: 0.219 | Train Acc: 95.620% | Val Loss: 1.063 | Val Acc: 72.000%\n",
            "Epoch 160: Train Loss: 0.215 | Train Acc: 95.369% | Val Loss: 1.101 | Val Acc: 71.500%\n",
            "Epoch 161: Train Loss: 0.230 | Train Acc: 94.118% | Val Loss: 1.192 | Val Acc: 70.500%\n",
            "Epoch 162: Train Loss: 0.214 | Train Acc: 95.244% | Val Loss: 1.134 | Val Acc: 69.000%\n",
            "Epoch 163: Train Loss: 0.214 | Train Acc: 95.745% | Val Loss: 1.112 | Val Acc: 73.000%\n",
            "Epoch 164: Train Loss: 0.222 | Train Acc: 95.244% | Val Loss: 1.157 | Val Acc: 70.000%\n",
            "Epoch 165: Train Loss: 0.220 | Train Acc: 94.869% | Val Loss: 1.087 | Val Acc: 73.000%\n",
            "Epoch 166: Train Loss: 0.213 | Train Acc: 94.869% | Val Loss: 1.105 | Val Acc: 73.500%\n",
            "Epoch 167: Train Loss: 0.236 | Train Acc: 94.869% | Val Loss: 1.282 | Val Acc: 68.500%\n",
            "Epoch 168: Train Loss: 0.277 | Train Acc: 93.492% | Val Loss: 1.201 | Val Acc: 62.500%\n",
            "Epoch 169: Train Loss: 0.362 | Train Acc: 90.738% | Val Loss: 1.312 | Val Acc: 67.000%\n",
            "Epoch 170: Train Loss: 0.291 | Train Acc: 92.115% | Val Loss: 1.095 | Val Acc: 70.000%\n",
            "Epoch 171: Train Loss: 0.289 | Train Acc: 92.616% | Val Loss: 1.102 | Val Acc: 71.000%\n",
            "Epoch 172: Train Loss: 0.315 | Train Acc: 91.364% | Val Loss: 1.175 | Val Acc: 68.500%\n",
            "Epoch 173: Train Loss: 0.267 | Train Acc: 93.116% | Val Loss: 1.120 | Val Acc: 71.500%\n",
            "Epoch 174: Train Loss: 0.248 | Train Acc: 94.243% | Val Loss: 1.209 | Val Acc: 69.500%\n",
            "Epoch 175: Train Loss: 0.234 | Train Acc: 93.742% | Val Loss: 1.071 | Val Acc: 74.500%\n",
            "Epoch 176: Train Loss: 0.223 | Train Acc: 94.243% | Val Loss: 1.087 | Val Acc: 71.000%\n",
            "Epoch 177: Train Loss: 0.226 | Train Acc: 92.491% | Val Loss: 1.097 | Val Acc: 70.000%\n",
            "Epoch 178: Train Loss: 0.208 | Train Acc: 95.369% | Val Loss: 1.145 | Val Acc: 73.500%\n",
            "Epoch 179: Train Loss: 0.457 | Train Acc: 88.110% | Val Loss: 1.337 | Val Acc: 66.500%\n",
            "Epoch 180: Train Loss: 0.440 | Train Acc: 88.986% | Val Loss: 1.291 | Val Acc: 70.500%\n",
            "Epoch 181: Train Loss: 0.317 | Train Acc: 91.615% | Val Loss: 1.088 | Val Acc: 72.500%\n",
            "Epoch 182: Train Loss: 0.261 | Train Acc: 92.866% | Val Loss: 1.088 | Val Acc: 68.000%\n",
            "Epoch 183: Train Loss: 0.261 | Train Acc: 93.492% | Val Loss: 1.167 | Val Acc: 69.500%\n",
            "Epoch 184: Train Loss: 0.231 | Train Acc: 94.368% | Val Loss: 1.044 | Val Acc: 70.500%\n",
            "Epoch 185: Train Loss: 0.211 | Train Acc: 94.869% | Val Loss: 1.043 | Val Acc: 71.500%\n",
            "Epoch 186: Train Loss: 0.209 | Train Acc: 96.245% | Val Loss: 1.233 | Val Acc: 70.000%\n",
            "Epoch 187: Train Loss: 0.243 | Train Acc: 93.742% | Val Loss: 1.243 | Val Acc: 67.000%\n"
          ]
        },
        {
          "output_type": "error",
          "ename": "KeyboardInterrupt",
          "evalue": "ignored",
          "traceback": [
            "\u001b[0;31m---------------------------------------------------------------------------\u001b[0m",
            "\u001b[0;31mKeyboardInterrupt\u001b[0m                         Traceback (most recent call last)",
            "\u001b[0;32m<ipython-input-63-6ac32400e4a1>\u001b[0m in \u001b[0;36m<cell line: 3>\u001b[0;34m()\u001b[0m\n\u001b[1;32m     21\u001b[0m \u001b[0;34m\u001b[0m\u001b[0m\n\u001b[1;32m     22\u001b[0m         \u001b[0;31m# Backward pass and optimization\u001b[0m\u001b[0;34m\u001b[0m\u001b[0;34m\u001b[0m\u001b[0m\n\u001b[0;32m---> 23\u001b[0;31m         \u001b[0mloss\u001b[0m\u001b[0;34m.\u001b[0m\u001b[0mbackward\u001b[0m\u001b[0;34m(\u001b[0m\u001b[0;34m)\u001b[0m\u001b[0;34m\u001b[0m\u001b[0;34m\u001b[0m\u001b[0m\n\u001b[0m\u001b[1;32m     24\u001b[0m         \u001b[0mcnn_mlp_optimizer\u001b[0m\u001b[0;34m.\u001b[0m\u001b[0mstep\u001b[0m\u001b[0;34m(\u001b[0m\u001b[0;34m)\u001b[0m\u001b[0;34m\u001b[0m\u001b[0;34m\u001b[0m\u001b[0m\n\u001b[1;32m     25\u001b[0m \u001b[0;34m\u001b[0m\u001b[0m\n",
            "\u001b[0;32m/usr/local/lib/python3.9/dist-packages/torch/_tensor.py\u001b[0m in \u001b[0;36mbackward\u001b[0;34m(self, gradient, retain_graph, create_graph, inputs)\u001b[0m\n\u001b[1;32m    485\u001b[0m                 \u001b[0minputs\u001b[0m\u001b[0;34m=\u001b[0m\u001b[0minputs\u001b[0m\u001b[0;34m,\u001b[0m\u001b[0;34m\u001b[0m\u001b[0;34m\u001b[0m\u001b[0m\n\u001b[1;32m    486\u001b[0m             )\n\u001b[0;32m--> 487\u001b[0;31m         torch.autograd.backward(\n\u001b[0m\u001b[1;32m    488\u001b[0m             \u001b[0mself\u001b[0m\u001b[0;34m,\u001b[0m \u001b[0mgradient\u001b[0m\u001b[0;34m,\u001b[0m \u001b[0mretain_graph\u001b[0m\u001b[0;34m,\u001b[0m \u001b[0mcreate_graph\u001b[0m\u001b[0;34m,\u001b[0m \u001b[0minputs\u001b[0m\u001b[0;34m=\u001b[0m\u001b[0minputs\u001b[0m\u001b[0;34m\u001b[0m\u001b[0;34m\u001b[0m\u001b[0m\n\u001b[1;32m    489\u001b[0m         )\n",
            "\u001b[0;32m/usr/local/lib/python3.9/dist-packages/torch/autograd/__init__.py\u001b[0m in \u001b[0;36mbackward\u001b[0;34m(tensors, grad_tensors, retain_graph, create_graph, grad_variables, inputs)\u001b[0m\n\u001b[1;32m    198\u001b[0m     \u001b[0;31m# some Python versions print out the first line of a multi-line function\u001b[0m\u001b[0;34m\u001b[0m\u001b[0;34m\u001b[0m\u001b[0m\n\u001b[1;32m    199\u001b[0m     \u001b[0;31m# calls in the traceback and some print out the last line\u001b[0m\u001b[0;34m\u001b[0m\u001b[0;34m\u001b[0m\u001b[0m\n\u001b[0;32m--> 200\u001b[0;31m     Variable._execution_engine.run_backward(  # Calls into the C++ engine to run the backward pass\n\u001b[0m\u001b[1;32m    201\u001b[0m         \u001b[0mtensors\u001b[0m\u001b[0;34m,\u001b[0m \u001b[0mgrad_tensors_\u001b[0m\u001b[0;34m,\u001b[0m \u001b[0mretain_graph\u001b[0m\u001b[0;34m,\u001b[0m \u001b[0mcreate_graph\u001b[0m\u001b[0;34m,\u001b[0m \u001b[0minputs\u001b[0m\u001b[0;34m,\u001b[0m\u001b[0;34m\u001b[0m\u001b[0;34m\u001b[0m\u001b[0m\n\u001b[1;32m    202\u001b[0m         allow_unreachable=True, accumulate_grad=True)  # Calls into the C++ engine to run the backward pass\n",
            "\u001b[0;31mKeyboardInterrupt\u001b[0m: "
          ]
        }
      ],
      "source": [
        "#Main Loop\n",
        "\n",
        "for epoch in range(cnn_mlp_epochs):\n",
        "    running_loss = 0.0\n",
        "    correct = 0\n",
        "    total = 0\n",
        "    \n",
        "    for batch_idx, (inputs1, inputs2, targets) in enumerate(joined_train_loader):\n",
        "      \n",
        "        #Moves inputs to the gpu\n",
        "        inputs1 = inputs1.to('cuda')\n",
        "        inputs2 = inputs2.to('cuda')\n",
        "        targets = targets.to('cuda')\n",
        "\n",
        "        # Zero the gradients\n",
        "        cnn_mlp_optimizer.zero_grad()\n",
        "        \n",
        "        # Forward pass\n",
        "        outputs = cnn_mlp(inputs1, inputs2)\n",
        "        loss = cnn_mlp_loss(outputs, targets)\n",
        "        \n",
        "        # Backward pass and optimization\n",
        "        loss.backward()\n",
        "        cnn_mlp_optimizer.step()\n",
        "        \n",
        "        # Compute running loss and accuracy\n",
        "        running_loss += loss.item()\n",
        "        _, predicted = outputs.max(1)\n",
        "        total += targets.size(0)\n",
        "        correct += predicted.eq(targets).sum().item()\n",
        "        \n",
        "    # Compute validation loss and accuracy\n",
        "    val_loss = 0.0\n",
        "    val_correct = 0\n",
        "    val_total = 0\n",
        "    \n",
        "    with torch.no_grad():\n",
        "        for inputs1, inputs2, targets in joined_test_loader:\n",
        "\n",
        "            #Moves inputs to gpu\n",
        "            inputs1 = inputs1.to('cuda')\n",
        "            inputs2 = inputs2.to('cuda')\n",
        "            targets = targets.to('cuda')\n",
        "            \n",
        "            outputs = cnn_mlp(inputs1, inputs2)\n",
        "            loss = cnn_mlp_loss(outputs, targets)\n",
        "            val_loss += loss.item()\n",
        "            _, predicted = outputs.max(1)\n",
        "            val_total += targets.size(0)\n",
        "            val_correct += predicted.eq(targets).sum().item()\n",
        "    \n",
        "\n",
        "    # Print epoch statistics\n",
        "    print('Epoch %d: Train Loss: %.3f | Train Acc: %.3f%% | Val Loss: %.3f | Val Acc: %.3f%%'\n",
        "          % (epoch+1, running_loss/len(joined_train_loader), 100*correct/total,\n",
        "             val_loss/len(joined_test_loader), 100*val_correct/val_total))"
      ]
    },
    {
      "cell_type": "markdown",
      "metadata": {
        "id": "zGquxxpFZ_cs"
      },
      "source": [
        "### ??????^"
      ]
    },
    {
      "cell_type": "code",
      "source": [],
      "metadata": {
        "id": "Q8DyxMHKgZGd"
      },
      "execution_count": null,
      "outputs": []
    }
  ],
  "metadata": {
    "accelerator": "GPU",
    "colab": {
      "provenance": []
    },
    "gpuClass": "standard",
    "kernelspec": {
      "display_name": "Python 3 (ipykernel)",
      "language": "python",
      "name": "python3"
    },
    "language_info": {
      "codemirror_mode": {
        "name": "ipython",
        "version": 3
      },
      "file_extension": ".py",
      "mimetype": "text/x-python",
      "name": "python",
      "nbconvert_exporter": "python",
      "pygments_lexer": "ipython3",
      "version": "3.9.7"
    }
  },
  "nbformat": 4,
  "nbformat_minor": 0
}