{
 "cells": [
  {
   "cell_type": "code",
   "execution_count": null,
   "id": "cbbb2f53",
   "metadata": {},
   "outputs": [],
   "source": [
    "import cv2\n",
    "import torch\n",
    "from torch import nn\n",
    "from d2l import torch as d2l\n",
    "from torch.utils.data import DataLoader\n",
    "import os"
   ]
  },
  {
   "cell_type": "markdown",
   "id": "4564d4af",
   "metadata": {},
   "source": [
    "## Data Loading"
   ]
  },
  {
   "cell_type": "code",
   "execution_count": null,
   "id": "5d541d23",
   "metadata": {},
   "outputs": [],
   "source": [
    "path = \"../Data/images_original/metal/metal00000.png\"\n",
    "obs = cv2.imread(path, cv2.IMREAD_GRAYSCALE)\n",
    "obs = obs[35:-36:, 54:-43]\n",
    "obs = torch.from_numpy(obs)\n",
    "obs = torch.reshape(obs, (1,1,217,335))\n",
    "obs = obs.to(dtype = torch.float32)"
   ]
  },
  {
   "cell_type": "code",
   "execution_count": null,
   "id": "2b43fb1f",
   "metadata": {},
   "outputs": [],
   "source": [
    "class_dict = {'blues' : 0,\n",
    "              'classical': 1,\n",
    "              'country': 2,\n",
    "              'disco' : 3,\n",
    "              'hiphop' : 4,\n",
    "              'jazz' : 5,\n",
    "              'metal' : 6,\n",
    "              'pop' : 7,\n",
    "              'reggae': 8,\n",
    "              'rock' : 9    \n",
    "}"
   ]
  },
  {
   "cell_type": "code",
   "execution_count": null,
   "id": "41460ab7",
   "metadata": {
    "scrolled": true
   },
   "outputs": [],
   "source": [
    "def collect_data():\n",
    "    data = []\n",
    "    # Collect all images from the 10 genres\n",
    "    for genre in os.listdir(\"../Data/images_original\"):\n",
    "        for image in os.listdir(\"../Data/images_original/\" + genre):\n",
    "            image_path = \"../Data/images_original/\" + genre + \"/\" + image\n",
    "            grayscale_img = cv2.imread(image_path, cv2.IMREAD_GRAYSCALE)\n",
    "            grayscale_img = grayscale_img[35:-36:, 54:-43]\n",
    "            grayscale_img = torch.tensor(grayscale_img).to(dtype = torch.float32).clone().detach().requires_grad_(True)  #.requires_grad(True)\n",
    "            #grayscale_img = torch.tensor(grayscale_img, requires_grad=True)\n",
    "            # Splitting each image vertically into 5 different parts\n",
    "            for i in range(5):\n",
    "                # The data loader adds a dimension so I've removed a dimension from the image and class\n",
    "                data.append((grayscale_img[ : ,  (67*i):67*(i+1)].reshape(1,217,67), torch.tensor(class_dict.get(genre)))) #.reshape(1)))\n",
    "            \n",
    "    return data         \n"
   ]
  },
  {
   "cell_type": "code",
   "execution_count": null,
   "id": "925ad066",
   "metadata": {},
   "outputs": [],
   "source": [
    "data = collect_data()"
   ]
  },
  {
   "cell_type": "code",
   "execution_count": null,
   "id": "b95b81fc",
   "metadata": {},
   "outputs": [],
   "source": [
    "len(data)"
   ]
  },
  {
   "cell_type": "code",
   "execution_count": null,
   "id": "9a5cb96c",
   "metadata": {},
   "outputs": [],
   "source": [
    "data[500]   #[0].shape"
   ]
  },
  {
   "cell_type": "code",
   "execution_count": null,
   "id": "937de8cc",
   "metadata": {},
   "outputs": [],
   "source": [
    "train_size = int(0.8 * len(data))\n",
    "test_size = len(data) - train_size\n",
    "train_dataset, test_dataset = torch.utils.data.random_split(data, [train_size, test_size])\n",
    "\n",
    "train_dataset[2]"
   ]
  },
  {
   "cell_type": "code",
   "execution_count": null,
   "id": "ee3b6e69",
   "metadata": {},
   "outputs": [],
   "source": [
    "# Get data in dataloader format\n",
    "train_loader = DataLoader(train_dataset, batch_size=16, shuffle=True)\n",
    "test_loader = DataLoader(test_dataset, batch_size=10, shuffle=False)"
   ]
  },
  {
   "cell_type": "markdown",
   "id": "b0ffcd38",
   "metadata": {},
   "source": [
    "## First CNN"
   ]
  },
  {
   "cell_type": "code",
   "execution_count": null,
   "id": "94e2e407",
   "metadata": {
    "scrolled": true
   },
   "outputs": [],
   "source": [
    "'''\n",
    "Parameters\n",
    "'''\n",
    "\n",
    "epochs = 50\n",
    "lr = 0.1\n",
    "batch_size = 10\n",
    "\n",
    "'''\n",
    "Net\n",
    "\n",
    "'''\n",
    "\n",
    "net = nn.Sequential(\n",
    "\n",
    "    nn.Conv2d(1, 32, kernel_size=3, padding = \"same\"), nn.Sigmoid(),\n",
    " \n",
    "    nn.AvgPool2d(kernel_size=2, stride=2),\n",
    "    \n",
    "    nn.Conv2d(32, 64, kernel_size=3, padding = \"same\"), nn.ReLU(),\n",
    " \n",
    "    nn.AvgPool2d(kernel_size=2, stride=2),\n",
    "\n",
    "    nn.Conv2d(64, 128, kernel_size=3, padding = \"same\"), nn.Dropout(0.1), nn.Sigmoid(),\n",
    "\n",
    "    nn.AvgPool2d(kernel_size=2, stride=2),\n",
    "    \n",
    "    nn.Conv2d(128, 256, kernel_size = 2, padding = \"same\"), nn.ReLU(),\n",
    "    \n",
    "    nn.AvgPool2d(kernel_size=2, stride = 2),\n",
    "    \n",
    "    nn.Conv2d(256, 512, kernel_size = 2, padding = \"same\"), nn.Sigmoid(),\n",
    "    \n",
    "    nn.AvgPool2d(kernel_size = 2, stride = 2),\n",
    "    \n",
    "    nn.Conv2d(512, 1024, kernel_size = 3, padding = \"same\"), nn.ReLU(),\n",
    "    \n",
    "    nn.AvgPool2d(kernel_size = 2, stride = 2),\n",
    "    \n",
    "    nn.Conv2d(1024, 2048, kernel_size = 3, padding = \"same\"), nn.Sigmoid(),\n",
    "    \n",
    "    nn.Flatten(),\n",
    "    \n",
    "    nn.Linear(30720, 5000), nn.Dropout(0.2), nn.ReLU(),\n",
    "    \n",
    "    nn.Linear(5000, 4096), nn.Sigmoid(),\n",
    "    \n",
    "    nn.Linear(4096, 512), nn.Sigmoid(),\n",
    "    \n",
    "    nn.Linear(512, 64), nn.ReLU(),\n",
    "    \n",
    "    nn.Linear(64, 10), nn.Sigmoid(),\n",
    "      \n",
    ")\n",
    "\n",
    "\n",
    "'''\n",
    "Loss\n",
    "'''\n",
    "\n",
    "loss = nn.CrossEntropyLoss(reduction='none')\n",
    "\n",
    "'''\n",
    "Trainer\n",
    "'''\n",
    "\n",
    "trainer = torch.optim.Adam(net.parameters(), lr=lr)\n",
    "\n"
   ]
  },
  {
   "cell_type": "markdown",
   "id": "80f7e240",
   "metadata": {},
   "source": [
    "# Sandbox net \n",
    "## Do whatever you want with this"
   ]
  },
  {
   "cell_type": "code",
   "execution_count": null,
   "id": "3d46604a",
   "metadata": {},
   "outputs": [],
   "source": [
    "'''\n",
    "Parameters\n",
    "'''\n",
    "\n",
    "epochs = 50\n",
    "lr = 0.1\n",
    "batch_size = 10\n",
    "\n",
    "'''\n",
    "Net\n",
    "\n",
    "'''\n",
    "\n",
    "net1 = nn.Sequential(\n",
    "\n",
    "    nn.Conv2d(1, 16, kernel_size=2, padding = \"same\"), nn.Sigmoid(),\n",
    " \n",
    "    nn.MaxPool2d(kernel_size=2, stride=2),\n",
    "\n",
    "    nn.Conv2d(16, 32, kernel_size=2, padding = \"same\"), nn.Dropout(0.1), nn.Sigmoid(),\n",
    "\n",
    "    nn.AvgPool2d(kernel_size=2, stride=2),\n",
    "    \n",
    "    nn.Conv2d(32, 128, kernel_size = 2, padding = \"same\"), nn.Dropout(0.1), nn.ReLU(),\n",
    "    \n",
    "    nn.MaxPool2d(kernel_size=2, stride = 2),\n",
    "    \n",
    "    nn.Conv2d(128, 256, kernel_size = 2, padding = \"same\"), nn.ReLU(),\n",
    "    \n",
    "    nn.MaxPool2d(kernel_size = 2, stride = 2),\n",
    "    \n",
    "    nn.Conv2d(256, 1024, kernel_size = 2, padding = \"same\"), nn.Dropout(0.2), nn.ReLU(),\n",
    "    \n",
    "    nn.AvgPool2d(kernel_size = 2, stride = 2),\n",
    "    \n",
    "    nn.Conv2d(1024, 2048, kernel_size = 2, padding = \"same\"), nn.ReLU(),\n",
    "    \n",
    "    nn.Flatten(),\n",
    "    \n",
    "    nn.Linear(122880, 512), nn.Dropout(0.2), nn.ReLU(),\n",
    "    \n",
    "    #The net fails because 20000 != 512, If this is changed it works.\n",
    "    \n",
    "    nn.Linear(512, 128), nn.ReLU(),\n",
    "    \n",
    "    nn.Linear(128, 10), nn.ReLU()\n",
    "      \n",
    ")\n",
    "\n",
    "\n",
    "'''\n",
    "Loss\n",
    "'''\n",
    "\n",
    "loss = nn.CrossEntropyLoss(reduction='none')\n",
    "\n",
    "#loss = nn.KLDivLoss(reduction='none')\n",
    "\n",
    "\n",
    "'''\n",
    "Trainer\n",
    "'''\n",
    "\n",
    "trainer = torch.optim.Adam(net1.parameters(), lr=lr)\n",
    "\n"
   ]
  },
  {
   "cell_type": "code",
   "execution_count": null,
   "id": "55585202",
   "metadata": {},
   "outputs": [],
   "source": [
    "'''\n",
    "Parameters\n",
    "'''\n",
    "\n",
    "epochs = 50\n",
    "lr = 0.1\n",
    "batch_size = 10\n",
    "\n",
    "'''\n",
    "Net\n",
    "\n",
    "'''\n",
    "\n",
    "net2 = nn.Sequential(\n",
    "\n",
    "    nn.Conv2d(1, 16, kernel_size=4, padding = \"same\"), nn.Sigmoid(),\n",
    " \n",
    "    nn.MaxPool2d(kernel_size=4, stride=4),\n",
    "\n",
    "    nn.Conv2d(16, 32, kernel_size=4, padding = \"same\"), nn.Dropout(0.2), nn.Sigmoid(),\n",
    "\n",
    "    nn.AvgPool2d(kernel_size=4, stride=4),\n",
    "    \n",
    "    nn.Conv2d(32, 64, kernel_size =4, padding = \"same\"), nn.Dropout(0.2), nn.ReLU(),\n",
    "    \n",
    "    nn.MaxPool2d(kernel_size=4, stride = 4),\n",
    "    \n",
    "    #nn.Conv2d(128, 256, kernel_size = 2, padding = \"same\"), nn.ReLU(),\n",
    "    \n",
    "    #nn.MaxPool2d(kernel_size =2, stride = 2),\n",
    "    \n",
    "    #nn.Conv2d(256, 512, kernel_size = 3, padding = \"same\"), nn.Dropout(0.2), nn.ReLU(),\n",
    "    \n",
    "    #nn.AvgPool2d(kernel_size = 2, stride = 3),\n",
    "    \n",
    "    #nn.Conv2d(1024, 2048, kernel_size = 2, padding = \"same\"), nn.ReLU(),\n",
    "    \n",
    "    nn.Flatten(),\n",
    "    \n",
    "    #nn.Linear(9216, 4096), nn.Dropout(0.2), nn.ReLU(),\n",
    "    \n",
    "    #nn.Linear(4096, 1024), nn.Dropout(0.2), nn.ReLU(),\n",
    "    \n",
    "    #nn.Linear(1024, 512), nn.Dropout(0.2), nn.Sigmoid(),\n",
    "    \n",
    "    nn.Linear(192, 128), nn.Dropout(0.2), nn.ReLU(), \n",
    "    \n",
    "    nn.Linear(128, 64), nn.Sigmoid(),\n",
    "    \n",
    "    nn.Linear(64, 10), nn.Sigmoid()\n",
    "      \n",
    ")\n",
    "\n",
    "\n",
    "'''\n",
    "Loss\n",
    "'''\n",
    "\n",
    "loss = nn.CrossEntropyLoss(reduction='none')\n",
    "\n",
    "#loss = nn.KLDivLoss(reduction='none')\n",
    "\n",
    "\n",
    "'''\n",
    "Trainer\n",
    "'''\n",
    "\n",
    "trainer = torch.optim.Adam(net2.parameters(), lr=lr)\n",
    "\n"
   ]
  },
  {
   "cell_type": "markdown",
   "id": "587b5d32",
   "metadata": {},
   "source": [
    "## Ignore this one i think its crap"
   ]
  },
  {
   "cell_type": "code",
   "execution_count": null,
   "id": "7f2e8707",
   "metadata": {},
   "outputs": [],
   "source": [
    "'''\n",
    "Parameters\n",
    "'''\n",
    "\n",
    "epochs = 50\n",
    "lr = 0.1\n",
    "batch_size = 10\n",
    "\n",
    "'''\n",
    "net\n",
    "'''\n",
    "\n",
    "net3 = nn.Sequential(\n",
    "\n",
    "    nn.Conv2d(in_channels=1, out_channels=8, kernel_size=3, stride=1, padding=0),\n",
    "    \n",
    "    nn.BatchNorm2d(8), nn.ReLU(), nn.MaxPool2d(kernel_size = 2),\n",
    "    \n",
    "    nn.Conv2d(in_channels=8, out_channels=16, kernel_size=3, stride=1, padding=0),\n",
    "    \n",
    "    nn.BatchNorm2d(16), nn.ReLU(), nn.MaxPool2d(kernel_size = 2),\n",
    "    \n",
    "    nn.Conv2d(in_channels=16, out_channels=32, kernel_size=3, stride=1, padding=0),\n",
    "    \n",
    "    nn.BatchNorm2d(32), nn.ReLU(), nn.MaxPool2d(kernel_size = 2),\n",
    "    \n",
    "    nn.Conv2d(in_channels=32, out_channels=64, kernel_size=3, stride=1, padding=0),\n",
    "    \n",
    "    nn.BatchNorm2d(64), nn.ReLU(), nn.MaxPool2d(kernel_size = 2),\n",
    "    \n",
    "    nn.Conv2d(in_channels=64, out_channels=128, kernel_size=3, stride=1, padding=0),\n",
    "    \n",
    "    nn.BatchNorm2d(128), nn.ReLU(), nn.MaxPool2d(kernel_size = 2),\n",
    "    \n",
    "    nn.Flatten(),\n",
    "    \n",
    "    nn.Dropout(0.3),\n",
    "    \n",
    "    nn.Linear(in_features=4096, out_features=10),\n",
    "      \n",
    ")"
   ]
  },
  {
   "cell_type": "code",
   "execution_count": null,
   "id": "23f7948f",
   "metadata": {},
   "outputs": [],
   "source": [
    "path = \"../Data/images_original/metal/metal00000.png\"\n",
    "obs = cv2.imread(path, cv2.IMREAD_GRAYSCALE)\n",
    "obs = obs[35:-36:, 54:-43]\n",
    "obs = torch.from_numpy(obs)\n",
    "obs = torch.reshape(obs, (1,1,217,335))\n",
    "obs = obs.to(dtype = torch.float32)"
   ]
  },
  {
   "cell_type": "markdown",
   "id": "fe5e9413",
   "metadata": {},
   "source": [
    "### One Observation"
   ]
  },
  {
   "cell_type": "code",
   "execution_count": null,
   "id": "a4ba7005",
   "metadata": {},
   "outputs": [],
   "source": [
    "'''\n",
    "One observation\n",
    "'''\n",
    "\n",
    "'''\n",
    "Got net1\n",
    "'''\n",
    "\n",
    "for layer in net2:\n",
    "    obs = layer(obs)\n",
    "    print(layer.__class__.__name__,'output shape: \\t',obs.shape)"
   ]
  },
  {
   "cell_type": "markdown",
   "id": "ed5d5ac4",
   "metadata": {},
   "source": [
    "### Loop"
   ]
  },
  {
   "cell_type": "code",
   "execution_count": null,
   "id": "43731a3a",
   "metadata": {},
   "outputs": [],
   "source": [
    "d2l.train_ch6(net2, train_loader, test_loader, epochs, lr, d2l.try_gpu())"
   ]
  },
  {
   "cell_type": "code",
   "execution_count": null,
   "id": "34dbf311",
   "metadata": {},
   "outputs": [],
   "source": [
    "net2.eval()"
   ]
  },
  {
   "cell_type": "code",
   "execution_count": null,
   "id": "0b260526",
   "metadata": {},
   "outputs": [],
   "source": [
    "test_dataset[0]"
   ]
  },
  {
   "cell_type": "code",
   "execution_count": null,
   "id": "17aa8d81",
   "metadata": {},
   "outputs": [],
   "source": [
    "test_batch = next(iter(test_loader))"
   ]
  },
  {
   "cell_type": "code",
   "execution_count": null,
   "id": "31fb0c9e",
   "metadata": {},
   "outputs": [],
   "source": [
    "input_data = test_batch[0]"
   ]
  },
  {
   "cell_type": "code",
   "execution_count": null,
   "id": "4856abd0",
   "metadata": {},
   "outputs": [],
   "source": [
    "net2.eval()\n",
    "with torch.no_grad():\n",
    "    output = net2(input_data)"
   ]
  },
  {
   "cell_type": "code",
   "execution_count": null,
   "id": "43783478",
   "metadata": {},
   "outputs": [],
   "source": [
    "import numpy as np"
   ]
  },
  {
   "cell_type": "code",
   "execution_count": null,
   "id": "871b8152",
   "metadata": {},
   "outputs": [],
   "source": [
    "output_np = output.numpy()\n",
    "predicted_label = np.argmax(output_np, axis=1)"
   ]
  },
  {
   "cell_type": "code",
   "execution_count": null,
   "id": "614cd559",
   "metadata": {},
   "outputs": [],
   "source": [
    "true_label = test_batch[1].numpy()\n",
    "print(\"True label:      \", true_label)\n",
    "print(\"Predicted label: \", predicted_label)"
   ]
  },
  {
   "cell_type": "code",
   "execution_count": null,
   "id": "548166b5",
   "metadata": {},
   "outputs": [],
   "source": []
  }
 ],
 "metadata": {
  "kernelspec": {
   "display_name": "Python 3 (ipykernel)",
   "language": "python",
   "name": "python3"
  },
  "language_info": {
   "codemirror_mode": {
    "name": "ipython",
    "version": 3
   },
   "file_extension": ".py",
   "mimetype": "text/x-python",
   "name": "python",
   "nbconvert_exporter": "python",
   "pygments_lexer": "ipython3",
   "version": "3.9.7"
  }
 },
 "nbformat": 4,
 "nbformat_minor": 5
}
