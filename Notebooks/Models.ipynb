{
  "nbformat": 4,
  "nbformat_minor": 0,
  "metadata": {
    "colab": {
      "provenance": []
    },
    "kernelspec": {
      "name": "python3",
      "display_name": "Python 3"
    },
    "language_info": {
      "name": "python"
    },
    "accelerator": "GPU",
    "gpuClass": "standard"
  },
  "cells": [
    {
      "cell_type": "markdown",
      "source": [
        "# **\"An Application of Convolutional Neural Networks to Music Genre Classification\"** "
      ],
      "metadata": {
        "id": "N5ZPaveXKsa6"
      }
    },
    {
      "cell_type": "markdown",
      "source": [
        "Contained in this notebook is the code for the models discussed in our report."
      ],
      "metadata": {
        "id": "23EvyCh2Lg_L"
      }
    },
    {
      "cell_type": "markdown",
      "source": [
        "## Libraries \n",
        "\n",
        "This section contains the library and data calls"
      ],
      "metadata": {
        "id": "IaOsmpqsL02e"
      }
    },
    {
      "cell_type": "markdown",
      "source": [
        "It is first necessary to run the chunk below in order to access the `d2l` package."
      ],
      "metadata": {
        "id": "-QzceNAuMhlw"
      }
    },
    {
      "cell_type": "code",
      "source": [
        "!pip install d2l==0.17.6\n",
        "!pip install matplotlib\n",
        "!pip install matplotlib-inline"
      ],
      "metadata": {
        "colab": {
          "base_uri": "https://localhost:8080/"
        },
        "id": "7FfCcTt5MrAO",
        "outputId": "2013a439-b9d5-4213-ecca-45b15135b9b9"
      },
      "execution_count": 1,
      "outputs": [
        {
          "output_type": "stream",
          "name": "stdout",
          "text": [
            "Looking in indexes: https://pypi.org/simple, https://us-python.pkg.dev/colab-wheels/public/simple/\n",
            "Requirement already satisfied: d2l==0.17.6 in /usr/local/lib/python3.9/dist-packages (0.17.6)\n",
            "Requirement already satisfied: numpy==1.21.5 in /usr/local/lib/python3.9/dist-packages (from d2l==0.17.6) (1.21.5)\n",
            "Requirement already satisfied: matplotlib==3.5.1 in /usr/local/lib/python3.9/dist-packages (from d2l==0.17.6) (3.5.1)\n",
            "Requirement already satisfied: jupyter==1.0.0 in /usr/local/lib/python3.9/dist-packages (from d2l==0.17.6) (1.0.0)\n",
            "Requirement already satisfied: pandas==1.2.4 in /usr/local/lib/python3.9/dist-packages (from d2l==0.17.6) (1.2.4)\n",
            "Requirement already satisfied: requests==2.25.1 in /usr/local/lib/python3.9/dist-packages (from d2l==0.17.6) (2.25.1)\n",
            "Requirement already satisfied: notebook in /usr/local/lib/python3.9/dist-packages (from jupyter==1.0.0->d2l==0.17.6) (6.4.8)\n",
            "Requirement already satisfied: jupyter-console in /usr/local/lib/python3.9/dist-packages (from jupyter==1.0.0->d2l==0.17.6) (6.1.0)\n",
            "Requirement already satisfied: qtconsole in /usr/local/lib/python3.9/dist-packages (from jupyter==1.0.0->d2l==0.17.6) (5.4.2)\n",
            "Requirement already satisfied: ipywidgets in /usr/local/lib/python3.9/dist-packages (from jupyter==1.0.0->d2l==0.17.6) (7.7.1)\n",
            "Requirement already satisfied: nbconvert in /usr/local/lib/python3.9/dist-packages (from jupyter==1.0.0->d2l==0.17.6) (6.5.4)\n",
            "Requirement already satisfied: ipykernel in /usr/local/lib/python3.9/dist-packages (from jupyter==1.0.0->d2l==0.17.6) (5.5.6)\n",
            "Requirement already satisfied: python-dateutil>=2.7 in /usr/local/lib/python3.9/dist-packages (from matplotlib==3.5.1->d2l==0.17.6) (2.8.2)\n",
            "Requirement already satisfied: pillow>=6.2.0 in /usr/local/lib/python3.9/dist-packages (from matplotlib==3.5.1->d2l==0.17.6) (8.4.0)\n",
            "Requirement already satisfied: cycler>=0.10 in /usr/local/lib/python3.9/dist-packages (from matplotlib==3.5.1->d2l==0.17.6) (0.11.0)\n",
            "Requirement already satisfied: fonttools>=4.22.0 in /usr/local/lib/python3.9/dist-packages (from matplotlib==3.5.1->d2l==0.17.6) (4.39.3)\n",
            "Requirement already satisfied: pyparsing>=2.2.1 in /usr/local/lib/python3.9/dist-packages (from matplotlib==3.5.1->d2l==0.17.6) (3.0.9)\n",
            "Requirement already satisfied: packaging>=20.0 in /usr/local/lib/python3.9/dist-packages (from matplotlib==3.5.1->d2l==0.17.6) (23.0)\n",
            "Requirement already satisfied: kiwisolver>=1.0.1 in /usr/local/lib/python3.9/dist-packages (from matplotlib==3.5.1->d2l==0.17.6) (1.4.4)\n",
            "Requirement already satisfied: pytz>=2017.3 in /usr/local/lib/python3.9/dist-packages (from pandas==1.2.4->d2l==0.17.6) (2022.7.1)\n",
            "Requirement already satisfied: chardet<5,>=3.0.2 in /usr/local/lib/python3.9/dist-packages (from requests==2.25.1->d2l==0.17.6) (4.0.0)\n",
            "Requirement already satisfied: urllib3<1.27,>=1.21.1 in /usr/local/lib/python3.9/dist-packages (from requests==2.25.1->d2l==0.17.6) (1.26.15)\n",
            "Requirement already satisfied: idna<3,>=2.5 in /usr/local/lib/python3.9/dist-packages (from requests==2.25.1->d2l==0.17.6) (2.10)\n",
            "Requirement already satisfied: certifi>=2017.4.17 in /usr/local/lib/python3.9/dist-packages (from requests==2.25.1->d2l==0.17.6) (2022.12.7)\n",
            "Requirement already satisfied: six>=1.5 in /usr/local/lib/python3.9/dist-packages (from python-dateutil>=2.7->matplotlib==3.5.1->d2l==0.17.6) (1.16.0)\n",
            "Requirement already satisfied: jupyter-client in /usr/local/lib/python3.9/dist-packages (from ipykernel->jupyter==1.0.0->d2l==0.17.6) (6.1.12)\n",
            "Requirement already satisfied: traitlets>=4.1.0 in /usr/local/lib/python3.9/dist-packages (from ipykernel->jupyter==1.0.0->d2l==0.17.6) (5.7.1)\n",
            "Requirement already satisfied: tornado>=4.2 in /usr/local/lib/python3.9/dist-packages (from ipykernel->jupyter==1.0.0->d2l==0.17.6) (6.2)\n",
            "Requirement already satisfied: ipython>=5.0.0 in /usr/local/lib/python3.9/dist-packages (from ipykernel->jupyter==1.0.0->d2l==0.17.6) (7.34.0)\n",
            "Requirement already satisfied: ipython-genutils in /usr/local/lib/python3.9/dist-packages (from ipykernel->jupyter==1.0.0->d2l==0.17.6) (0.2.0)\n",
            "Requirement already satisfied: jupyterlab-widgets>=1.0.0 in /usr/local/lib/python3.9/dist-packages (from ipywidgets->jupyter==1.0.0->d2l==0.17.6) (3.0.7)\n",
            "Requirement already satisfied: widgetsnbextension~=3.6.0 in /usr/local/lib/python3.9/dist-packages (from ipywidgets->jupyter==1.0.0->d2l==0.17.6) (3.6.4)\n",
            "Requirement already satisfied: pygments in /usr/local/lib/python3.9/dist-packages (from jupyter-console->jupyter==1.0.0->d2l==0.17.6) (2.14.0)\n",
            "Requirement already satisfied: prompt-toolkit!=3.0.0,!=3.0.1,<3.1.0,>=2.0.0 in /usr/local/lib/python3.9/dist-packages (from jupyter-console->jupyter==1.0.0->d2l==0.17.6) (3.0.38)\n",
            "Requirement already satisfied: bleach in /usr/local/lib/python3.9/dist-packages (from nbconvert->jupyter==1.0.0->d2l==0.17.6) (6.0.0)\n",
            "Requirement already satisfied: pandocfilters>=1.4.1 in /usr/local/lib/python3.9/dist-packages (from nbconvert->jupyter==1.0.0->d2l==0.17.6) (1.5.0)\n",
            "Requirement already satisfied: nbformat>=5.1 in /usr/local/lib/python3.9/dist-packages (from nbconvert->jupyter==1.0.0->d2l==0.17.6) (5.8.0)\n",
            "Requirement already satisfied: tinycss2 in /usr/local/lib/python3.9/dist-packages (from nbconvert->jupyter==1.0.0->d2l==0.17.6) (1.2.1)\n",
            "Requirement already satisfied: nbclient>=0.5.0 in /usr/local/lib/python3.9/dist-packages (from nbconvert->jupyter==1.0.0->d2l==0.17.6) (0.7.3)\n",
            "Requirement already satisfied: jupyterlab-pygments in /usr/local/lib/python3.9/dist-packages (from nbconvert->jupyter==1.0.0->d2l==0.17.6) (0.2.2)\n",
            "Requirement already satisfied: MarkupSafe>=2.0 in /usr/local/lib/python3.9/dist-packages (from nbconvert->jupyter==1.0.0->d2l==0.17.6) (2.1.2)\n",
            "Requirement already satisfied: jinja2>=3.0 in /usr/local/lib/python3.9/dist-packages (from nbconvert->jupyter==1.0.0->d2l==0.17.6) (3.1.2)\n",
            "Requirement already satisfied: entrypoints>=0.2.2 in /usr/local/lib/python3.9/dist-packages (from nbconvert->jupyter==1.0.0->d2l==0.17.6) (0.4)\n",
            "Requirement already satisfied: mistune<2,>=0.8.1 in /usr/local/lib/python3.9/dist-packages (from nbconvert->jupyter==1.0.0->d2l==0.17.6) (0.8.4)\n",
            "Requirement already satisfied: defusedxml in /usr/local/lib/python3.9/dist-packages (from nbconvert->jupyter==1.0.0->d2l==0.17.6) (0.7.1)\n",
            "Requirement already satisfied: jupyter-core>=4.7 in /usr/local/lib/python3.9/dist-packages (from nbconvert->jupyter==1.0.0->d2l==0.17.6) (5.3.0)\n",
            "Requirement already satisfied: beautifulsoup4 in /usr/local/lib/python3.9/dist-packages (from nbconvert->jupyter==1.0.0->d2l==0.17.6) (4.11.2)\n",
            "Requirement already satisfied: lxml in /usr/local/lib/python3.9/dist-packages (from nbconvert->jupyter==1.0.0->d2l==0.17.6) (4.9.2)\n",
            "Requirement already satisfied: argon2-cffi in /usr/local/lib/python3.9/dist-packages (from notebook->jupyter==1.0.0->d2l==0.17.6) (21.3.0)\n",
            "Requirement already satisfied: terminado>=0.8.3 in /usr/local/lib/python3.9/dist-packages (from notebook->jupyter==1.0.0->d2l==0.17.6) (0.17.1)\n",
            "Requirement already satisfied: pyzmq>=17 in /usr/local/lib/python3.9/dist-packages (from notebook->jupyter==1.0.0->d2l==0.17.6) (23.2.1)\n",
            "Requirement already satisfied: Send2Trash>=1.8.0 in /usr/local/lib/python3.9/dist-packages (from notebook->jupyter==1.0.0->d2l==0.17.6) (1.8.0)\n",
            "Requirement already satisfied: prometheus-client in /usr/local/lib/python3.9/dist-packages (from notebook->jupyter==1.0.0->d2l==0.17.6) (0.16.0)\n",
            "Requirement already satisfied: nest-asyncio>=1.5 in /usr/local/lib/python3.9/dist-packages (from notebook->jupyter==1.0.0->d2l==0.17.6) (1.5.6)\n",
            "Requirement already satisfied: qtpy>=2.0.1 in /usr/local/lib/python3.9/dist-packages (from qtconsole->jupyter==1.0.0->d2l==0.17.6) (2.3.1)\n",
            "Requirement already satisfied: pickleshare in /usr/local/lib/python3.9/dist-packages (from ipython>=5.0.0->ipykernel->jupyter==1.0.0->d2l==0.17.6) (0.7.5)\n",
            "Requirement already satisfied: matplotlib-inline in /usr/local/lib/python3.9/dist-packages (from ipython>=5.0.0->ipykernel->jupyter==1.0.0->d2l==0.17.6) (0.1.6)\n",
            "Requirement already satisfied: decorator in /usr/local/lib/python3.9/dist-packages (from ipython>=5.0.0->ipykernel->jupyter==1.0.0->d2l==0.17.6) (4.4.2)\n",
            "Requirement already satisfied: jedi>=0.16 in /usr/local/lib/python3.9/dist-packages (from ipython>=5.0.0->ipykernel->jupyter==1.0.0->d2l==0.17.6) (0.18.2)\n",
            "Requirement already satisfied: backcall in /usr/local/lib/python3.9/dist-packages (from ipython>=5.0.0->ipykernel->jupyter==1.0.0->d2l==0.17.6) (0.2.0)\n",
            "Requirement already satisfied: pexpect>4.3 in /usr/local/lib/python3.9/dist-packages (from ipython>=5.0.0->ipykernel->jupyter==1.0.0->d2l==0.17.6) (4.8.0)\n",
            "Requirement already satisfied: setuptools>=18.5 in /usr/local/lib/python3.9/dist-packages (from ipython>=5.0.0->ipykernel->jupyter==1.0.0->d2l==0.17.6) (67.6.1)\n",
            "Requirement already satisfied: platformdirs>=2.5 in /usr/local/lib/python3.9/dist-packages (from jupyter-core>=4.7->nbconvert->jupyter==1.0.0->d2l==0.17.6) (3.2.0)\n",
            "Requirement already satisfied: fastjsonschema in /usr/local/lib/python3.9/dist-packages (from nbformat>=5.1->nbconvert->jupyter==1.0.0->d2l==0.17.6) (2.16.3)\n",
            "Requirement already satisfied: jsonschema>=2.6 in /usr/local/lib/python3.9/dist-packages (from nbformat>=5.1->nbconvert->jupyter==1.0.0->d2l==0.17.6) (4.3.3)\n",
            "Requirement already satisfied: wcwidth in /usr/local/lib/python3.9/dist-packages (from prompt-toolkit!=3.0.0,!=3.0.1,<3.1.0,>=2.0.0->jupyter-console->jupyter==1.0.0->d2l==0.17.6) (0.2.6)\n",
            "Requirement already satisfied: ptyprocess in /usr/local/lib/python3.9/dist-packages (from terminado>=0.8.3->notebook->jupyter==1.0.0->d2l==0.17.6) (0.7.0)\n",
            "Requirement already satisfied: argon2-cffi-bindings in /usr/local/lib/python3.9/dist-packages (from argon2-cffi->notebook->jupyter==1.0.0->d2l==0.17.6) (21.2.0)\n",
            "Requirement already satisfied: soupsieve>1.2 in /usr/local/lib/python3.9/dist-packages (from beautifulsoup4->nbconvert->jupyter==1.0.0->d2l==0.17.6) (2.4)\n",
            "Requirement already satisfied: webencodings in /usr/local/lib/python3.9/dist-packages (from bleach->nbconvert->jupyter==1.0.0->d2l==0.17.6) (0.5.1)\n",
            "Requirement already satisfied: parso<0.9.0,>=0.8.0 in /usr/local/lib/python3.9/dist-packages (from jedi>=0.16->ipython>=5.0.0->ipykernel->jupyter==1.0.0->d2l==0.17.6) (0.8.3)\n",
            "Requirement already satisfied: attrs>=17.4.0 in /usr/local/lib/python3.9/dist-packages (from jsonschema>=2.6->nbformat>=5.1->nbconvert->jupyter==1.0.0->d2l==0.17.6) (22.2.0)\n",
            "Requirement already satisfied: pyrsistent!=0.17.0,!=0.17.1,!=0.17.2,>=0.14.0 in /usr/local/lib/python3.9/dist-packages (from jsonschema>=2.6->nbformat>=5.1->nbconvert->jupyter==1.0.0->d2l==0.17.6) (0.19.3)\n",
            "Requirement already satisfied: cffi>=1.0.1 in /usr/local/lib/python3.9/dist-packages (from argon2-cffi-bindings->argon2-cffi->notebook->jupyter==1.0.0->d2l==0.17.6) (1.15.1)\n",
            "Requirement already satisfied: pycparser in /usr/local/lib/python3.9/dist-packages (from cffi>=1.0.1->argon2-cffi-bindings->argon2-cffi->notebook->jupyter==1.0.0->d2l==0.17.6) (2.21)\n",
            "Looking in indexes: https://pypi.org/simple, https://us-python.pkg.dev/colab-wheels/public/simple/\n",
            "Requirement already satisfied: matplotlib in /usr/local/lib/python3.9/dist-packages (3.5.1)\n",
            "Requirement already satisfied: cycler>=0.10 in /usr/local/lib/python3.9/dist-packages (from matplotlib) (0.11.0)\n",
            "Requirement already satisfied: packaging>=20.0 in /usr/local/lib/python3.9/dist-packages (from matplotlib) (23.0)\n",
            "Requirement already satisfied: kiwisolver>=1.0.1 in /usr/local/lib/python3.9/dist-packages (from matplotlib) (1.4.4)\n",
            "Requirement already satisfied: pyparsing>=2.2.1 in /usr/local/lib/python3.9/dist-packages (from matplotlib) (3.0.9)\n",
            "Requirement already satisfied: python-dateutil>=2.7 in /usr/local/lib/python3.9/dist-packages (from matplotlib) (2.8.2)\n",
            "Requirement already satisfied: pillow>=6.2.0 in /usr/local/lib/python3.9/dist-packages (from matplotlib) (8.4.0)\n",
            "Requirement already satisfied: numpy>=1.17 in /usr/local/lib/python3.9/dist-packages (from matplotlib) (1.21.5)\n",
            "Requirement already satisfied: fonttools>=4.22.0 in /usr/local/lib/python3.9/dist-packages (from matplotlib) (4.39.3)\n",
            "Requirement already satisfied: six>=1.5 in /usr/local/lib/python3.9/dist-packages (from python-dateutil>=2.7->matplotlib) (1.16.0)\n",
            "Looking in indexes: https://pypi.org/simple, https://us-python.pkg.dev/colab-wheels/public/simple/\n",
            "Requirement already satisfied: matplotlib-inline in /usr/local/lib/python3.9/dist-packages (0.1.6)\n",
            "Requirement already satisfied: traitlets in /usr/local/lib/python3.9/dist-packages (from matplotlib-inline) (5.7.1)\n"
          ]
        }
      ]
    },
    {
      "cell_type": "markdown",
      "source": [
        "Here we import all python libraries/packages used in our analysis."
      ],
      "metadata": {
        "id": "hDwRwlLIL3nR"
      }
    },
    {
      "cell_type": "code",
      "execution_count": 2,
      "metadata": {
        "id": "yoSYthDyKl4p"
      },
      "outputs": [],
      "source": [
        "import csv\n",
        "import torch\n",
        "import torch.nn as nn\n",
        "import torch.nn.functional as F\n",
        "import torch.optim as optim\n",
        "import torchtext\n",
        "import numpy as np\n",
        "import matplotlib.pyplot as plt\n",
        "import cv2\n",
        "import os\n",
        "import pandas as pd\n",
        "from torch.utils.data import DataLoader\n",
        "from torch.autograd import Variable\n",
        "from sklearn.preprocessing import StandardScaler\n",
        "from d2l import torch as d2l"
      ]
    },
    {
      "cell_type": "markdown",
      "source": [
        "In order to access our data in Colab, we clone our github repository."
      ],
      "metadata": {
        "id": "w5afe1ZtNChz"
      }
    },
    {
      "cell_type": "code",
      "source": [
        "!git clone \"https://github.com/BSteiner1/ST311-Group-Project/\""
      ],
      "metadata": {
        "colab": {
          "base_uri": "https://localhost:8080/"
        },
        "id": "QJfeZRdKNJP7",
        "outputId": "3701fe6d-4eda-452e-bddc-922eaafe00a3"
      },
      "execution_count": 3,
      "outputs": [
        {
          "output_type": "stream",
          "name": "stdout",
          "text": [
            "Cloning into 'ST311-Group-Project'...\n",
            "remote: Enumerating objects: 2228, done.\u001b[K\n",
            "remote: Counting objects: 100% (230/230), done.\u001b[K\n",
            "remote: Compressing objects: 100% (164/164), done.\u001b[K\n",
            "remote: Total 2228 (delta 103), reused 179 (delta 56), pack-reused 1998\u001b[K\n",
            "Receiving objects: 100% (2228/2228), 1.20 GiB | 23.96 MiB/s, done.\n",
            "Resolving deltas: 100% (103/103), done.\n",
            "Updating files: 100% (2028/2028), done.\n"
          ]
        }
      ]
    },
    {
      "cell_type": "markdown",
      "source": [
        "## Data Loading \n",
        "\n",
        "This section contains the loading and augmentation of our data."
      ],
      "metadata": {
        "id": "B39WtjljNS0j"
      }
    },
    {
      "cell_type": "markdown",
      "source": [
        "### Mel-Spectrograms"
      ],
      "metadata": {
        "id": "JGhqRan6NpTv"
      }
    },
    {
      "cell_type": "markdown",
      "source": [
        "We first define our label mappings, this is necessary since our function below depend on the labels being integers."
      ],
      "metadata": {
        "id": "qWDhknU2OF4E"
      }
    },
    {
      "cell_type": "code",
      "source": [
        "class_dict = {'blues' : 0,\n",
        "              'classical': 1,\n",
        "              'country': 2,\n",
        "              'disco' : 3,\n",
        "              'hiphop' : 4,\n",
        "              'jazz' : 5,\n",
        "              'metal' : 6,\n",
        "              'pop' : 7,\n",
        "              'reggae': 8,\n",
        "              'rock' : 9    \n",
        "}"
      ],
      "metadata": {
        "id": "mjB1QtOkOSoO"
      },
      "execution_count": 4,
      "outputs": []
    },
    {
      "cell_type": "markdown",
      "source": [
        "We next define our data collection function."
      ],
      "metadata": {
        "id": "I4y4t4roOVkP"
      }
    },
    {
      "cell_type": "code",
      "source": [
        "def collect_data():\n",
        "    data = []\n",
        "    # Collect all images from the 10 genres\n",
        "    for genre in os.listdir(\"ST311-Group-Project/Data/images_original\"):\n",
        "        for image in os.listdir(\"ST311-Group-Project/Data/images_original/\" + genre):\n",
        "            image_path = \"ST311-Group-Project/Data/images_original/\" + genre + \"/\" + image\n",
        "            # Convert to grayscale\n",
        "            grayscale_img = cv2.imread(image_path, cv2.IMREAD_GRAYSCALE)\n",
        "            # Trim the excess white pixels from the image\n",
        "            grayscale_img = grayscale_img[35:-36:, 54:-43]\n",
        "            # Convert to tensor\n",
        "            grayscale_img = torch.tensor(grayscale_img).to(dtype = torch.float32).clone().detach().requires_grad_(True)  \n",
        "            data.append((grayscale_img.reshape(1,217,335), torch.tensor(class_dict.get(genre))))\n",
        "\n",
        "    return data      "
      ],
      "metadata": {
        "id": "PmAddOh9ObRi"
      },
      "execution_count": 5,
      "outputs": []
    },
    {
      "cell_type": "markdown",
      "source": [
        "We then call the function to instantiate our data."
      ],
      "metadata": {
        "id": "VVLPyRGVOeae"
      }
    },
    {
      "cell_type": "code",
      "source": [
        "data = collect_data()"
      ],
      "metadata": {
        "id": "w1biGfP_OiV_"
      },
      "execution_count": 6,
      "outputs": []
    },
    {
      "cell_type": "markdown",
      "source": [
        "For the later models, we found performance improved if we split each photos into 5 slices. So below we define another dataset that contains this"
      ],
      "metadata": {
        "id": "Qpv_g_3jy79n"
      }
    },
    {
      "cell_type": "code",
      "source": [
        "def collect_slice_data():\n",
        "    data = []\n",
        "    # Collect all images from the 10 genres\n",
        "    for genre in os.listdir(\"ST311-Group-Project/Data/images_original\"):\n",
        "        for image in os.listdir(\"ST311-Group-Project/Data/images_original/\" + genre):\n",
        "            image_path = \"ST311-Group-Project/Data/images_original/\" + genre + \"/\" + image\n",
        "            grayscale_img = cv2.imread(image_path, cv2.IMREAD_GRAYSCALE)\n",
        "            grayscale_img = grayscale_img[35:-36:, 54:-43]\n",
        "            grayscale_img = torch.tensor(grayscale_img).to(dtype = torch.float32).clone().detach().requires_grad_(True)\n",
        "            # Splitting each image vertically into 5 different parts\n",
        "            for i in range(5):\n",
        "                # The data loader adds a dimension so I've removed a dimension from the image and class\n",
        "                data.append((grayscale_img[ : ,  (67*i):67*(i+1)].reshape(1,217,67), torch.tensor(class_dict.get(genre)))) #.reshape(1)))\n",
        "\n",
        "    return data     \n",
        "\n",
        "slice_data = collect_slice_data()      "
      ],
      "metadata": {
        "id": "l4pFshJSzL5m"
      },
      "execution_count": 123,
      "outputs": []
    },
    {
      "cell_type": "markdown",
      "source": [
        "### Features "
      ],
      "metadata": {
        "id": "JJnRKp_mOtfH"
      }
    },
    {
      "cell_type": "markdown",
      "source": [
        "We first define the path to our feature data, and load in our raw feature data."
      ],
      "metadata": {
        "id": "eD0q3xHnOwXR"
      }
    },
    {
      "cell_type": "code",
      "source": [
        "feature_path = \"ST311-Group-Project/Data/features_30_sec - edited.csv\"\n",
        "\n",
        "# Load in the metadata into a DataFrame\n",
        "raw_df = pd.read_csv(feature_path)"
      ],
      "metadata": {
        "id": "16F4uKmqOvQv"
      },
      "execution_count": 7,
      "outputs": []
    },
    {
      "cell_type": "markdown",
      "source": [
        "We next perform some data cleaning, and as before convert our labels to integers."
      ],
      "metadata": {
        "id": "Z3aH555EO6gL"
      }
    },
    {
      "cell_type": "code",
      "source": [
        "# Remove unnecessary variables for prediction\n",
        "del raw_df['filename']\n",
        "del raw_df['length']\n",
        "# Map the label to a number\n",
        "raw_df['label'] = raw_df['label'].map(class_dict)"
      ],
      "metadata": {
        "id": "YnA9qTPiPDod"
      },
      "execution_count": 8,
      "outputs": []
    },
    {
      "cell_type": "markdown",
      "source": [
        "Some of our predictors have vastly different scales, and as such we scale the features to have a mean of 0 and variance of 1."
      ],
      "metadata": {
        "id": "YFDA5aCJPNbx"
      }
    },
    {
      "cell_type": "code",
      "source": [
        "# Scale each column of the DataFrame to mean 0 variance 1\n",
        "df = StandardScaler().fit_transform(raw_df.iloc[:, 0:-1])\n",
        "df = pd.DataFrame(df, columns = raw_df.columns.tolist()[:-1])\n",
        "df['label'] = raw_df['label']"
      ],
      "metadata": {
        "id": "qw0kVgvoPef0"
      },
      "execution_count": 9,
      "outputs": []
    },
    {
      "cell_type": "markdown",
      "source": [
        "Finally we transform our data into a suitable format."
      ],
      "metadata": {
        "id": "8mZFbj8AP8OM"
      }
    },
    {
      "cell_type": "code",
      "source": [
        "# Collect the (metadata, label) tuples and convert to tensors\n",
        "metadata = [(torch.tensor(list(df.loc[i][:-1])).clone().detach().requires_grad_(True).reshape(1,1,-1), \\\n",
        "             torch.tensor(df['label'][i], dtype=torch.long)) for i in range(len(df))]"
      ],
      "metadata": {
        "id": "tsObf-i1QGPz"
      },
      "execution_count": 10,
      "outputs": []
    },
    {
      "cell_type": "markdown",
      "source": [
        "### Data Loaders"
      ],
      "metadata": {
        "id": "2UMqzBXQQQhd"
      }
    },
    {
      "cell_type": "markdown",
      "source": [
        "Here, we split our data and create Data-Loaders that can be fed into our models. Firstly for our mel-spectrogram inputs"
      ],
      "metadata": {
        "id": "_5sdLXHGQUkj"
      }
    },
    {
      "cell_type": "code",
      "source": [
        "# Split our data into train and test sets with an 80:20 split\n",
        "train_size = int(0.8 * len(data))\n",
        "test_size = len(data) - train_size\n",
        "train_dataset, test_dataset = torch.utils.data.random_split(data, [train_size, test_size])\n",
        "\n",
        "#Define train and test loaders\n",
        "train_loader = DataLoader(train_dataset, batch_size=16, shuffle=True)\n",
        "test_loader = DataLoader(test_dataset, batch_size=16, shuffle=False)"
      ],
      "metadata": {
        "id": "ZbJN4WCKQSaH"
      },
      "execution_count": 119,
      "outputs": []
    },
    {
      "cell_type": "markdown",
      "source": [
        "And our sliced data"
      ],
      "metadata": {
        "id": "kKJys97PzoPQ"
      }
    },
    {
      "cell_type": "code",
      "source": [
        "# Split our data into train and test sets with an 80:20 split\n",
        "slice_train_size = int(0.8 * len(slice_data))\n",
        "slice_test_size = len(slice_data) - slice_train_size\n",
        "slice_train_dataset, slice_test_dataset = torch.utils.data.random_split(slice_data, [slice_train_size, slice_test_size])\n",
        "\n",
        "#Define train and test loaders\n",
        "slice_train_loader = DataLoader(slice_train_dataset, batch_size=16, shuffle=True)\n",
        "slice_test_loader = DataLoader(slice_test_dataset, batch_size=16, shuffle=False)"
      ],
      "metadata": {
        "id": "08nMXNlFzrL4"
      },
      "execution_count": 125,
      "outputs": []
    },
    {
      "cell_type": "markdown",
      "source": [
        "Next, for our meta-data "
      ],
      "metadata": {
        "id": "V0NA55iAQxkn"
      }
    },
    {
      "cell_type": "code",
      "source": [
        "# 80:20 train-test split for our metadata\n",
        "meta_train_size = int(0.80 * len(metadata))\n",
        "meta_test_size = len(metadata) - meta_train_size\n",
        "metadata_train_dataset, metadata_test_dataset = torch.utils.data.random_split(metadata, [meta_train_size, meta_test_size])\n",
        "\n",
        "# Add to data loaders\n",
        "metadata_train_loader = DataLoader(metadata_train_dataset, batch_size=40, shuffle=True)\n",
        "metadata_test_loader = DataLoader(metadata_test_dataset, batch_size=20, shuffle=False)"
      ],
      "metadata": {
        "id": "YLO1UsHPQ1KH"
      },
      "execution_count": 120,
      "outputs": []
    },
    {
      "cell_type": "markdown",
      "source": [
        "Later on in our analysis we use ensemble models, and for some of these it is necessary to define a data loader that contains both sets of data."
      ],
      "metadata": {
        "id": "45k8EQKzQ6_M"
      }
    },
    {
      "cell_type": "code",
      "source": [
        "#Define the joined data\n",
        "joined_data = [(data[i][0], metadata[i][0], torch.tensor(df['label'][i], dtype=torch.long)) for i in range(len(df))]\n",
        "\n",
        "#Split with 80:20 split\n",
        "joined_train_size = int(0.8 * len(joined_data))\n",
        "joined_test_size = len(joined_data) - joined_train_size\n",
        "joined_train_dataset, joined_test_dataset = torch.utils.data.random_split(joined_data, [joined_train_size, joined_test_size])\n",
        "\n",
        "#Define data loaders\n",
        "joined_train_loader = DataLoader(joined_train_dataset, batch_size=30, shuffle=True)\n",
        "joined_test_loader = DataLoader(joined_test_dataset, batch_size=30, shuffle=False)"
      ],
      "metadata": {
        "id": "1kK36EDhRCZr"
      },
      "execution_count": 155,
      "outputs": []
    },
    {
      "cell_type": "markdown",
      "source": [
        "## Base-Line Models\n",
        "\n",
        "This section contains the definition and training for each of our base-line models. These being the Multi-Layer Perceptron (MLP), the Convolutional Neural Network (CNN), and Recurrent Neural Network (RNN)"
      ],
      "metadata": {
        "id": "DIq5VDyTRfl3"
      }
    },
    {
      "cell_type": "markdown",
      "source": [
        "### MLP"
      ],
      "metadata": {
        "id": "9oN4HiwPR92y"
      }
    },
    {
      "cell_type": "markdown",
      "source": [
        "#### Model Definition"
      ],
      "metadata": {
        "id": "pBTvy6kiSyNn"
      }
    },
    {
      "cell_type": "code",
      "source": [
        "#Our MLP Net\n",
        "mlp_model = nn.Sequential(\n",
        "    \n",
        "    #Flatten the inputs\n",
        "    nn.Flatten(),\n",
        "\n",
        "    #(57x32) Fully Connected (FC) Layer, ReLU Activation, Dropout 0.25\n",
        "    nn.Linear(57, 32), nn.ReLU(), nn.Dropout(0.25),\n",
        "\n",
        "    #(32,16) FC Layer, ReLU Activation, Dropout 0.25\n",
        "    nn.Linear(32, 16), nn.ReLU(), nn.Dropout(0.25),\n",
        "\n",
        "    #(16,10) FC Layer\n",
        "    nn.Linear(16, 10)\n",
        "\n",
        ")\n",
        "\n",
        "#Define our loss function\n",
        "loss = nn.CrossEntropyLoss()\n",
        "\n",
        "#Define our optimisation algorithm\n",
        "trainer = torch.optim.SGD(mlp_model.parameters(), lr=0.1)\n",
        "\n",
        "#Define our number of epochs\n",
        "meta_epochs = 50"
      ],
      "metadata": {
        "id": "n9vs03XVRiM9"
      },
      "execution_count": 14,
      "outputs": []
    },
    {
      "cell_type": "markdown",
      "source": [
        "#### Model Training"
      ],
      "metadata": {
        "id": "OvvtjeSXRkX_"
      }
    },
    {
      "cell_type": "code",
      "source": [
        "d2l.train_ch3(mlp_model, metadata_train_loader, metadata_test_loader, loss, meta_epochs, trainer)"
      ],
      "metadata": {
        "colab": {
          "base_uri": "https://localhost:8080/",
          "height": 265
        },
        "id": "W6SryrAJS6CJ",
        "outputId": "a7ebb5fb-70e9-4d4a-f346-4a9456e3a44a"
      },
      "execution_count": 15,
      "outputs": [
        {
          "output_type": "display_data",
          "data": {
            "text/plain": [
              "<Figure size 350x250 with 1 Axes>"
            ],
            "image/svg+xml": "<?xml version=\"1.0\" encoding=\"utf-8\" standalone=\"no\"?>\n<!DOCTYPE svg PUBLIC \"-//W3C//DTD SVG 1.1//EN\"\n  \"http://www.w3.org/Graphics/SVG/1.1/DTD/svg11.dtd\">\n<svg xmlns:xlink=\"http://www.w3.org/1999/xlink\" width=\"238.965625pt\" height=\"183.35625pt\" viewBox=\"0 0 238.965625 183.35625\" xmlns=\"http://www.w3.org/2000/svg\" version=\"1.1\">\n <metadata>\n  <rdf:RDF xmlns:dc=\"http://purl.org/dc/elements/1.1/\" xmlns:cc=\"http://creativecommons.org/ns#\" xmlns:rdf=\"http://www.w3.org/1999/02/22-rdf-syntax-ns#\">\n   <cc:Work>\n    <dc:type rdf:resource=\"http://purl.org/dc/dcmitype/StillImage\"/>\n    <dc:date>2023-04-14T16:22:05.820397</dc:date>\n    <dc:format>image/svg+xml</dc:format>\n    <dc:creator>\n     <cc:Agent>\n      <dc:title>Matplotlib v3.5.1, https://matplotlib.org/</dc:title>\n     </cc:Agent>\n    </dc:creator>\n   </cc:Work>\n  </rdf:RDF>\n </metadata>\n <defs>\n  <style type=\"text/css\">*{stroke-linejoin: round; stroke-linecap: butt}</style>\n </defs>\n <g id=\"figure_1\">\n  <g id=\"patch_1\">\n   <path d=\"M 0 183.35625 \nL 238.965625 183.35625 \nL 238.965625 0 \nL 0 0 \nz\n\" style=\"fill: #ffffff\"/>\n  </g>\n  <g id=\"axes_1\">\n   <g id=\"patch_2\">\n    <path d=\"M 30.103125 145.8 \nL 225.403125 145.8 \nL 225.403125 7.2 \nL 30.103125 7.2 \nz\n\" style=\"fill: #ffffff\"/>\n   </g>\n   <g id=\"matplotlib.axis_1\">\n    <g id=\"xtick_1\">\n     <g id=\"line2d_1\">\n      <path d=\"M 65.974554 145.8 \nL 65.974554 7.2 \n\" clip-path=\"url(#pffc5396249)\" style=\"fill: none; stroke: #b0b0b0; stroke-width: 0.8; stroke-linecap: square\"/>\n     </g>\n     <g id=\"line2d_2\">\n      <defs>\n       <path id=\"m95b965ef16\" d=\"M 0 0 \nL 0 3.5 \n\" style=\"stroke: #000000; stroke-width: 0.8\"/>\n      </defs>\n      <g>\n       <use xlink:href=\"#m95b965ef16\" x=\"65.974554\" y=\"145.8\" style=\"stroke: #000000; stroke-width: 0.8\"/>\n      </g>\n     </g>\n     <g id=\"text_1\">\n      <!-- 10 -->\n      <g transform=\"translate(59.612054 160.398438)scale(0.1 -0.1)\">\n       <defs>\n        <path id=\"DejaVuSans-31\" d=\"M 794 531 \nL 1825 531 \nL 1825 4091 \nL 703 3866 \nL 703 4441 \nL 1819 4666 \nL 2450 4666 \nL 2450 531 \nL 3481 531 \nL 3481 0 \nL 794 0 \nL 794 531 \nz\n\" transform=\"scale(0.015625)\"/>\n        <path id=\"DejaVuSans-30\" d=\"M 2034 4250 \nQ 1547 4250 1301 3770 \nQ 1056 3291 1056 2328 \nQ 1056 1369 1301 889 \nQ 1547 409 2034 409 \nQ 2525 409 2770 889 \nQ 3016 1369 3016 2328 \nQ 3016 3291 2770 3770 \nQ 2525 4250 2034 4250 \nz\nM 2034 4750 \nQ 2819 4750 3233 4129 \nQ 3647 3509 3647 2328 \nQ 3647 1150 3233 529 \nQ 2819 -91 2034 -91 \nQ 1250 -91 836 529 \nQ 422 1150 422 2328 \nQ 422 3509 836 4129 \nQ 1250 4750 2034 4750 \nz\n\" transform=\"scale(0.015625)\"/>\n       </defs>\n       <use xlink:href=\"#DejaVuSans-31\"/>\n       <use xlink:href=\"#DejaVuSans-30\" x=\"63.623047\"/>\n      </g>\n     </g>\n    </g>\n    <g id=\"xtick_2\">\n     <g id=\"line2d_3\">\n      <path d=\"M 105.831696 145.8 \nL 105.831696 7.2 \n\" clip-path=\"url(#pffc5396249)\" style=\"fill: none; stroke: #b0b0b0; stroke-width: 0.8; stroke-linecap: square\"/>\n     </g>\n     <g id=\"line2d_4\">\n      <g>\n       <use xlink:href=\"#m95b965ef16\" x=\"105.831696\" y=\"145.8\" style=\"stroke: #000000; stroke-width: 0.8\"/>\n      </g>\n     </g>\n     <g id=\"text_2\">\n      <!-- 20 -->\n      <g transform=\"translate(99.469196 160.398438)scale(0.1 -0.1)\">\n       <defs>\n        <path id=\"DejaVuSans-32\" d=\"M 1228 531 \nL 3431 531 \nL 3431 0 \nL 469 0 \nL 469 531 \nQ 828 903 1448 1529 \nQ 2069 2156 2228 2338 \nQ 2531 2678 2651 2914 \nQ 2772 3150 2772 3378 \nQ 2772 3750 2511 3984 \nQ 2250 4219 1831 4219 \nQ 1534 4219 1204 4116 \nQ 875 4013 500 3803 \nL 500 4441 \nQ 881 4594 1212 4672 \nQ 1544 4750 1819 4750 \nQ 2544 4750 2975 4387 \nQ 3406 4025 3406 3419 \nQ 3406 3131 3298 2873 \nQ 3191 2616 2906 2266 \nQ 2828 2175 2409 1742 \nQ 1991 1309 1228 531 \nz\n\" transform=\"scale(0.015625)\"/>\n       </defs>\n       <use xlink:href=\"#DejaVuSans-32\"/>\n       <use xlink:href=\"#DejaVuSans-30\" x=\"63.623047\"/>\n      </g>\n     </g>\n    </g>\n    <g id=\"xtick_3\">\n     <g id=\"line2d_5\">\n      <path d=\"M 145.688839 145.8 \nL 145.688839 7.2 \n\" clip-path=\"url(#pffc5396249)\" style=\"fill: none; stroke: #b0b0b0; stroke-width: 0.8; stroke-linecap: square\"/>\n     </g>\n     <g id=\"line2d_6\">\n      <g>\n       <use xlink:href=\"#m95b965ef16\" x=\"145.688839\" y=\"145.8\" style=\"stroke: #000000; stroke-width: 0.8\"/>\n      </g>\n     </g>\n     <g id=\"text_3\">\n      <!-- 30 -->\n      <g transform=\"translate(139.326339 160.398438)scale(0.1 -0.1)\">\n       <defs>\n        <path id=\"DejaVuSans-33\" d=\"M 2597 2516 \nQ 3050 2419 3304 2112 \nQ 3559 1806 3559 1356 \nQ 3559 666 3084 287 \nQ 2609 -91 1734 -91 \nQ 1441 -91 1130 -33 \nQ 819 25 488 141 \nL 488 750 \nQ 750 597 1062 519 \nQ 1375 441 1716 441 \nQ 2309 441 2620 675 \nQ 2931 909 2931 1356 \nQ 2931 1769 2642 2001 \nQ 2353 2234 1838 2234 \nL 1294 2234 \nL 1294 2753 \nL 1863 2753 \nQ 2328 2753 2575 2939 \nQ 2822 3125 2822 3475 \nQ 2822 3834 2567 4026 \nQ 2313 4219 1838 4219 \nQ 1578 4219 1281 4162 \nQ 984 4106 628 3988 \nL 628 4550 \nQ 988 4650 1302 4700 \nQ 1616 4750 1894 4750 \nQ 2613 4750 3031 4423 \nQ 3450 4097 3450 3541 \nQ 3450 3153 3228 2886 \nQ 3006 2619 2597 2516 \nz\n\" transform=\"scale(0.015625)\"/>\n       </defs>\n       <use xlink:href=\"#DejaVuSans-33\"/>\n       <use xlink:href=\"#DejaVuSans-30\" x=\"63.623047\"/>\n      </g>\n     </g>\n    </g>\n    <g id=\"xtick_4\">\n     <g id=\"line2d_7\">\n      <path d=\"M 185.545982 145.8 \nL 185.545982 7.2 \n\" clip-path=\"url(#pffc5396249)\" style=\"fill: none; stroke: #b0b0b0; stroke-width: 0.8; stroke-linecap: square\"/>\n     </g>\n     <g id=\"line2d_8\">\n      <g>\n       <use xlink:href=\"#m95b965ef16\" x=\"185.545982\" y=\"145.8\" style=\"stroke: #000000; stroke-width: 0.8\"/>\n      </g>\n     </g>\n     <g id=\"text_4\">\n      <!-- 40 -->\n      <g transform=\"translate(179.183482 160.398438)scale(0.1 -0.1)\">\n       <defs>\n        <path id=\"DejaVuSans-34\" d=\"M 2419 4116 \nL 825 1625 \nL 2419 1625 \nL 2419 4116 \nz\nM 2253 4666 \nL 3047 4666 \nL 3047 1625 \nL 3713 1625 \nL 3713 1100 \nL 3047 1100 \nL 3047 0 \nL 2419 0 \nL 2419 1100 \nL 313 1100 \nL 313 1709 \nL 2253 4666 \nz\n\" transform=\"scale(0.015625)\"/>\n       </defs>\n       <use xlink:href=\"#DejaVuSans-34\"/>\n       <use xlink:href=\"#DejaVuSans-30\" x=\"63.623047\"/>\n      </g>\n     </g>\n    </g>\n    <g id=\"xtick_5\">\n     <g id=\"line2d_9\">\n      <path d=\"M 225.403125 145.8 \nL 225.403125 7.2 \n\" clip-path=\"url(#pffc5396249)\" style=\"fill: none; stroke: #b0b0b0; stroke-width: 0.8; stroke-linecap: square\"/>\n     </g>\n     <g id=\"line2d_10\">\n      <g>\n       <use xlink:href=\"#m95b965ef16\" x=\"225.403125\" y=\"145.8\" style=\"stroke: #000000; stroke-width: 0.8\"/>\n      </g>\n     </g>\n     <g id=\"text_5\">\n      <!-- 50 -->\n      <g transform=\"translate(219.040625 160.398438)scale(0.1 -0.1)\">\n       <defs>\n        <path id=\"DejaVuSans-35\" d=\"M 691 4666 \nL 3169 4666 \nL 3169 4134 \nL 1269 4134 \nL 1269 2991 \nQ 1406 3038 1543 3061 \nQ 1681 3084 1819 3084 \nQ 2600 3084 3056 2656 \nQ 3513 2228 3513 1497 \nQ 3513 744 3044 326 \nQ 2575 -91 1722 -91 \nQ 1428 -91 1123 -41 \nQ 819 9 494 109 \nL 494 744 \nQ 775 591 1075 516 \nQ 1375 441 1709 441 \nQ 2250 441 2565 725 \nQ 2881 1009 2881 1497 \nQ 2881 1984 2565 2268 \nQ 2250 2553 1709 2553 \nQ 1456 2553 1204 2497 \nQ 953 2441 691 2322 \nL 691 4666 \nz\n\" transform=\"scale(0.015625)\"/>\n       </defs>\n       <use xlink:href=\"#DejaVuSans-35\"/>\n       <use xlink:href=\"#DejaVuSans-30\" x=\"63.623047\"/>\n      </g>\n     </g>\n    </g>\n    <g id=\"text_6\">\n     <!-- epoch -->\n     <g transform=\"translate(112.525 174.076563)scale(0.1 -0.1)\">\n      <defs>\n       <path id=\"DejaVuSans-65\" d=\"M 3597 1894 \nL 3597 1613 \nL 953 1613 \nQ 991 1019 1311 708 \nQ 1631 397 2203 397 \nQ 2534 397 2845 478 \nQ 3156 559 3463 722 \nL 3463 178 \nQ 3153 47 2828 -22 \nQ 2503 -91 2169 -91 \nQ 1331 -91 842 396 \nQ 353 884 353 1716 \nQ 353 2575 817 3079 \nQ 1281 3584 2069 3584 \nQ 2775 3584 3186 3129 \nQ 3597 2675 3597 1894 \nz\nM 3022 2063 \nQ 3016 2534 2758 2815 \nQ 2500 3097 2075 3097 \nQ 1594 3097 1305 2825 \nQ 1016 2553 972 2059 \nL 3022 2063 \nz\n\" transform=\"scale(0.015625)\"/>\n       <path id=\"DejaVuSans-70\" d=\"M 1159 525 \nL 1159 -1331 \nL 581 -1331 \nL 581 3500 \nL 1159 3500 \nL 1159 2969 \nQ 1341 3281 1617 3432 \nQ 1894 3584 2278 3584 \nQ 2916 3584 3314 3078 \nQ 3713 2572 3713 1747 \nQ 3713 922 3314 415 \nQ 2916 -91 2278 -91 \nQ 1894 -91 1617 61 \nQ 1341 213 1159 525 \nz\nM 3116 1747 \nQ 3116 2381 2855 2742 \nQ 2594 3103 2138 3103 \nQ 1681 3103 1420 2742 \nQ 1159 2381 1159 1747 \nQ 1159 1113 1420 752 \nQ 1681 391 2138 391 \nQ 2594 391 2855 752 \nQ 3116 1113 3116 1747 \nz\n\" transform=\"scale(0.015625)\"/>\n       <path id=\"DejaVuSans-6f\" d=\"M 1959 3097 \nQ 1497 3097 1228 2736 \nQ 959 2375 959 1747 \nQ 959 1119 1226 758 \nQ 1494 397 1959 397 \nQ 2419 397 2687 759 \nQ 2956 1122 2956 1747 \nQ 2956 2369 2687 2733 \nQ 2419 3097 1959 3097 \nz\nM 1959 3584 \nQ 2709 3584 3137 3096 \nQ 3566 2609 3566 1747 \nQ 3566 888 3137 398 \nQ 2709 -91 1959 -91 \nQ 1206 -91 779 398 \nQ 353 888 353 1747 \nQ 353 2609 779 3096 \nQ 1206 3584 1959 3584 \nz\n\" transform=\"scale(0.015625)\"/>\n       <path id=\"DejaVuSans-63\" d=\"M 3122 3366 \nL 3122 2828 \nQ 2878 2963 2633 3030 \nQ 2388 3097 2138 3097 \nQ 1578 3097 1268 2742 \nQ 959 2388 959 1747 \nQ 959 1106 1268 751 \nQ 1578 397 2138 397 \nQ 2388 397 2633 464 \nQ 2878 531 3122 666 \nL 3122 134 \nQ 2881 22 2623 -34 \nQ 2366 -91 2075 -91 \nQ 1284 -91 818 406 \nQ 353 903 353 1747 \nQ 353 2603 823 3093 \nQ 1294 3584 2113 3584 \nQ 2378 3584 2631 3529 \nQ 2884 3475 3122 3366 \nz\n\" transform=\"scale(0.015625)\"/>\n       <path id=\"DejaVuSans-68\" d=\"M 3513 2113 \nL 3513 0 \nL 2938 0 \nL 2938 2094 \nQ 2938 2591 2744 2837 \nQ 2550 3084 2163 3084 \nQ 1697 3084 1428 2787 \nQ 1159 2491 1159 1978 \nL 1159 0 \nL 581 0 \nL 581 4863 \nL 1159 4863 \nL 1159 2956 \nQ 1366 3272 1645 3428 \nQ 1925 3584 2291 3584 \nQ 2894 3584 3203 3211 \nQ 3513 2838 3513 2113 \nz\n\" transform=\"scale(0.015625)\"/>\n      </defs>\n      <use xlink:href=\"#DejaVuSans-65\"/>\n      <use xlink:href=\"#DejaVuSans-70\" x=\"61.523438\"/>\n      <use xlink:href=\"#DejaVuSans-6f\" x=\"125\"/>\n      <use xlink:href=\"#DejaVuSans-63\" x=\"186.181641\"/>\n      <use xlink:href=\"#DejaVuSans-68\" x=\"241.162109\"/>\n     </g>\n    </g>\n   </g>\n   <g id=\"matplotlib.axis_2\">\n    <g id=\"ytick_1\">\n     <g id=\"line2d_11\">\n      <path d=\"M 30.103125 122.7 \nL 225.403125 122.7 \n\" clip-path=\"url(#pffc5396249)\" style=\"fill: none; stroke: #b0b0b0; stroke-width: 0.8; stroke-linecap: square\"/>\n     </g>\n     <g id=\"line2d_12\">\n      <defs>\n       <path id=\"m7392cecc0b\" d=\"M 0 0 \nL -3.5 0 \n\" style=\"stroke: #000000; stroke-width: 0.8\"/>\n      </defs>\n      <g>\n       <use xlink:href=\"#m7392cecc0b\" x=\"30.103125\" y=\"122.7\" style=\"stroke: #000000; stroke-width: 0.8\"/>\n      </g>\n     </g>\n     <g id=\"text_7\">\n      <!-- 0.4 -->\n      <g transform=\"translate(7.2 126.499219)scale(0.1 -0.1)\">\n       <defs>\n        <path id=\"DejaVuSans-2e\" d=\"M 684 794 \nL 1344 794 \nL 1344 0 \nL 684 0 \nL 684 794 \nz\n\" transform=\"scale(0.015625)\"/>\n       </defs>\n       <use xlink:href=\"#DejaVuSans-30\"/>\n       <use xlink:href=\"#DejaVuSans-2e\" x=\"63.623047\"/>\n       <use xlink:href=\"#DejaVuSans-34\" x=\"95.410156\"/>\n      </g>\n     </g>\n    </g>\n    <g id=\"ytick_2\">\n     <g id=\"line2d_13\">\n      <path d=\"M 30.103125 76.5 \nL 225.403125 76.5 \n\" clip-path=\"url(#pffc5396249)\" style=\"fill: none; stroke: #b0b0b0; stroke-width: 0.8; stroke-linecap: square\"/>\n     </g>\n     <g id=\"line2d_14\">\n      <g>\n       <use xlink:href=\"#m7392cecc0b\" x=\"30.103125\" y=\"76.5\" style=\"stroke: #000000; stroke-width: 0.8\"/>\n      </g>\n     </g>\n     <g id=\"text_8\">\n      <!-- 0.6 -->\n      <g transform=\"translate(7.2 80.299219)scale(0.1 -0.1)\">\n       <defs>\n        <path id=\"DejaVuSans-36\" d=\"M 2113 2584 \nQ 1688 2584 1439 2293 \nQ 1191 2003 1191 1497 \nQ 1191 994 1439 701 \nQ 1688 409 2113 409 \nQ 2538 409 2786 701 \nQ 3034 994 3034 1497 \nQ 3034 2003 2786 2293 \nQ 2538 2584 2113 2584 \nz\nM 3366 4563 \nL 3366 3988 \nQ 3128 4100 2886 4159 \nQ 2644 4219 2406 4219 \nQ 1781 4219 1451 3797 \nQ 1122 3375 1075 2522 \nQ 1259 2794 1537 2939 \nQ 1816 3084 2150 3084 \nQ 2853 3084 3261 2657 \nQ 3669 2231 3669 1497 \nQ 3669 778 3244 343 \nQ 2819 -91 2113 -91 \nQ 1303 -91 875 529 \nQ 447 1150 447 2328 \nQ 447 3434 972 4092 \nQ 1497 4750 2381 4750 \nQ 2619 4750 2861 4703 \nQ 3103 4656 3366 4563 \nz\n\" transform=\"scale(0.015625)\"/>\n       </defs>\n       <use xlink:href=\"#DejaVuSans-30\"/>\n       <use xlink:href=\"#DejaVuSans-2e\" x=\"63.623047\"/>\n       <use xlink:href=\"#DejaVuSans-36\" x=\"95.410156\"/>\n      </g>\n     </g>\n    </g>\n    <g id=\"ytick_3\">\n     <g id=\"line2d_15\">\n      <path d=\"M 30.103125 30.3 \nL 225.403125 30.3 \n\" clip-path=\"url(#pffc5396249)\" style=\"fill: none; stroke: #b0b0b0; stroke-width: 0.8; stroke-linecap: square\"/>\n     </g>\n     <g id=\"line2d_16\">\n      <g>\n       <use xlink:href=\"#m7392cecc0b\" x=\"30.103125\" y=\"30.3\" style=\"stroke: #000000; stroke-width: 0.8\"/>\n      </g>\n     </g>\n     <g id=\"text_9\">\n      <!-- 0.8 -->\n      <g transform=\"translate(7.2 34.099219)scale(0.1 -0.1)\">\n       <defs>\n        <path id=\"DejaVuSans-38\" d=\"M 2034 2216 \nQ 1584 2216 1326 1975 \nQ 1069 1734 1069 1313 \nQ 1069 891 1326 650 \nQ 1584 409 2034 409 \nQ 2484 409 2743 651 \nQ 3003 894 3003 1313 \nQ 3003 1734 2745 1975 \nQ 2488 2216 2034 2216 \nz\nM 1403 2484 \nQ 997 2584 770 2862 \nQ 544 3141 544 3541 \nQ 544 4100 942 4425 \nQ 1341 4750 2034 4750 \nQ 2731 4750 3128 4425 \nQ 3525 4100 3525 3541 \nQ 3525 3141 3298 2862 \nQ 3072 2584 2669 2484 \nQ 3125 2378 3379 2068 \nQ 3634 1759 3634 1313 \nQ 3634 634 3220 271 \nQ 2806 -91 2034 -91 \nQ 1263 -91 848 271 \nQ 434 634 434 1313 \nQ 434 1759 690 2068 \nQ 947 2378 1403 2484 \nz\nM 1172 3481 \nQ 1172 3119 1398 2916 \nQ 1625 2713 2034 2713 \nQ 2441 2713 2670 2916 \nQ 2900 3119 2900 3481 \nQ 2900 3844 2670 4047 \nQ 2441 4250 2034 4250 \nQ 1625 4250 1398 4047 \nQ 1172 3844 1172 3481 \nz\n\" transform=\"scale(0.015625)\"/>\n       </defs>\n       <use xlink:href=\"#DejaVuSans-30\"/>\n       <use xlink:href=\"#DejaVuSans-2e\" x=\"63.623047\"/>\n       <use xlink:href=\"#DejaVuSans-38\" x=\"95.410156\"/>\n      </g>\n     </g>\n    </g>\n   </g>\n   <g id=\"line2d_17\">\n    <path clip-path=\"url(#pffc5396249)\" style=\"fill: none; stroke: #1f77b4; stroke-width: 1.5; stroke-linecap: square\"/>\n   </g>\n   <g id=\"line2d_18\">\n    <path d=\"M 30.826546 184.35625 \nL 34.088839 165.661952 \nL 38.074554 155.832165 \nL 42.060268 148.026158 \nL 46.045982 143.400375 \nL 50.031696 128.077472 \nL 54.017411 120.849687 \nL 58.003125 114.778348 \nL 61.988839 113.04368 \nL 65.974554 111.0199 \nL 69.960268 102.057447 \nL 73.945982 98.298999 \nL 77.931696 98.298999 \nL 81.917411 100.61189 \nL 85.903125 93.962328 \nL 89.888839 89.336546 \nL 93.874554 90.492991 \nL 97.860268 83.265207 \nL 101.845982 84.421652 \nL 105.831696 84.710763 \nL 109.817411 84.710763 \nL 113.803125 82.397872 \nL 117.788839 77.193867 \nL 121.774554 67.942303 \nL 125.760268 72.857196 \nL 129.745982 70.255194 \nL 133.731696 73.724531 \nL 137.717411 66.785857 \nL 141.703125 69.676971 \nL 145.688839 66.207635 \nL 149.674554 61.581852 \nL 153.660268 66.496746 \nL 157.645982 64.183855 \nL 161.631696 60.136295 \nL 165.617411 56.088736 \nL 169.603125 63.027409 \nL 173.588839 60.425407 \nL 177.574554 58.401627 \nL 181.560268 54.643179 \nL 185.545982 58.97985 \nL 189.531696 55.221402 \nL 193.517411 48.282728 \nL 197.503125 60.425407 \nL 201.488839 51.752065 \nL 205.474554 49.439174 \nL 209.460268 50.306508 \nL 213.445982 47.126283 \nL 217.431696 52.908511 \nL 221.417411 46.54806 \nL 225.403125 45.969837 \n\" clip-path=\"url(#pffc5396249)\" style=\"fill: none; stroke-dasharray: 5.55,2.4; stroke-dashoffset: 0; stroke: #bf00bf; stroke-width: 1.5\"/>\n   </g>\n   <g id=\"line2d_19\">\n    <path d=\"M 30.103125 172.365 \nL 34.088839 153.885 \nL 38.074554 155.04 \nL 42.060268 144.645 \nL 46.045982 144.645 \nL 50.031696 125.01 \nL 54.017411 128.475 \nL 58.003125 114.615 \nL 61.988839 109.995 \nL 65.974554 114.615 \nL 69.960268 111.15 \nL 73.945982 104.22 \nL 77.931696 98.445 \nL 81.917411 99.6 \nL 85.903125 92.67 \nL 89.888839 78.81 \nL 93.874554 76.5 \nL 97.860268 68.415 \nL 101.845982 75.345 \nL 105.831696 77.655 \nL 109.817411 68.415 \nL 113.803125 70.725 \nL 117.788839 61.485 \nL 121.774554 67.26 \nL 125.760268 62.64 \nL 129.745982 64.95 \nL 133.731696 60.33 \nL 137.717411 62.64 \nL 141.703125 61.485 \nL 145.688839 56.865 \nL 149.674554 59.175 \nL 153.660268 58.02 \nL 157.645982 60.33 \nL 161.631696 62.64 \nL 165.617411 59.175 \nL 169.603125 61.485 \nL 173.588839 62.64 \nL 177.574554 54.555 \nL 181.560268 55.71 \nL 185.545982 53.4 \nL 189.531696 56.865 \nL 193.517411 51.09 \nL 197.503125 49.935 \nL 201.488839 63.795 \nL 205.474554 47.625 \nL 209.460268 49.935 \nL 213.445982 60.33 \nL 217.431696 51.09 \nL 221.417411 46.47 \nL 225.403125 52.245 \n\" clip-path=\"url(#pffc5396249)\" style=\"fill: none; stroke-dasharray: 9.6,2.4,1.5,2.4; stroke-dashoffset: 0; stroke: #008000; stroke-width: 1.5\"/>\n   </g>\n   <g id=\"patch_3\">\n    <path d=\"M 30.103125 145.8 \nL 30.103125 7.2 \n\" style=\"fill: none; stroke: #000000; stroke-width: 0.8; stroke-linejoin: miter; stroke-linecap: square\"/>\n   </g>\n   <g id=\"patch_4\">\n    <path d=\"M 225.403125 145.8 \nL 225.403125 7.2 \n\" style=\"fill: none; stroke: #000000; stroke-width: 0.8; stroke-linejoin: miter; stroke-linecap: square\"/>\n   </g>\n   <g id=\"patch_5\">\n    <path d=\"M 30.103125 145.8 \nL 225.403125 145.8 \n\" style=\"fill: none; stroke: #000000; stroke-width: 0.8; stroke-linejoin: miter; stroke-linecap: square\"/>\n   </g>\n   <g id=\"patch_6\">\n    <path d=\"M 30.103125 7.2 \nL 225.403125 7.2 \n\" style=\"fill: none; stroke: #000000; stroke-width: 0.8; stroke-linejoin: miter; stroke-linecap: square\"/>\n   </g>\n   <g id=\"legend_1\">\n    <g id=\"patch_7\">\n     <path d=\"M 37.103125 59.234375 \nL 114.871875 59.234375 \nQ 116.871875 59.234375 116.871875 57.234375 \nL 116.871875 14.2 \nQ 116.871875 12.2 114.871875 12.2 \nL 37.103125 12.2 \nQ 35.103125 12.2 35.103125 14.2 \nL 35.103125 57.234375 \nQ 35.103125 59.234375 37.103125 59.234375 \nz\n\" style=\"fill: #ffffff; opacity: 0.8; stroke: #cccccc; stroke-linejoin: miter\"/>\n    </g>\n    <g id=\"line2d_20\">\n     <path d=\"M 39.103125 20.298438 \nL 49.103125 20.298438 \nL 59.103125 20.298438 \n\" style=\"fill: none; stroke: #1f77b4; stroke-width: 1.5; stroke-linecap: square\"/>\n    </g>\n    <g id=\"text_10\">\n     <!-- train loss -->\n     <g transform=\"translate(67.103125 23.798438)scale(0.1 -0.1)\">\n      <defs>\n       <path id=\"DejaVuSans-74\" d=\"M 1172 4494 \nL 1172 3500 \nL 2356 3500 \nL 2356 3053 \nL 1172 3053 \nL 1172 1153 \nQ 1172 725 1289 603 \nQ 1406 481 1766 481 \nL 2356 481 \nL 2356 0 \nL 1766 0 \nQ 1100 0 847 248 \nQ 594 497 594 1153 \nL 594 3053 \nL 172 3053 \nL 172 3500 \nL 594 3500 \nL 594 4494 \nL 1172 4494 \nz\n\" transform=\"scale(0.015625)\"/>\n       <path id=\"DejaVuSans-72\" d=\"M 2631 2963 \nQ 2534 3019 2420 3045 \nQ 2306 3072 2169 3072 \nQ 1681 3072 1420 2755 \nQ 1159 2438 1159 1844 \nL 1159 0 \nL 581 0 \nL 581 3500 \nL 1159 3500 \nL 1159 2956 \nQ 1341 3275 1631 3429 \nQ 1922 3584 2338 3584 \nQ 2397 3584 2469 3576 \nQ 2541 3569 2628 3553 \nL 2631 2963 \nz\n\" transform=\"scale(0.015625)\"/>\n       <path id=\"DejaVuSans-61\" d=\"M 2194 1759 \nQ 1497 1759 1228 1600 \nQ 959 1441 959 1056 \nQ 959 750 1161 570 \nQ 1363 391 1709 391 \nQ 2188 391 2477 730 \nQ 2766 1069 2766 1631 \nL 2766 1759 \nL 2194 1759 \nz\nM 3341 1997 \nL 3341 0 \nL 2766 0 \nL 2766 531 \nQ 2569 213 2275 61 \nQ 1981 -91 1556 -91 \nQ 1019 -91 701 211 \nQ 384 513 384 1019 \nQ 384 1609 779 1909 \nQ 1175 2209 1959 2209 \nL 2766 2209 \nL 2766 2266 \nQ 2766 2663 2505 2880 \nQ 2244 3097 1772 3097 \nQ 1472 3097 1187 3025 \nQ 903 2953 641 2809 \nL 641 3341 \nQ 956 3463 1253 3523 \nQ 1550 3584 1831 3584 \nQ 2591 3584 2966 3190 \nQ 3341 2797 3341 1997 \nz\n\" transform=\"scale(0.015625)\"/>\n       <path id=\"DejaVuSans-69\" d=\"M 603 3500 \nL 1178 3500 \nL 1178 0 \nL 603 0 \nL 603 3500 \nz\nM 603 4863 \nL 1178 4863 \nL 1178 4134 \nL 603 4134 \nL 603 4863 \nz\n\" transform=\"scale(0.015625)\"/>\n       <path id=\"DejaVuSans-6e\" d=\"M 3513 2113 \nL 3513 0 \nL 2938 0 \nL 2938 2094 \nQ 2938 2591 2744 2837 \nQ 2550 3084 2163 3084 \nQ 1697 3084 1428 2787 \nQ 1159 2491 1159 1978 \nL 1159 0 \nL 581 0 \nL 581 3500 \nL 1159 3500 \nL 1159 2956 \nQ 1366 3272 1645 3428 \nQ 1925 3584 2291 3584 \nQ 2894 3584 3203 3211 \nQ 3513 2838 3513 2113 \nz\n\" transform=\"scale(0.015625)\"/>\n       <path id=\"DejaVuSans-20\" transform=\"scale(0.015625)\"/>\n       <path id=\"DejaVuSans-6c\" d=\"M 603 4863 \nL 1178 4863 \nL 1178 0 \nL 603 0 \nL 603 4863 \nz\n\" transform=\"scale(0.015625)\"/>\n       <path id=\"DejaVuSans-73\" d=\"M 2834 3397 \nL 2834 2853 \nQ 2591 2978 2328 3040 \nQ 2066 3103 1784 3103 \nQ 1356 3103 1142 2972 \nQ 928 2841 928 2578 \nQ 928 2378 1081 2264 \nQ 1234 2150 1697 2047 \nL 1894 2003 \nQ 2506 1872 2764 1633 \nQ 3022 1394 3022 966 \nQ 3022 478 2636 193 \nQ 2250 -91 1575 -91 \nQ 1294 -91 989 -36 \nQ 684 19 347 128 \nL 347 722 \nQ 666 556 975 473 \nQ 1284 391 1588 391 \nQ 1994 391 2212 530 \nQ 2431 669 2431 922 \nQ 2431 1156 2273 1281 \nQ 2116 1406 1581 1522 \nL 1381 1569 \nQ 847 1681 609 1914 \nQ 372 2147 372 2553 \nQ 372 3047 722 3315 \nQ 1072 3584 1716 3584 \nQ 2034 3584 2315 3537 \nQ 2597 3491 2834 3397 \nz\n\" transform=\"scale(0.015625)\"/>\n      </defs>\n      <use xlink:href=\"#DejaVuSans-74\"/>\n      <use xlink:href=\"#DejaVuSans-72\" x=\"39.208984\"/>\n      <use xlink:href=\"#DejaVuSans-61\" x=\"80.322266\"/>\n      <use xlink:href=\"#DejaVuSans-69\" x=\"141.601562\"/>\n      <use xlink:href=\"#DejaVuSans-6e\" x=\"169.384766\"/>\n      <use xlink:href=\"#DejaVuSans-20\" x=\"232.763672\"/>\n      <use xlink:href=\"#DejaVuSans-6c\" x=\"264.550781\"/>\n      <use xlink:href=\"#DejaVuSans-6f\" x=\"292.333984\"/>\n      <use xlink:href=\"#DejaVuSans-73\" x=\"353.515625\"/>\n      <use xlink:href=\"#DejaVuSans-73\" x=\"405.615234\"/>\n     </g>\n    </g>\n    <g id=\"line2d_21\">\n     <path d=\"M 39.103125 34.976563 \nL 49.103125 34.976563 \nL 59.103125 34.976563 \n\" style=\"fill: none; stroke-dasharray: 5.55,2.4; stroke-dashoffset: 0; stroke: #bf00bf; stroke-width: 1.5\"/>\n    </g>\n    <g id=\"text_11\">\n     <!-- train acc -->\n     <g transform=\"translate(67.103125 38.476563)scale(0.1 -0.1)\">\n      <use xlink:href=\"#DejaVuSans-74\"/>\n      <use xlink:href=\"#DejaVuSans-72\" x=\"39.208984\"/>\n      <use xlink:href=\"#DejaVuSans-61\" x=\"80.322266\"/>\n      <use xlink:href=\"#DejaVuSans-69\" x=\"141.601562\"/>\n      <use xlink:href=\"#DejaVuSans-6e\" x=\"169.384766\"/>\n      <use xlink:href=\"#DejaVuSans-20\" x=\"232.763672\"/>\n      <use xlink:href=\"#DejaVuSans-61\" x=\"264.550781\"/>\n      <use xlink:href=\"#DejaVuSans-63\" x=\"325.830078\"/>\n      <use xlink:href=\"#DejaVuSans-63\" x=\"380.810547\"/>\n     </g>\n    </g>\n    <g id=\"line2d_22\">\n     <path d=\"M 39.103125 49.654688 \nL 49.103125 49.654688 \nL 59.103125 49.654688 \n\" style=\"fill: none; stroke-dasharray: 9.6,2.4,1.5,2.4; stroke-dashoffset: 0; stroke: #008000; stroke-width: 1.5\"/>\n    </g>\n    <g id=\"text_12\">\n     <!-- test acc -->\n     <g transform=\"translate(67.103125 53.154688)scale(0.1 -0.1)\">\n      <use xlink:href=\"#DejaVuSans-74\"/>\n      <use xlink:href=\"#DejaVuSans-65\" x=\"39.208984\"/>\n      <use xlink:href=\"#DejaVuSans-73\" x=\"100.732422\"/>\n      <use xlink:href=\"#DejaVuSans-74\" x=\"152.832031\"/>\n      <use xlink:href=\"#DejaVuSans-20\" x=\"192.041016\"/>\n      <use xlink:href=\"#DejaVuSans-61\" x=\"223.828125\"/>\n      <use xlink:href=\"#DejaVuSans-63\" x=\"285.107422\"/>\n      <use xlink:href=\"#DejaVuSans-63\" x=\"340.087891\"/>\n     </g>\n    </g>\n   </g>\n  </g>\n </g>\n <defs>\n  <clipPath id=\"pffc5396249\">\n   <rect x=\"30.103125\" y=\"7.2\" width=\"195.3\" height=\"138.6\"/>\n  </clipPath>\n </defs>\n</svg>\n"
          },
          "metadata": {}
        }
      ]
    },
    {
      "cell_type": "markdown",
      "source": [
        "### CNN"
      ],
      "metadata": {
        "id": "kmCHv5nJTBu0"
      }
    },
    {
      "cell_type": "markdown",
      "source": [
        "#### Model Definition"
      ],
      "metadata": {
        "id": "8P3LeNl2TNFK"
      }
    },
    {
      "cell_type": "code",
      "source": [
        "#Our CNN \n",
        "cnn_net = nn.Sequential(\n",
        "    \n",
        "    #16@3x3 Convolutional Layer, ReLU Activation Function\n",
        "    nn.Conv2d(1, 16, kernel_size = 3, stride = 1, padding = \"same\"), nn.Dropout(0.2), nn.ReLU(),\n",
        "\n",
        "    #3x3 Max Pooling with stride 3 \n",
        "    nn.MaxPool2d(kernel_size=2, stride=2),\n",
        "\n",
        "    #32@3x3 Convolutional Layer, ReLU Activation Function\n",
        "    nn.Conv2d(16, 32, kernel_size = 3, stride = 1, padding = \"same\"), nn.Dropout(0.2), nn.ReLU(),\n",
        "\n",
        "    #3x3 Max Pooling with stride 3 \n",
        "    nn.MaxPool2d(kernel_size=2, stride=2),\n",
        "\n",
        "    #64@3x3 Convolutional Layer, ReLU Activation Function\n",
        "    nn.Conv2d(32, 64, kernel_size = 3, stride = 1, padding = \"same\"), nn.Dropout(0.2), nn.ReLU(),\n",
        "\n",
        "    #3x3 Max Pooling with stride 3 \n",
        "    nn.MaxPool2d(kernel_size=2, stride=2),\n",
        "\n",
        "    #128@3x3 Convolutional Layer, ReLU Activation Function\n",
        "    nn.Conv2d(64,128, kernel_size = 3, stride = 1, padding = \"same\"), nn.Dropout(0.2), nn.ReLU(),\n",
        "\n",
        "    #3x3 Max Pooling with stride 3 \n",
        "    nn.MaxPool2d(kernel_size = 4, stride = 4),\n",
        "\n",
        "    #64@3x3 Convolutional Layer, ReLU Activation Function\n",
        "    nn.Conv2d(128, 64, kernel_size = 3, stride = 1, padding = \"same\"), nn.Dropout(0.2), nn.ReLU(),\n",
        "\n",
        "    #Flatten Layers\n",
        "    nn.Flatten(),\n",
        "\n",
        "    #512x64 FC Layer, Dropout 0.2, ReLU Activation\n",
        "    nn.Linear(768, 64), nn.Dropout(0.2), nn.ReLU(),\n",
        "\n",
        "    #64x10 FC Layer\n",
        "    nn.Linear(64,10)\n",
        "\n",
        ")\n",
        "\n",
        "#Define training parameters\n",
        "cnn_epochs = 50\n",
        "cnn_lr = 0.01"
      ],
      "metadata": {
        "id": "rtZz6m4OTDMH"
      },
      "execution_count": 130,
      "outputs": []
    },
    {
      "cell_type": "markdown",
      "source": [
        "#### Model Training"
      ],
      "metadata": {
        "id": "leXnTwfGUvOV"
      }
    },
    {
      "cell_type": "code",
      "source": [
        "d2l.train_ch6(cnn_net, slice_train_loader, slice_test_loader, cnn_epochs, cnn_lr, d2l.try_gpu())"
      ],
      "metadata": {
        "colab": {
          "base_uri": "https://localhost:8080/",
          "height": 301
        },
        "id": "keToXPI3Uwd0",
        "outputId": "50a7b187-ddae-4696-b490-c1508bed6948"
      },
      "execution_count": 131,
      "outputs": [
        {
          "output_type": "stream",
          "name": "stdout",
          "text": [
            "loss 0.443, train acc 0.848, test acc 0.677\n",
            "1930.5 examples/sec on cuda:0\n"
          ]
        },
        {
          "output_type": "display_data",
          "data": {
            "text/plain": [
              "<Figure size 350x250 with 1 Axes>"
            ],
            "image/svg+xml": "<?xml version=\"1.0\" encoding=\"utf-8\" standalone=\"no\"?>\n<!DOCTYPE svg PUBLIC \"-//W3C//DTD SVG 1.1//EN\"\n  \"http://www.w3.org/Graphics/SVG/1.1/DTD/svg11.dtd\">\n<svg xmlns:xlink=\"http://www.w3.org/1999/xlink\" width=\"238.965625pt\" height=\"183.35625pt\" viewBox=\"0 0 238.965625 183.35625\" xmlns=\"http://www.w3.org/2000/svg\" version=\"1.1\">\n <metadata>\n  <rdf:RDF xmlns:dc=\"http://purl.org/dc/elements/1.1/\" xmlns:cc=\"http://creativecommons.org/ns#\" xmlns:rdf=\"http://www.w3.org/1999/02/22-rdf-syntax-ns#\">\n   <cc:Work>\n    <dc:type rdf:resource=\"http://purl.org/dc/dcmitype/StillImage\"/>\n    <dc:date>2023-04-14T17:36:05.177062</dc:date>\n    <dc:format>image/svg+xml</dc:format>\n    <dc:creator>\n     <cc:Agent>\n      <dc:title>Matplotlib v3.5.1, https://matplotlib.org/</dc:title>\n     </cc:Agent>\n    </dc:creator>\n   </cc:Work>\n  </rdf:RDF>\n </metadata>\n <defs>\n  <style type=\"text/css\">*{stroke-linejoin: round; stroke-linecap: butt}</style>\n </defs>\n <g id=\"figure_1\">\n  <g id=\"patch_1\">\n   <path d=\"M 0 183.35625 \nL 238.965625 183.35625 \nL 238.965625 0 \nL 0 0 \nz\n\" style=\"fill: #ffffff\"/>\n  </g>\n  <g id=\"axes_1\">\n   <g id=\"patch_2\">\n    <path d=\"M 30.103125 145.8 \nL 225.403125 145.8 \nL 225.403125 7.2 \nL 30.103125 7.2 \nz\n\" style=\"fill: #ffffff\"/>\n   </g>\n   <g id=\"matplotlib.axis_1\">\n    <g id=\"xtick_1\">\n     <g id=\"line2d_1\">\n      <path d=\"M 65.974554 145.8 \nL 65.974554 7.2 \n\" clip-path=\"url(#p1f5737dbb0)\" style=\"fill: none; stroke: #b0b0b0; stroke-width: 0.8; stroke-linecap: square\"/>\n     </g>\n     <g id=\"line2d_2\">\n      <defs>\n       <path id=\"m76c6492746\" d=\"M 0 0 \nL 0 3.5 \n\" style=\"stroke: #000000; stroke-width: 0.8\"/>\n      </defs>\n      <g>\n       <use xlink:href=\"#m76c6492746\" x=\"65.974554\" y=\"145.8\" style=\"stroke: #000000; stroke-width: 0.8\"/>\n      </g>\n     </g>\n     <g id=\"text_1\">\n      <!-- 10 -->\n      <g transform=\"translate(59.612054 160.398438)scale(0.1 -0.1)\">\n       <defs>\n        <path id=\"DejaVuSans-31\" d=\"M 794 531 \nL 1825 531 \nL 1825 4091 \nL 703 3866 \nL 703 4441 \nL 1819 4666 \nL 2450 4666 \nL 2450 531 \nL 3481 531 \nL 3481 0 \nL 794 0 \nL 794 531 \nz\n\" transform=\"scale(0.015625)\"/>\n        <path id=\"DejaVuSans-30\" d=\"M 2034 4250 \nQ 1547 4250 1301 3770 \nQ 1056 3291 1056 2328 \nQ 1056 1369 1301 889 \nQ 1547 409 2034 409 \nQ 2525 409 2770 889 \nQ 3016 1369 3016 2328 \nQ 3016 3291 2770 3770 \nQ 2525 4250 2034 4250 \nz\nM 2034 4750 \nQ 2819 4750 3233 4129 \nQ 3647 3509 3647 2328 \nQ 3647 1150 3233 529 \nQ 2819 -91 2034 -91 \nQ 1250 -91 836 529 \nQ 422 1150 422 2328 \nQ 422 3509 836 4129 \nQ 1250 4750 2034 4750 \nz\n\" transform=\"scale(0.015625)\"/>\n       </defs>\n       <use xlink:href=\"#DejaVuSans-31\"/>\n       <use xlink:href=\"#DejaVuSans-30\" x=\"63.623047\"/>\n      </g>\n     </g>\n    </g>\n    <g id=\"xtick_2\">\n     <g id=\"line2d_3\">\n      <path d=\"M 105.831696 145.8 \nL 105.831696 7.2 \n\" clip-path=\"url(#p1f5737dbb0)\" style=\"fill: none; stroke: #b0b0b0; stroke-width: 0.8; stroke-linecap: square\"/>\n     </g>\n     <g id=\"line2d_4\">\n      <g>\n       <use xlink:href=\"#m76c6492746\" x=\"105.831696\" y=\"145.8\" style=\"stroke: #000000; stroke-width: 0.8\"/>\n      </g>\n     </g>\n     <g id=\"text_2\">\n      <!-- 20 -->\n      <g transform=\"translate(99.469196 160.398438)scale(0.1 -0.1)\">\n       <defs>\n        <path id=\"DejaVuSans-32\" d=\"M 1228 531 \nL 3431 531 \nL 3431 0 \nL 469 0 \nL 469 531 \nQ 828 903 1448 1529 \nQ 2069 2156 2228 2338 \nQ 2531 2678 2651 2914 \nQ 2772 3150 2772 3378 \nQ 2772 3750 2511 3984 \nQ 2250 4219 1831 4219 \nQ 1534 4219 1204 4116 \nQ 875 4013 500 3803 \nL 500 4441 \nQ 881 4594 1212 4672 \nQ 1544 4750 1819 4750 \nQ 2544 4750 2975 4387 \nQ 3406 4025 3406 3419 \nQ 3406 3131 3298 2873 \nQ 3191 2616 2906 2266 \nQ 2828 2175 2409 1742 \nQ 1991 1309 1228 531 \nz\n\" transform=\"scale(0.015625)\"/>\n       </defs>\n       <use xlink:href=\"#DejaVuSans-32\"/>\n       <use xlink:href=\"#DejaVuSans-30\" x=\"63.623047\"/>\n      </g>\n     </g>\n    </g>\n    <g id=\"xtick_3\">\n     <g id=\"line2d_5\">\n      <path d=\"M 145.688839 145.8 \nL 145.688839 7.2 \n\" clip-path=\"url(#p1f5737dbb0)\" style=\"fill: none; stroke: #b0b0b0; stroke-width: 0.8; stroke-linecap: square\"/>\n     </g>\n     <g id=\"line2d_6\">\n      <g>\n       <use xlink:href=\"#m76c6492746\" x=\"145.688839\" y=\"145.8\" style=\"stroke: #000000; stroke-width: 0.8\"/>\n      </g>\n     </g>\n     <g id=\"text_3\">\n      <!-- 30 -->\n      <g transform=\"translate(139.326339 160.398438)scale(0.1 -0.1)\">\n       <defs>\n        <path id=\"DejaVuSans-33\" d=\"M 2597 2516 \nQ 3050 2419 3304 2112 \nQ 3559 1806 3559 1356 \nQ 3559 666 3084 287 \nQ 2609 -91 1734 -91 \nQ 1441 -91 1130 -33 \nQ 819 25 488 141 \nL 488 750 \nQ 750 597 1062 519 \nQ 1375 441 1716 441 \nQ 2309 441 2620 675 \nQ 2931 909 2931 1356 \nQ 2931 1769 2642 2001 \nQ 2353 2234 1838 2234 \nL 1294 2234 \nL 1294 2753 \nL 1863 2753 \nQ 2328 2753 2575 2939 \nQ 2822 3125 2822 3475 \nQ 2822 3834 2567 4026 \nQ 2313 4219 1838 4219 \nQ 1578 4219 1281 4162 \nQ 984 4106 628 3988 \nL 628 4550 \nQ 988 4650 1302 4700 \nQ 1616 4750 1894 4750 \nQ 2613 4750 3031 4423 \nQ 3450 4097 3450 3541 \nQ 3450 3153 3228 2886 \nQ 3006 2619 2597 2516 \nz\n\" transform=\"scale(0.015625)\"/>\n       </defs>\n       <use xlink:href=\"#DejaVuSans-33\"/>\n       <use xlink:href=\"#DejaVuSans-30\" x=\"63.623047\"/>\n      </g>\n     </g>\n    </g>\n    <g id=\"xtick_4\">\n     <g id=\"line2d_7\">\n      <path d=\"M 185.545982 145.8 \nL 185.545982 7.2 \n\" clip-path=\"url(#p1f5737dbb0)\" style=\"fill: none; stroke: #b0b0b0; stroke-width: 0.8; stroke-linecap: square\"/>\n     </g>\n     <g id=\"line2d_8\">\n      <g>\n       <use xlink:href=\"#m76c6492746\" x=\"185.545982\" y=\"145.8\" style=\"stroke: #000000; stroke-width: 0.8\"/>\n      </g>\n     </g>\n     <g id=\"text_4\">\n      <!-- 40 -->\n      <g transform=\"translate(179.183482 160.398438)scale(0.1 -0.1)\">\n       <defs>\n        <path id=\"DejaVuSans-34\" d=\"M 2419 4116 \nL 825 1625 \nL 2419 1625 \nL 2419 4116 \nz\nM 2253 4666 \nL 3047 4666 \nL 3047 1625 \nL 3713 1625 \nL 3713 1100 \nL 3047 1100 \nL 3047 0 \nL 2419 0 \nL 2419 1100 \nL 313 1100 \nL 313 1709 \nL 2253 4666 \nz\n\" transform=\"scale(0.015625)\"/>\n       </defs>\n       <use xlink:href=\"#DejaVuSans-34\"/>\n       <use xlink:href=\"#DejaVuSans-30\" x=\"63.623047\"/>\n      </g>\n     </g>\n    </g>\n    <g id=\"xtick_5\">\n     <g id=\"line2d_9\">\n      <path d=\"M 225.403125 145.8 \nL 225.403125 7.2 \n\" clip-path=\"url(#p1f5737dbb0)\" style=\"fill: none; stroke: #b0b0b0; stroke-width: 0.8; stroke-linecap: square\"/>\n     </g>\n     <g id=\"line2d_10\">\n      <g>\n       <use xlink:href=\"#m76c6492746\" x=\"225.403125\" y=\"145.8\" style=\"stroke: #000000; stroke-width: 0.8\"/>\n      </g>\n     </g>\n     <g id=\"text_5\">\n      <!-- 50 -->\n      <g transform=\"translate(219.040625 160.398438)scale(0.1 -0.1)\">\n       <defs>\n        <path id=\"DejaVuSans-35\" d=\"M 691 4666 \nL 3169 4666 \nL 3169 4134 \nL 1269 4134 \nL 1269 2991 \nQ 1406 3038 1543 3061 \nQ 1681 3084 1819 3084 \nQ 2600 3084 3056 2656 \nQ 3513 2228 3513 1497 \nQ 3513 744 3044 326 \nQ 2575 -91 1722 -91 \nQ 1428 -91 1123 -41 \nQ 819 9 494 109 \nL 494 744 \nQ 775 591 1075 516 \nQ 1375 441 1709 441 \nQ 2250 441 2565 725 \nQ 2881 1009 2881 1497 \nQ 2881 1984 2565 2268 \nQ 2250 2553 1709 2553 \nQ 1456 2553 1204 2497 \nQ 953 2441 691 2322 \nL 691 4666 \nz\n\" transform=\"scale(0.015625)\"/>\n       </defs>\n       <use xlink:href=\"#DejaVuSans-35\"/>\n       <use xlink:href=\"#DejaVuSans-30\" x=\"63.623047\"/>\n      </g>\n     </g>\n    </g>\n    <g id=\"text_6\">\n     <!-- epoch -->\n     <g transform=\"translate(112.525 174.076563)scale(0.1 -0.1)\">\n      <defs>\n       <path id=\"DejaVuSans-65\" d=\"M 3597 1894 \nL 3597 1613 \nL 953 1613 \nQ 991 1019 1311 708 \nQ 1631 397 2203 397 \nQ 2534 397 2845 478 \nQ 3156 559 3463 722 \nL 3463 178 \nQ 3153 47 2828 -22 \nQ 2503 -91 2169 -91 \nQ 1331 -91 842 396 \nQ 353 884 353 1716 \nQ 353 2575 817 3079 \nQ 1281 3584 2069 3584 \nQ 2775 3584 3186 3129 \nQ 3597 2675 3597 1894 \nz\nM 3022 2063 \nQ 3016 2534 2758 2815 \nQ 2500 3097 2075 3097 \nQ 1594 3097 1305 2825 \nQ 1016 2553 972 2059 \nL 3022 2063 \nz\n\" transform=\"scale(0.015625)\"/>\n       <path id=\"DejaVuSans-70\" d=\"M 1159 525 \nL 1159 -1331 \nL 581 -1331 \nL 581 3500 \nL 1159 3500 \nL 1159 2969 \nQ 1341 3281 1617 3432 \nQ 1894 3584 2278 3584 \nQ 2916 3584 3314 3078 \nQ 3713 2572 3713 1747 \nQ 3713 922 3314 415 \nQ 2916 -91 2278 -91 \nQ 1894 -91 1617 61 \nQ 1341 213 1159 525 \nz\nM 3116 1747 \nQ 3116 2381 2855 2742 \nQ 2594 3103 2138 3103 \nQ 1681 3103 1420 2742 \nQ 1159 2381 1159 1747 \nQ 1159 1113 1420 752 \nQ 1681 391 2138 391 \nQ 2594 391 2855 752 \nQ 3116 1113 3116 1747 \nz\n\" transform=\"scale(0.015625)\"/>\n       <path id=\"DejaVuSans-6f\" d=\"M 1959 3097 \nQ 1497 3097 1228 2736 \nQ 959 2375 959 1747 \nQ 959 1119 1226 758 \nQ 1494 397 1959 397 \nQ 2419 397 2687 759 \nQ 2956 1122 2956 1747 \nQ 2956 2369 2687 2733 \nQ 2419 3097 1959 3097 \nz\nM 1959 3584 \nQ 2709 3584 3137 3096 \nQ 3566 2609 3566 1747 \nQ 3566 888 3137 398 \nQ 2709 -91 1959 -91 \nQ 1206 -91 779 398 \nQ 353 888 353 1747 \nQ 353 2609 779 3096 \nQ 1206 3584 1959 3584 \nz\n\" transform=\"scale(0.015625)\"/>\n       <path id=\"DejaVuSans-63\" d=\"M 3122 3366 \nL 3122 2828 \nQ 2878 2963 2633 3030 \nQ 2388 3097 2138 3097 \nQ 1578 3097 1268 2742 \nQ 959 2388 959 1747 \nQ 959 1106 1268 751 \nQ 1578 397 2138 397 \nQ 2388 397 2633 464 \nQ 2878 531 3122 666 \nL 3122 134 \nQ 2881 22 2623 -34 \nQ 2366 -91 2075 -91 \nQ 1284 -91 818 406 \nQ 353 903 353 1747 \nQ 353 2603 823 3093 \nQ 1294 3584 2113 3584 \nQ 2378 3584 2631 3529 \nQ 2884 3475 3122 3366 \nz\n\" transform=\"scale(0.015625)\"/>\n       <path id=\"DejaVuSans-68\" d=\"M 3513 2113 \nL 3513 0 \nL 2938 0 \nL 2938 2094 \nQ 2938 2591 2744 2837 \nQ 2550 3084 2163 3084 \nQ 1697 3084 1428 2787 \nQ 1159 2491 1159 1978 \nL 1159 0 \nL 581 0 \nL 581 4863 \nL 1159 4863 \nL 1159 2956 \nQ 1366 3272 1645 3428 \nQ 1925 3584 2291 3584 \nQ 2894 3584 3203 3211 \nQ 3513 2838 3513 2113 \nz\n\" transform=\"scale(0.015625)\"/>\n      </defs>\n      <use xlink:href=\"#DejaVuSans-65\"/>\n      <use xlink:href=\"#DejaVuSans-70\" x=\"61.523438\"/>\n      <use xlink:href=\"#DejaVuSans-6f\" x=\"125\"/>\n      <use xlink:href=\"#DejaVuSans-63\" x=\"186.181641\"/>\n      <use xlink:href=\"#DejaVuSans-68\" x=\"241.162109\"/>\n     </g>\n    </g>\n   </g>\n   <g id=\"matplotlib.axis_2\">\n    <g id=\"ytick_1\">\n     <g id=\"line2d_11\">\n      <path d=\"M 30.103125 144.378371 \nL 225.403125 144.378371 \n\" clip-path=\"url(#p1f5737dbb0)\" style=\"fill: none; stroke: #b0b0b0; stroke-width: 0.8; stroke-linecap: square\"/>\n     </g>\n     <g id=\"line2d_12\">\n      <defs>\n       <path id=\"mc8fdc6efe8\" d=\"M 0 0 \nL -3.5 0 \n\" style=\"stroke: #000000; stroke-width: 0.8\"/>\n      </defs>\n      <g>\n       <use xlink:href=\"#mc8fdc6efe8\" x=\"30.103125\" y=\"144.378371\" style=\"stroke: #000000; stroke-width: 0.8\"/>\n      </g>\n     </g>\n     <g id=\"text_7\">\n      <!-- 0.0 -->\n      <g transform=\"translate(7.2 148.177589)scale(0.1 -0.1)\">\n       <defs>\n        <path id=\"DejaVuSans-2e\" d=\"M 684 794 \nL 1344 794 \nL 1344 0 \nL 684 0 \nL 684 794 \nz\n\" transform=\"scale(0.015625)\"/>\n       </defs>\n       <use xlink:href=\"#DejaVuSans-30\"/>\n       <use xlink:href=\"#DejaVuSans-2e\" x=\"63.623047\"/>\n       <use xlink:href=\"#DejaVuSans-30\" x=\"95.410156\"/>\n      </g>\n     </g>\n    </g>\n    <g id=\"ytick_2\">\n     <g id=\"line2d_13\">\n      <path d=\"M 30.103125 120.287651 \nL 225.403125 120.287651 \n\" clip-path=\"url(#p1f5737dbb0)\" style=\"fill: none; stroke: #b0b0b0; stroke-width: 0.8; stroke-linecap: square\"/>\n     </g>\n     <g id=\"line2d_14\">\n      <g>\n       <use xlink:href=\"#mc8fdc6efe8\" x=\"30.103125\" y=\"120.287651\" style=\"stroke: #000000; stroke-width: 0.8\"/>\n      </g>\n     </g>\n     <g id=\"text_8\">\n      <!-- 0.5 -->\n      <g transform=\"translate(7.2 124.08687)scale(0.1 -0.1)\">\n       <use xlink:href=\"#DejaVuSans-30\"/>\n       <use xlink:href=\"#DejaVuSans-2e\" x=\"63.623047\"/>\n       <use xlink:href=\"#DejaVuSans-35\" x=\"95.410156\"/>\n      </g>\n     </g>\n    </g>\n    <g id=\"ytick_3\">\n     <g id=\"line2d_15\">\n      <path d=\"M 30.103125 96.196932 \nL 225.403125 96.196932 \n\" clip-path=\"url(#p1f5737dbb0)\" style=\"fill: none; stroke: #b0b0b0; stroke-width: 0.8; stroke-linecap: square\"/>\n     </g>\n     <g id=\"line2d_16\">\n      <g>\n       <use xlink:href=\"#mc8fdc6efe8\" x=\"30.103125\" y=\"96.196932\" style=\"stroke: #000000; stroke-width: 0.8\"/>\n      </g>\n     </g>\n     <g id=\"text_9\">\n      <!-- 1.0 -->\n      <g transform=\"translate(7.2 99.996151)scale(0.1 -0.1)\">\n       <use xlink:href=\"#DejaVuSans-31\"/>\n       <use xlink:href=\"#DejaVuSans-2e\" x=\"63.623047\"/>\n       <use xlink:href=\"#DejaVuSans-30\" x=\"95.410156\"/>\n      </g>\n     </g>\n    </g>\n    <g id=\"ytick_4\">\n     <g id=\"line2d_17\">\n      <path d=\"M 30.103125 72.106213 \nL 225.403125 72.106213 \n\" clip-path=\"url(#p1f5737dbb0)\" style=\"fill: none; stroke: #b0b0b0; stroke-width: 0.8; stroke-linecap: square\"/>\n     </g>\n     <g id=\"line2d_18\">\n      <g>\n       <use xlink:href=\"#mc8fdc6efe8\" x=\"30.103125\" y=\"72.106213\" style=\"stroke: #000000; stroke-width: 0.8\"/>\n      </g>\n     </g>\n     <g id=\"text_10\">\n      <!-- 1.5 -->\n      <g transform=\"translate(7.2 75.905432)scale(0.1 -0.1)\">\n       <use xlink:href=\"#DejaVuSans-31\"/>\n       <use xlink:href=\"#DejaVuSans-2e\" x=\"63.623047\"/>\n       <use xlink:href=\"#DejaVuSans-35\" x=\"95.410156\"/>\n      </g>\n     </g>\n    </g>\n    <g id=\"ytick_5\">\n     <g id=\"line2d_19\">\n      <path d=\"M 30.103125 48.015494 \nL 225.403125 48.015494 \n\" clip-path=\"url(#p1f5737dbb0)\" style=\"fill: none; stroke: #b0b0b0; stroke-width: 0.8; stroke-linecap: square\"/>\n     </g>\n     <g id=\"line2d_20\">\n      <g>\n       <use xlink:href=\"#mc8fdc6efe8\" x=\"30.103125\" y=\"48.015494\" style=\"stroke: #000000; stroke-width: 0.8\"/>\n      </g>\n     </g>\n     <g id=\"text_11\">\n      <!-- 2.0 -->\n      <g transform=\"translate(7.2 51.814713)scale(0.1 -0.1)\">\n       <use xlink:href=\"#DejaVuSans-32\"/>\n       <use xlink:href=\"#DejaVuSans-2e\" x=\"63.623047\"/>\n       <use xlink:href=\"#DejaVuSans-30\" x=\"95.410156\"/>\n      </g>\n     </g>\n    </g>\n    <g id=\"ytick_6\">\n     <g id=\"line2d_21\">\n      <path d=\"M 30.103125 23.924775 \nL 225.403125 23.924775 \n\" clip-path=\"url(#p1f5737dbb0)\" style=\"fill: none; stroke: #b0b0b0; stroke-width: 0.8; stroke-linecap: square\"/>\n     </g>\n     <g id=\"line2d_22\">\n      <g>\n       <use xlink:href=\"#mc8fdc6efe8\" x=\"30.103125\" y=\"23.924775\" style=\"stroke: #000000; stroke-width: 0.8\"/>\n      </g>\n     </g>\n     <g id=\"text_12\">\n      <!-- 2.5 -->\n      <g transform=\"translate(7.2 27.723994)scale(0.1 -0.1)\">\n       <use xlink:href=\"#DejaVuSans-32\"/>\n       <use xlink:href=\"#DejaVuSans-2e\" x=\"63.623047\"/>\n       <use xlink:href=\"#DejaVuSans-35\" x=\"95.410156\"/>\n      </g>\n     </g>\n    </g>\n   </g>\n   <g id=\"line2d_23\">\n    <path d=\"M 26.914554 13.5 \nL 27.711696 25.435658 \nL 28.508839 30.6041 \nL 29.305982 34.055296 \nL 30.103125 36.859294 \nL 30.900268 49.858644 \nL 33.291696 54.685799 \nL 34.088839 55.454251 \nL 34.885982 63.877464 \nL 35.683125 64.248547 \nL 36.480268 63.230589 \nL 37.277411 63.28707 \nL 38.074554 64.041603 \nL 38.871696 67.813935 \nL 39.668839 65.984861 \nL 40.465982 66.451891 \nL 41.263125 67.698883 \nL 42.060268 67.079444 \nL 42.857411 66.896117 \nL 43.654554 67.838109 \nL 44.451696 69.452764 \nL 45.248839 69.760669 \nL 46.045982 69.949193 \nL 46.843125 69.831428 \nL 47.640268 71.956235 \nL 48.437411 72.242052 \nL 49.234554 72.38234 \nL 50.828839 73.23152 \nL 51.625982 74.028536 \nL 52.423125 75.277482 \nL 53.220268 75.020311 \nL 54.017411 75.610966 \nL 54.814554 78.232032 \nL 55.611696 78.213862 \nL 56.408839 77.856632 \nL 57.205982 77.191755 \nL 58.003125 77.485905 \nL 58.800268 80.362008 \nL 59.597411 79.525451 \nL 61.191696 79.880238 \nL 61.988839 79.65648 \nL 62.785982 83.383169 \nL 63.583125 81.565686 \nL 64.380268 81.341207 \nL 65.177411 80.755233 \nL 65.974554 81.02099 \nL 66.771696 82.377538 \nL 67.568839 83.070374 \nL 68.365982 83.12796 \nL 69.163125 83.863314 \nL 69.960268 83.590286 \nL 70.757411 87.693716 \nL 71.554554 85.924367 \nL 72.351696 85.266782 \nL 73.148839 84.183334 \nL 73.945982 84.861261 \nL 74.743125 86.967657 \nL 75.540268 87.549985 \nL 76.337411 87.661881 \nL 77.134554 87.487904 \nL 77.931696 87.111283 \nL 78.728839 89.878853 \nL 79.525982 88.70678 \nL 80.323125 88.275878 \nL 81.120268 88.624646 \nL 81.917411 87.687311 \nL 82.714554 92.314121 \nL 83.511696 90.651333 \nL 84.308839 90.545582 \nL 85.903125 90.038201 \nL 86.700268 92.142108 \nL 89.091696 91.601478 \nL 89.888839 90.899562 \nL 90.685982 93.936603 \nL 91.483125 94.194666 \nL 92.280268 92.862584 \nL 93.077411 92.050307 \nL 93.874554 92.16654 \nL 94.671696 97.161396 \nL 95.468839 96.957332 \nL 96.265982 95.445219 \nL 97.063125 95.495484 \nL 97.860268 94.881228 \nL 98.657411 95.822626 \nL 99.454554 96.471685 \nL 100.251696 96.474188 \nL 101.048839 95.844881 \nL 101.845982 95.411573 \nL 102.643125 96.3647 \nL 104.237411 96.336875 \nL 105.034554 97.041843 \nL 105.831696 97.221813 \nL 106.628839 99.846104 \nL 107.425982 99.689764 \nL 108.223125 99.07104 \nL 109.020268 98.693757 \nL 109.817411 97.815489 \nL 110.614554 101.299887 \nL 111.411696 98.05764 \nL 112.208839 100.113879 \nL 113.005982 99.472903 \nL 113.803125 99.274973 \nL 114.600268 102.458906 \nL 116.194554 102.21769 \nL 116.991696 102.105654 \nL 117.788839 101.720981 \nL 118.585982 103.570903 \nL 119.383125 103.685972 \nL 120.977411 101.214648 \nL 121.774554 101.717787 \nL 122.571696 107.102467 \nL 123.368839 106.810868 \nL 124.165982 104.713503 \nL 124.963125 104.000957 \nL 125.760268 103.841404 \nL 126.557411 104.519211 \nL 127.354554 103.948711 \nL 128.151696 103.951953 \nL 128.948839 104.116855 \nL 129.745982 104.409306 \nL 130.543125 108.679737 \nL 131.340268 107.708714 \nL 132.137411 106.093951 \nL 132.934554 105.589767 \nL 133.731696 105.651487 \nL 134.528839 108.776655 \nL 135.325982 106.851035 \nL 136.123125 107.032534 \nL 136.920268 107.067763 \nL 137.717411 106.708639 \nL 138.514554 109.011909 \nL 140.108839 107.424193 \nL 140.905982 106.405481 \nL 141.703125 106.878412 \nL 142.500268 109.405968 \nL 143.297411 109.642281 \nL 144.891696 109.273428 \nL 145.688839 109.459813 \nL 146.485982 113.955103 \nL 147.283125 112.106093 \nL 148.877411 110.875828 \nL 149.674554 110.219736 \nL 150.471696 108.970489 \nL 151.268839 109.835922 \nL 152.065982 108.919215 \nL 152.863125 109.606804 \nL 153.660268 109.844406 \nL 154.457411 112.687127 \nL 155.254554 112.946911 \nL 156.051696 111.465534 \nL 156.848839 110.773616 \nL 157.645982 110.609454 \nL 158.443125 113.083133 \nL 159.240268 112.228478 \nL 160.037411 112.954736 \nL 161.631696 113.149214 \nL 162.428839 113.536375 \nL 163.225982 114.287492 \nL 164.820268 112.525729 \nL 165.617411 112.692905 \nL 166.414554 114.877528 \nL 167.211696 113.862913 \nL 168.008839 113.666758 \nL 168.805982 113.620615 \nL 169.603125 112.402088 \nL 170.400268 119.293351 \nL 171.197411 118.211395 \nL 171.994554 114.959933 \nL 172.791696 114.227087 \nL 173.588839 113.808586 \nL 174.385982 115.542298 \nL 175.183125 116.475554 \nL 175.980268 116.132815 \nL 177.574554 115.993928 \nL 178.371696 115.066622 \nL 179.168839 116.462408 \nL 179.965982 115.508228 \nL 180.763125 115.413375 \nL 181.560268 115.641645 \nL 182.357411 117.93772 \nL 183.154554 116.677098 \nL 183.951696 116.839083 \nL 184.748839 116.677152 \nL 185.545982 116.669546 \nL 186.343125 117.432434 \nL 187.140268 117.408205 \nL 187.937411 118.30205 \nL 188.734554 118.470342 \nL 189.531696 117.631083 \nL 190.328839 120.408768 \nL 191.923125 118.875981 \nL 192.720268 117.332956 \nL 193.517411 117.240819 \nL 194.314554 119.569476 \nL 195.111696 119.67459 \nL 195.908839 120.021878 \nL 196.705982 119.609585 \nL 197.503125 119.463487 \nL 198.300268 117.360765 \nL 199.097411 118.891682 \nL 199.894554 118.785294 \nL 200.691696 118.805121 \nL 201.488839 118.428919 \nL 202.285982 122.922263 \nL 203.083125 120.230619 \nL 203.880268 120.122947 \nL 204.677411 120.637056 \nL 205.474554 119.886444 \nL 206.271696 121.449794 \nL 207.068839 122.155355 \nL 207.865982 121.974321 \nL 208.663125 121.553313 \nL 209.460268 120.696657 \nL 210.257411 121.920221 \nL 211.054554 121.143719 \nL 212.648839 120.308275 \nL 213.445982 120.112478 \nL 214.243125 121.072916 \nL 215.040268 120.877072 \nL 216.634554 121.651071 \nL 217.431696 121.051053 \nL 218.228839 121.193608 \nL 219.025982 121.119334 \nL 219.823125 121.18698 \nL 220.620268 121.879206 \nL 221.417411 121.729868 \nL 222.214554 122.873589 \nL 223.011696 123.51574 \nL 223.808839 124.362746 \nL 224.605982 123.196815 \nL 225.403125 123.046995 \nL 225.403125 123.046995 \n\" clip-path=\"url(#p1f5737dbb0)\" style=\"fill: none; stroke: #1f77b4; stroke-width: 1.5; stroke-linecap: square\"/>\n   </g>\n   <g id=\"line2d_24\">\n    <path d=\"M 26.914554 139.5 \nL 27.711696 137.392062 \nL 28.508839 136.227677 \nL 30.103125 134.515404 \nL 30.900268 130.225073 \nL 31.697411 129.321671 \nL 32.494554 128.59895 \nL 33.291696 128.056908 \nL 34.088839 127.871767 \nL 34.885982 125.467156 \nL 35.683125 124.804661 \nL 36.480268 125.346702 \nL 37.277411 125.196135 \nL 38.074554 124.9177 \nL 38.871696 124.08194 \nL 39.668839 124.17228 \nL 41.263125 123.163481 \nL 42.857411 123.600125 \nL 43.654554 122.967744 \nL 44.451696 122.596345 \nL 45.248839 122.772007 \nL 46.843125 122.636497 \nL 47.640268 121.642754 \nL 50.031696 121.336647 \nL 50.828839 120.889919 \nL 51.625982 120.98026 \nL 52.423125 120.468332 \nL 53.220268 120.618899 \nL 54.017411 120.323824 \nL 54.814554 119.384249 \nL 56.408839 119.384249 \nL 57.205982 119.640213 \nL 58.003125 119.540092 \nL 58.800268 117.276312 \nL 59.597411 118.360394 \nL 60.394554 118.581226 \nL 61.191696 118.510961 \nL 61.988839 118.623728 \nL 62.785982 117.758126 \nL 63.583125 118.1496 \nL 64.380268 117.978958 \nL 65.177411 118.315224 \nL 66.771696 118.179714 \nL 67.568839 117.577446 \nL 68.365982 117.717975 \nL 69.960268 117.659135 \nL 70.757411 116.011549 \nL 71.554554 117.005291 \nL 72.351696 116.894875 \nL 73.148839 117.456992 \nL 73.945982 117.092436 \nL 74.743125 117.396765 \nL 75.540268 116.132002 \nL 76.337411 116.332758 \nL 77.931696 116.441335 \nL 78.728839 114.86724 \nL 79.525982 115.379167 \nL 80.323125 115.569886 \nL 81.120268 115.620075 \nL 81.917411 116.1399 \nL 82.714554 115.2286 \nL 83.511696 115.439394 \nL 84.308839 115.248676 \nL 85.903125 115.139134 \nL 86.700268 114.144518 \nL 87.497411 114.445652 \nL 88.294554 114.22482 \nL 89.091696 114.400482 \nL 89.888839 114.861814 \nL 90.685982 113.482023 \nL 91.483125 113.060436 \nL 92.280268 113.72293 \nL 93.077411 114.069235 \nL 93.874554 114.234828 \nL 94.671696 111.735446 \nL 95.468839 112.518395 \nL 96.265982 113.682779 \nL 97.063125 113.45191 \nL 97.860268 113.583728 \nL 98.657411 113.482023 \nL 99.454554 113.150776 \nL 100.251696 113.080511 \nL 101.845982 113.354637 \nL 102.643125 112.518395 \nL 104.237411 112.658924 \nL 105.034554 112.352771 \nL 105.831696 112.402101 \nL 106.628839 111.976353 \nL 107.425982 112.006467 \nL 109.020268 112.412998 \nL 109.817411 112.570905 \nL 110.614554 110.410457 \nL 111.411696 111.645106 \nL 112.208839 111.394161 \nL 113.803125 111.811287 \nL 114.600268 110.711591 \nL 115.397411 110.62125 \nL 116.194554 110.85212 \nL 116.991696 110.771817 \nL 117.788839 110.846694 \nL 118.585982 109.868415 \nL 119.383125 109.476941 \nL 120.180268 109.908567 \nL 120.977411 110.756761 \nL 121.774554 110.750235 \nL 122.571696 109.02524 \nL 123.368839 109.266147 \nL 124.165982 110.189625 \nL 124.963125 110.35023 \nL 125.760268 110.35234 \nL 126.557411 111.012725 \nL 127.354554 110.892271 \nL 128.151696 110.410457 \nL 129.745982 109.990617 \nL 130.543125 108.483199 \nL 131.340268 108.724106 \nL 132.137411 109.266147 \nL 132.934554 109.507055 \nL 133.731696 109.508321 \nL 134.528839 108.904787 \nL 135.325982 109.537168 \nL 136.123125 109.225996 \nL 136.920268 109.145694 \nL 137.717411 109.267172 \nL 138.514554 108.362745 \nL 139.311696 108.75422 \nL 140.108839 108.944938 \nL 140.905982 109.341431 \nL 141.703125 109.194828 \nL 142.500268 107.941158 \nL 143.297411 107.579797 \nL 144.094554 108.101763 \nL 144.891696 108.347689 \nL 145.688839 108.362866 \nL 146.485982 106.736622 \nL 147.283125 107.820704 \nL 148.080268 107.820704 \nL 150.471696 108.603653 \nL 151.268839 108.362745 \nL 152.065982 108.422972 \nL 153.660268 108.338751 \nL 154.457411 106.857076 \nL 155.254554 106.706509 \nL 156.051696 107.640024 \nL 157.645982 107.940856 \nL 158.443125 107.097983 \nL 159.240268 107.15821 \nL 161.631696 106.964206 \nL 162.428839 107.399117 \nL 163.225982 106.977529 \nL 164.023125 107.097983 \nL 164.820268 107.353947 \nL 165.617411 107.277699 \nL 166.414554 106.555942 \nL 168.008839 106.917302 \nL 168.805982 106.947416 \nL 169.603125 107.277699 \nL 170.400268 105.291179 \nL 171.197411 105.622426 \nL 171.994554 106.51579 \nL 173.588839 107.145067 \nL 174.385982 106.254808 \nL 175.183125 106.465601 \nL 175.980268 106.274883 \nL 177.574554 106.361335 \nL 178.371696 106.074127 \nL 179.168839 105.592313 \nL 179.965982 105.953674 \nL 180.763125 106.05907 \nL 181.560268 105.975497 \nL 182.357411 105.291179 \nL 183.154554 106.074127 \nL 184.748839 106.179524 \nL 186.343125 105.772993 \nL 187.937411 105.311254 \nL 188.734554 105.246009 \nL 189.531696 105.58966 \nL 190.328839 105.050272 \nL 191.125982 105.080385 \nL 191.923125 105.230952 \nL 192.720268 105.727823 \nL 193.517411 105.686119 \nL 194.314554 104.207096 \nL 195.111696 104.719024 \nL 196.705982 104.839478 \nL 197.503125 104.89033 \nL 198.300268 105.471859 \nL 199.097411 104.598571 \nL 199.894554 104.949894 \nL 201.488839 104.89033 \nL 202.285982 103.303694 \nL 203.083125 103.875849 \nL 203.880268 104.187021 \nL 204.677411 104.041473 \nL 205.474554 104.299517 \nL 206.271696 103.604828 \nL 207.068839 103.634942 \nL 209.460268 104.239229 \nL 210.257411 104.026416 \nL 211.054554 104.658797 \nL 211.851696 104.969969 \nL 213.445982 104.914445 \nL 214.243125 105.110498 \nL 215.040268 104.50823 \nL 215.837411 104.548382 \nL 216.634554 104.342607 \nL 217.431696 104.540665 \nL 219.025982 104.598571 \nL 220.620268 104.14687 \nL 221.417411 104.106598 \nL 223.011696 103.183241 \nL 223.808839 103.022636 \nL 224.605982 103.499432 \nL 225.403125 103.539899 \nL 225.403125 103.539899 \n\" clip-path=\"url(#p1f5737dbb0)\" style=\"fill: none; stroke-dasharray: 5.55,2.4; stroke-dashoffset: 0; stroke: #bf00bf; stroke-width: 1.5\"/>\n   </g>\n   <g id=\"line2d_25\">\n    <path d=\"M 30.103125 127.546216 \nL 34.088839 124.363058 \nL 38.074554 122.578561 \nL 42.060268 126.051097 \nL 46.045982 120.649374 \nL 50.031696 118.479039 \nL 54.017411 119.78124 \nL 58.003125 119.636551 \nL 61.988839 118.768417 \nL 65.974554 118.093202 \nL 69.960268 117.996742 \nL 73.945982 117.466216 \nL 77.931696 117.176838 \nL 81.917411 118.768417 \nL 85.903125 115.488799 \nL 89.888839 114.813584 \nL 93.874554 116.646312 \nL 97.860268 113.848991 \nL 101.845982 115.151192 \nL 105.831696 114.620665 \nL 109.817411 116.356934 \nL 113.803125 113.270235 \nL 117.788839 112.257412 \nL 121.774554 115.778178 \nL 125.760268 114.765354 \nL 129.745982 112.787938 \nL 133.731696 113.848991 \nL 137.717411 112.643249 \nL 141.703125 113.463153 \nL 145.688839 113.94545 \nL 149.674554 113.125546 \nL 153.660268 112.45033 \nL 157.645982 112.932627 \nL 161.631696 112.160952 \nL 165.617411 112.54679 \nL 169.603125 113.270235 \nL 173.588839 112.836168 \nL 177.574554 111.0999 \nL 181.560268 113.607842 \nL 185.545982 112.595019 \nL 189.531696 111.823345 \nL 193.517411 111.968034 \nL 197.503125 115.34411 \nL 201.488839 112.45033 \nL 205.474554 112.016263 \nL 209.460268 111.823345 \nL 213.445982 111.919804 \nL 217.431696 112.402101 \nL 221.417411 111.871574 \nL 225.403125 111.775115 \n\" clip-path=\"url(#p1f5737dbb0)\" style=\"fill: none; stroke-dasharray: 9.6,2.4,1.5,2.4; stroke-dashoffset: 0; stroke: #008000; stroke-width: 1.5\"/>\n   </g>\n   <g id=\"patch_3\">\n    <path d=\"M 30.103125 145.8 \nL 30.103125 7.2 \n\" style=\"fill: none; stroke: #000000; stroke-width: 0.8; stroke-linejoin: miter; stroke-linecap: square\"/>\n   </g>\n   <g id=\"patch_4\">\n    <path d=\"M 225.403125 145.8 \nL 225.403125 7.2 \n\" style=\"fill: none; stroke: #000000; stroke-width: 0.8; stroke-linejoin: miter; stroke-linecap: square\"/>\n   </g>\n   <g id=\"patch_5\">\n    <path d=\"M 30.103125 145.8 \nL 225.403125 145.8 \n\" style=\"fill: none; stroke: #000000; stroke-width: 0.8; stroke-linejoin: miter; stroke-linecap: square\"/>\n   </g>\n   <g id=\"patch_6\">\n    <path d=\"M 30.103125 7.2 \nL 225.403125 7.2 \n\" style=\"fill: none; stroke: #000000; stroke-width: 0.8; stroke-linejoin: miter; stroke-linecap: square\"/>\n   </g>\n   <g id=\"legend_1\">\n    <g id=\"patch_7\">\n     <path d=\"M 140.634375 59.234375 \nL 218.403125 59.234375 \nQ 220.403125 59.234375 220.403125 57.234375 \nL 220.403125 14.2 \nQ 220.403125 12.2 218.403125 12.2 \nL 140.634375 12.2 \nQ 138.634375 12.2 138.634375 14.2 \nL 138.634375 57.234375 \nQ 138.634375 59.234375 140.634375 59.234375 \nz\n\" style=\"fill: #ffffff; opacity: 0.8; stroke: #cccccc; stroke-linejoin: miter\"/>\n    </g>\n    <g id=\"line2d_26\">\n     <path d=\"M 142.634375 20.298438 \nL 152.634375 20.298438 \nL 162.634375 20.298438 \n\" style=\"fill: none; stroke: #1f77b4; stroke-width: 1.5; stroke-linecap: square\"/>\n    </g>\n    <g id=\"text_13\">\n     <!-- train loss -->\n     <g transform=\"translate(170.634375 23.798438)scale(0.1 -0.1)\">\n      <defs>\n       <path id=\"DejaVuSans-74\" d=\"M 1172 4494 \nL 1172 3500 \nL 2356 3500 \nL 2356 3053 \nL 1172 3053 \nL 1172 1153 \nQ 1172 725 1289 603 \nQ 1406 481 1766 481 \nL 2356 481 \nL 2356 0 \nL 1766 0 \nQ 1100 0 847 248 \nQ 594 497 594 1153 \nL 594 3053 \nL 172 3053 \nL 172 3500 \nL 594 3500 \nL 594 4494 \nL 1172 4494 \nz\n\" transform=\"scale(0.015625)\"/>\n       <path id=\"DejaVuSans-72\" d=\"M 2631 2963 \nQ 2534 3019 2420 3045 \nQ 2306 3072 2169 3072 \nQ 1681 3072 1420 2755 \nQ 1159 2438 1159 1844 \nL 1159 0 \nL 581 0 \nL 581 3500 \nL 1159 3500 \nL 1159 2956 \nQ 1341 3275 1631 3429 \nQ 1922 3584 2338 3584 \nQ 2397 3584 2469 3576 \nQ 2541 3569 2628 3553 \nL 2631 2963 \nz\n\" transform=\"scale(0.015625)\"/>\n       <path id=\"DejaVuSans-61\" d=\"M 2194 1759 \nQ 1497 1759 1228 1600 \nQ 959 1441 959 1056 \nQ 959 750 1161 570 \nQ 1363 391 1709 391 \nQ 2188 391 2477 730 \nQ 2766 1069 2766 1631 \nL 2766 1759 \nL 2194 1759 \nz\nM 3341 1997 \nL 3341 0 \nL 2766 0 \nL 2766 531 \nQ 2569 213 2275 61 \nQ 1981 -91 1556 -91 \nQ 1019 -91 701 211 \nQ 384 513 384 1019 \nQ 384 1609 779 1909 \nQ 1175 2209 1959 2209 \nL 2766 2209 \nL 2766 2266 \nQ 2766 2663 2505 2880 \nQ 2244 3097 1772 3097 \nQ 1472 3097 1187 3025 \nQ 903 2953 641 2809 \nL 641 3341 \nQ 956 3463 1253 3523 \nQ 1550 3584 1831 3584 \nQ 2591 3584 2966 3190 \nQ 3341 2797 3341 1997 \nz\n\" transform=\"scale(0.015625)\"/>\n       <path id=\"DejaVuSans-69\" d=\"M 603 3500 \nL 1178 3500 \nL 1178 0 \nL 603 0 \nL 603 3500 \nz\nM 603 4863 \nL 1178 4863 \nL 1178 4134 \nL 603 4134 \nL 603 4863 \nz\n\" transform=\"scale(0.015625)\"/>\n       <path id=\"DejaVuSans-6e\" d=\"M 3513 2113 \nL 3513 0 \nL 2938 0 \nL 2938 2094 \nQ 2938 2591 2744 2837 \nQ 2550 3084 2163 3084 \nQ 1697 3084 1428 2787 \nQ 1159 2491 1159 1978 \nL 1159 0 \nL 581 0 \nL 581 3500 \nL 1159 3500 \nL 1159 2956 \nQ 1366 3272 1645 3428 \nQ 1925 3584 2291 3584 \nQ 2894 3584 3203 3211 \nQ 3513 2838 3513 2113 \nz\n\" transform=\"scale(0.015625)\"/>\n       <path id=\"DejaVuSans-20\" transform=\"scale(0.015625)\"/>\n       <path id=\"DejaVuSans-6c\" d=\"M 603 4863 \nL 1178 4863 \nL 1178 0 \nL 603 0 \nL 603 4863 \nz\n\" transform=\"scale(0.015625)\"/>\n       <path id=\"DejaVuSans-73\" d=\"M 2834 3397 \nL 2834 2853 \nQ 2591 2978 2328 3040 \nQ 2066 3103 1784 3103 \nQ 1356 3103 1142 2972 \nQ 928 2841 928 2578 \nQ 928 2378 1081 2264 \nQ 1234 2150 1697 2047 \nL 1894 2003 \nQ 2506 1872 2764 1633 \nQ 3022 1394 3022 966 \nQ 3022 478 2636 193 \nQ 2250 -91 1575 -91 \nQ 1294 -91 989 -36 \nQ 684 19 347 128 \nL 347 722 \nQ 666 556 975 473 \nQ 1284 391 1588 391 \nQ 1994 391 2212 530 \nQ 2431 669 2431 922 \nQ 2431 1156 2273 1281 \nQ 2116 1406 1581 1522 \nL 1381 1569 \nQ 847 1681 609 1914 \nQ 372 2147 372 2553 \nQ 372 3047 722 3315 \nQ 1072 3584 1716 3584 \nQ 2034 3584 2315 3537 \nQ 2597 3491 2834 3397 \nz\n\" transform=\"scale(0.015625)\"/>\n      </defs>\n      <use xlink:href=\"#DejaVuSans-74\"/>\n      <use xlink:href=\"#DejaVuSans-72\" x=\"39.208984\"/>\n      <use xlink:href=\"#DejaVuSans-61\" x=\"80.322266\"/>\n      <use xlink:href=\"#DejaVuSans-69\" x=\"141.601562\"/>\n      <use xlink:href=\"#DejaVuSans-6e\" x=\"169.384766\"/>\n      <use xlink:href=\"#DejaVuSans-20\" x=\"232.763672\"/>\n      <use xlink:href=\"#DejaVuSans-6c\" x=\"264.550781\"/>\n      <use xlink:href=\"#DejaVuSans-6f\" x=\"292.333984\"/>\n      <use xlink:href=\"#DejaVuSans-73\" x=\"353.515625\"/>\n      <use xlink:href=\"#DejaVuSans-73\" x=\"405.615234\"/>\n     </g>\n    </g>\n    <g id=\"line2d_27\">\n     <path d=\"M 142.634375 34.976563 \nL 152.634375 34.976563 \nL 162.634375 34.976563 \n\" style=\"fill: none; stroke-dasharray: 5.55,2.4; stroke-dashoffset: 0; stroke: #bf00bf; stroke-width: 1.5\"/>\n    </g>\n    <g id=\"text_14\">\n     <!-- train acc -->\n     <g transform=\"translate(170.634375 38.476563)scale(0.1 -0.1)\">\n      <use xlink:href=\"#DejaVuSans-74\"/>\n      <use xlink:href=\"#DejaVuSans-72\" x=\"39.208984\"/>\n      <use xlink:href=\"#DejaVuSans-61\" x=\"80.322266\"/>\n      <use xlink:href=\"#DejaVuSans-69\" x=\"141.601562\"/>\n      <use xlink:href=\"#DejaVuSans-6e\" x=\"169.384766\"/>\n      <use xlink:href=\"#DejaVuSans-20\" x=\"232.763672\"/>\n      <use xlink:href=\"#DejaVuSans-61\" x=\"264.550781\"/>\n      <use xlink:href=\"#DejaVuSans-63\" x=\"325.830078\"/>\n      <use xlink:href=\"#DejaVuSans-63\" x=\"380.810547\"/>\n     </g>\n    </g>\n    <g id=\"line2d_28\">\n     <path d=\"M 142.634375 49.654688 \nL 152.634375 49.654688 \nL 162.634375 49.654688 \n\" style=\"fill: none; stroke-dasharray: 9.6,2.4,1.5,2.4; stroke-dashoffset: 0; stroke: #008000; stroke-width: 1.5\"/>\n    </g>\n    <g id=\"text_15\">\n     <!-- test acc -->\n     <g transform=\"translate(170.634375 53.154688)scale(0.1 -0.1)\">\n      <use xlink:href=\"#DejaVuSans-74\"/>\n      <use xlink:href=\"#DejaVuSans-65\" x=\"39.208984\"/>\n      <use xlink:href=\"#DejaVuSans-73\" x=\"100.732422\"/>\n      <use xlink:href=\"#DejaVuSans-74\" x=\"152.832031\"/>\n      <use xlink:href=\"#DejaVuSans-20\" x=\"192.041016\"/>\n      <use xlink:href=\"#DejaVuSans-61\" x=\"223.828125\"/>\n      <use xlink:href=\"#DejaVuSans-63\" x=\"285.107422\"/>\n      <use xlink:href=\"#DejaVuSans-63\" x=\"340.087891\"/>\n     </g>\n    </g>\n   </g>\n  </g>\n </g>\n <defs>\n  <clipPath id=\"p1f5737dbb0\">\n   <rect x=\"30.103125\" y=\"7.2\" width=\"195.3\" height=\"138.6\"/>\n  </clipPath>\n </defs>\n</svg>\n"
          },
          "metadata": {}
        }
      ]
    },
    {
      "cell_type": "markdown",
      "source": [
        "### RNN"
      ],
      "metadata": {
        "id": "OqhX_rOLU9Do"
      }
    },
    {
      "cell_type": "markdown",
      "source": [
        "#### Model Definition"
      ],
      "metadata": {
        "id": "XtGn_9OZVx2F"
      }
    },
    {
      "cell_type": "markdown",
      "source": [
        "We first define the model class"
      ],
      "metadata": {
        "id": "3rQkHqGgWO_Y"
      }
    },
    {
      "cell_type": "code",
      "source": [
        "#Define RNN\n",
        "class rnn_net(nn.Module):\n",
        "    def __init__(self, input_dim, hidden_dim, layer_dim, output_dim):\n",
        "        super(rnn_net, self).__init__()\n",
        "\n",
        "        #Hidden dimensions\n",
        "        self.hidden_dim = hidden_dim\n",
        "\n",
        "        #Number of hidden layers\n",
        "        self.layer_dim = layer_dim\n",
        "\n",
        "        #Bi-GRU Layer \n",
        "        self.gru = nn.GRU(input_dim, hidden_dim, layer_dim, batch_first=True, bidirectional = True)\n",
        "  \n",
        "        #hidden_dim x output_dim FC Layer\n",
        "        self.fc = nn.Linear(2*hidden_dim, output_dim)\n",
        "\n",
        "    def forward(self, x):\n",
        "\n",
        "        #Initialize hidden state with zeros\n",
        "        # to.('cuda') ensures the hidden and input tensors are GPU\n",
        "        h0 = torch.zeros(self.layer_dim*2, x.size(0), self.hidden_dim).requires_grad_().to('cuda')\n",
        "\n",
        "        #RNN Foward Step\n",
        "        out, hn = self.gru(x, h0.detach())\n",
        "\n",
        "        #Clips off final hidden state \n",
        "        out = self.fc(out[:, -1, :]) \n",
        "\n",
        "        return out"
      ],
      "metadata": {
        "id": "khNHXQ24U_Jt"
      },
      "execution_count": 135,
      "outputs": []
    },
    {
      "cell_type": "markdown",
      "source": [
        "Then we instantiate the model "
      ],
      "metadata": {
        "id": "Jgmw0unIWNjR"
      }
    },
    {
      "cell_type": "code",
      "source": [
        "#Define our structural parameters\n",
        "input_dim = 217\n",
        "hidden_dim = 64\n",
        "layer_dim = 2\n",
        "output_dim = 10\n",
        "\n",
        "#Define instance of model\n",
        "rnn_model = rnn_net(input_dim, hidden_dim, layer_dim, output_dim).to('cuda')\n",
        "\n",
        "#Define model functions\n",
        "rnn_optimizer = torch.optim.Adam(rnn_model.parameters(), lr=0.0001)\n",
        "rnn_loss = nn.CrossEntropyLoss()\n",
        "\n",
        "#Define epochs\n",
        "rnn_epochs = 20"
      ],
      "metadata": {
        "id": "8goNtPXVWUpG"
      },
      "execution_count": 138,
      "outputs": []
    },
    {
      "cell_type": "markdown",
      "source": [
        "#### Model Training"
      ],
      "metadata": {
        "id": "qbN7eY2_Xk1P"
      }
    },
    {
      "cell_type": "code",
      "source": [
        "# Number of steps to unroll\n",
        "seq_dim = 67 \n",
        "\n",
        "iter = 0\n",
        "for epoch in range(rnn_epochs):\n",
        "    for i, (images, labels) in enumerate(slice_train_loader):\n",
        "\n",
        "        images = images.to('cuda')\n",
        "        labels = labels.to('cuda')\n",
        "\n",
        "        rnn_model.train()\n",
        "\n",
        "        #Load spectrograms as tensors with gradient accumulation abilities\n",
        "        images = images.view(-1, seq_dim, input_dim).requires_grad_()\n",
        "\n",
        "        #Clear gradients\n",
        "        rnn_optimizer.zero_grad()\n",
        "\n",
        "        #Forward pass \n",
        "        outputs = rnn_model(images)\n",
        "\n",
        "        #Calculate Loss\n",
        "        loss = rnn_loss(outputs, labels)\n",
        "\n",
        "        #Backward Pass\n",
        "        loss.backward()\n",
        "\n",
        "        #Update\n",
        "        rnn_optimizer.step()\n",
        "\n",
        "        iter += 1\n",
        "\n",
        "        if iter % 500 == 0:\n",
        "            rnn_model.eval()\n",
        "\n",
        "            #Calculate Accuracy\n",
        "\n",
        "            correct = 0\n",
        "            total = 0\n",
        "\n",
        "            # Iterate through test dataset\n",
        "            for images, labels in slice_test_loader:\n",
        "\n",
        "                images = images.to('cuda')\n",
        "                labels = labels.to('cuda')\n",
        "                \n",
        "                #Load spectrograms as tensors\n",
        "                images = images.view(-1, seq_dim, input_dim)\n",
        "\n",
        "                # Forward pass \n",
        "                outputs = rnn_model(images)\n",
        "\n",
        "                #Get predictions\n",
        "                _, predicted = torch.max(outputs.data, 1)\n",
        "\n",
        "                #Total number of genres\n",
        "                total += labels.size(0)\n",
        "\n",
        "                #Total correct predictions\n",
        "                correct += (predicted == labels).sum()\n",
        "\n",
        "            accuracy = 100 * correct / total\n",
        "\n",
        "            # Print Loss\n",
        "            print('Iteration: {}. Loss: {}. Accuracy: {}'.format(iter, loss.item(), accuracy))\n"
      ],
      "metadata": {
        "colab": {
          "base_uri": "https://localhost:8080/"
        },
        "id": "hnpjQY9uXmEj",
        "outputId": "62d05707-dda5-4716-c631-87dc81d260b0"
      },
      "execution_count": 139,
      "outputs": [
        {
          "output_type": "stream",
          "name": "stdout",
          "text": [
            "Iteration: 500. Loss: 2.1635451316833496. Accuracy: 23.123123168945312\n",
            "Iteration: 1000. Loss: 2.030060052871704. Accuracy: 27.82782745361328\n",
            "Iteration: 1500. Loss: 1.8222657442092896. Accuracy: 29.929929733276367\n",
            "Iteration: 2000. Loss: 1.8253898620605469. Accuracy: 31.031030654907227\n",
            "Iteration: 2500. Loss: 1.4022310972213745. Accuracy: 35.135135650634766\n",
            "Iteration: 3000. Loss: 1.5719189643859863. Accuracy: 35.935935974121094\n",
            "Iteration: 3500. Loss: 1.6693650484085083. Accuracy: 37.737735748291016\n",
            "Iteration: 4000. Loss: 1.2320109605789185. Accuracy: 37.13713836669922\n",
            "Iteration: 4500. Loss: 1.335000991821289. Accuracy: 38.438438415527344\n",
            "Iteration: 5000. Loss: 1.834577202796936. Accuracy: 38.838836669921875\n"
          ]
        }
      ]
    },
    {
      "cell_type": "markdown",
      "source": [
        "## Ensemble Models\n",
        "\n",
        "This section contains the definition and training of our ensemble models, namely the CNN-MLP and the CNN-RNN"
      ],
      "metadata": {
        "id": "6F_KpVETYY-K"
      }
    },
    {
      "cell_type": "markdown",
      "source": [
        "### CNN-MLP"
      ],
      "metadata": {
        "id": "aatAlMQpZ2i0"
      }
    },
    {
      "cell_type": "markdown",
      "source": [
        "#### Model Adjustments"
      ],
      "metadata": {
        "id": "VmtwPwrudSJk"
      }
    },
    {
      "cell_type": "markdown",
      "source": [
        "During our model development, it became clear that each baseline model would have to be carefully adjusted in order to fit each other in an ensemble. Below are the adjustments we made to each the CNN and the MLP before we define the ensemble. (Changes occur in commented layers)"
      ],
      "metadata": {
        "id": "6uEYujVlZ92w"
      }
    },
    {
      "cell_type": "code",
      "source": [
        "#Adjusted MLP\n",
        "\n",
        "e_mlp = nn.Sequential(\n",
        "    \n",
        "    nn.Flatten(),\n",
        "\n",
        "    #57x128 FC Layer, ReLU Activation Layer\n",
        "    nn.Linear(57, 128), nn.ReLU(),\n",
        "\n",
        "    #128x128 FC Layer, ReLU Activation Layer\n",
        "    nn.Linear(128, 128),nn.ReLU(),\n",
        "\n",
        "    #128x100 FC Layer\n",
        "    nn.Linear(128, 100) \n",
        ")\n",
        "\n",
        "#Adjusted CNN \n",
        "\n",
        "e_cnn = nn.Sequential(\n",
        "    \n",
        "    nn.Conv2d(1, 16, kernel_size = 3, stride = 1, padding = \"same\"), nn.Dropout(0.2), nn.ReLU(),\n",
        "\n",
        "    nn.MaxPool2d(kernel_size=2, stride=2),\n",
        "\n",
        "    nn.Conv2d(16, 32, kernel_size = 3, stride = 1, padding = \"same\"), nn.Dropout(0.2), nn.ReLU(),\n",
        "\n",
        "    nn.MaxPool2d(kernel_size=2, stride=2),\n",
        "\n",
        "    nn.Conv2d(32, 64, kernel_size = 3, stride = 1, padding = \"same\"), nn.Dropout(0.2), nn.ReLU(),\n",
        "\n",
        "    nn.MaxPool2d(kernel_size=2, stride=2),\n",
        "\n",
        "    nn.Conv2d(64,128, kernel_size = 3, stride = 1, padding = \"same\"), nn.Dropout(0.2), nn.ReLU(),\n",
        "\n",
        "    #4x4 Max Pooling Layer with stride 3\n",
        "    nn.MaxPool2d(kernel_size = 4, stride = 4),\n",
        "\n",
        "    #256@3x3 Convolution Layer, ReLU Activation\n",
        "    nn.Conv2d(128, 256, kernel_size = 3, stride = 1, padding = \"same\"), nn.Dropout(0.2), nn.ReLU(), \n",
        "\n",
        "    nn.Flatten(),\n",
        "\n",
        "    #15360 x 128 FC Layer, Dropout 0.2, ReLU Activation\n",
        "    nn.Linear(15360, 128), nn.Dropout(0.2), nn.ReLU(), \n",
        "\n",
        "    #128x100, Dropout 0.2, ReLU Activation\n",
        "    nn.Linear(128, 100), nn.Dropout(0.2), nn.ReLU(),\n",
        "\n",
        ")"
      ],
      "metadata": {
        "id": "iIywNUnPYfH8"
      },
      "execution_count": 156,
      "outputs": []
    },
    {
      "cell_type": "markdown",
      "source": [
        "#### Model Definition"
      ],
      "metadata": {
        "id": "WlbAqZ7udVxD"
      }
    },
    {
      "cell_type": "code",
      "source": [
        "#Ensemble Definition\n",
        "\n",
        "class cnn_mlp(nn.Module):\n",
        "    def __init__(self):\n",
        "        super(cnn_mlp, self).__init__()\n",
        "\n",
        "        #Net to process images\n",
        "        self.e_cnn = e_cnn\n",
        "\n",
        "        #Net to process features\n",
        "        self.e_mlp = e_mlp\n",
        "\n",
        "        #200x100 FC Layer\n",
        "        self.fc1 = nn.Linear(200, 100)\n",
        "\n",
        "        #100x10 FC Layer\n",
        "        self.fc2 = nn.Linear(100,10)\n",
        "\n",
        "    def forward(self, x1, x2):\n",
        "\n",
        "        #Pass image through first subnetwork\n",
        "        out1 = self.e_cnn(x1)\n",
        "\n",
        "        #Pass features through second subnetwork\n",
        "        out2 = self.e_mlp(x2)\n",
        "\n",
        "        #Concatenate\n",
        "        out = torch.cat((out1, out2), dim = 1)\n",
        "        \n",
        "        #Pass through linear layers\n",
        "        x = self.fc1(out)\n",
        "        x = self.fc2(x)\n",
        "\n",
        "        return x\n",
        "\n",
        "#Define Model Parameters\n",
        "\n",
        "cnn_mlp = cnn_mlp().to('cuda')\n",
        "\n",
        "cnn_mlp_optimizer = torch.optim.Adam(cnn_mlp.parameters(), lr=0.0001)\n",
        "cnn_mlp_loss = nn.CrossEntropyLoss()\n",
        "\n",
        "cnn_mlp_epochs = 25"
      ],
      "metadata": {
        "id": "g_nDo0K7dX_4"
      },
      "execution_count": 157,
      "outputs": []
    },
    {
      "cell_type": "markdown",
      "source": [
        "#### Model Training"
      ],
      "metadata": {
        "id": "N7s9qRHNd1Ux"
      }
    },
    {
      "cell_type": "code",
      "source": [
        "#Training Loop\n",
        "\n",
        "for epoch in range(cnn_mlp_epochs):\n",
        "    running_loss = 0.0\n",
        "    correct = 0\n",
        "    total = 0\n",
        "    \n",
        "    for batch_idx, (inputs1, inputs2, targets) in enumerate(joined_train_loader):\n",
        "      \n",
        "        #Moves inputs to the gpu\n",
        "        inputs1 = inputs1.to('cuda')\n",
        "        inputs2 = inputs2.to('cuda')\n",
        "        targets = targets.to('cuda')\n",
        "\n",
        "        # Zero the gradients\n",
        "        cnn_mlp_optimizer.zero_grad()\n",
        "        \n",
        "        # Forward pass\n",
        "        outputs = cnn_mlp(inputs1, inputs2)\n",
        "        loss = cnn_mlp_loss(outputs, targets)\n",
        "        \n",
        "        # Backward pass and optimization\n",
        "        loss.backward()\n",
        "        cnn_mlp_optimizer.step()\n",
        "        \n",
        "        # Compute running loss and accuracy\n",
        "        running_loss += loss.item()\n",
        "        _, predicted = outputs.max(1)\n",
        "        total += targets.size(0)\n",
        "        correct += predicted.eq(targets).sum().item()\n",
        "        \n",
        "    # Compute validation loss and accuracy\n",
        "    val_loss = 0.0\n",
        "    val_correct = 0\n",
        "    val_total = 0\n",
        "    \n",
        "    with torch.no_grad():\n",
        "        for inputs1, inputs2, targets in joined_test_loader:\n",
        "\n",
        "            #Moves inputs to gpu\n",
        "            inputs1 = inputs1.to('cuda')\n",
        "            inputs2 = inputs2.to('cuda')\n",
        "            targets = targets.to('cuda')\n",
        "            \n",
        "            outputs = cnn_mlp(inputs1, inputs2)\n",
        "            loss = cnn_mlp_loss(outputs, targets)\n",
        "            val_loss += loss.item()\n",
        "            _, predicted = outputs.max(1)\n",
        "            val_total += targets.size(0)\n",
        "            val_correct += predicted.eq(targets).sum().item()\n",
        "    \n",
        "    # Print epoch statistics\n",
        "    print('Epoch %d: Train Loss: %.3f | Train Acc: %.3f%% | Val Loss: %.3f | Val Acc: %.3f%%'\n",
        "          % (epoch+1, running_loss/len(joined_train_loader), 100*correct/total,\n",
        "             val_loss/len(joined_test_loader), 100*val_correct/val_total))"
      ],
      "metadata": {
        "colab": {
          "base_uri": "https://localhost:8080/"
        },
        "id": "yiqQVkcfd3Kp",
        "outputId": "0d7d336a-5ce2-4dad-ed3e-6b5365b33d22"
      },
      "execution_count": 158,
      "outputs": [
        {
          "output_type": "stream",
          "name": "stdout",
          "text": [
            "Epoch 1: Train Loss: 2.286 | Train Acc: 14.018% | Val Loss: 2.229 | Val Acc: 21.500%\n",
            "Epoch 2: Train Loss: 2.110 | Train Acc: 22.904% | Val Loss: 2.051 | Val Acc: 25.500%\n",
            "Epoch 3: Train Loss: 1.890 | Train Acc: 33.542% | Val Loss: 1.818 | Val Acc: 38.500%\n",
            "Epoch 4: Train Loss: 1.679 | Train Acc: 41.176% | Val Loss: 1.635 | Val Acc: 47.000%\n",
            "Epoch 5: Train Loss: 1.436 | Train Acc: 49.687% | Val Loss: 1.397 | Val Acc: 53.500%\n",
            "Epoch 6: Train Loss: 1.265 | Train Acc: 57.071% | Val Loss: 1.217 | Val Acc: 63.500%\n",
            "Epoch 7: Train Loss: 1.064 | Train Acc: 66.208% | Val Loss: 1.096 | Val Acc: 62.500%\n",
            "Epoch 8: Train Loss: 0.967 | Train Acc: 67.334% | Val Loss: 1.151 | Val Acc: 61.500%\n",
            "Epoch 9: Train Loss: 0.862 | Train Acc: 71.840% | Val Loss: 0.906 | Val Acc: 67.500%\n",
            "Epoch 10: Train Loss: 0.807 | Train Acc: 73.467% | Val Loss: 0.867 | Val Acc: 71.500%\n",
            "Epoch 11: Train Loss: 0.679 | Train Acc: 78.723% | Val Loss: 0.816 | Val Acc: 74.000%\n",
            "Epoch 12: Train Loss: 0.657 | Train Acc: 77.972% | Val Loss: 0.812 | Val Acc: 71.000%\n",
            "Epoch 13: Train Loss: 0.619 | Train Acc: 77.597% | Val Loss: 0.858 | Val Acc: 70.500%\n",
            "Epoch 14: Train Loss: 0.573 | Train Acc: 79.850% | Val Loss: 0.795 | Val Acc: 75.000%\n",
            "Epoch 15: Train Loss: 0.530 | Train Acc: 82.854% | Val Loss: 0.772 | Val Acc: 75.500%\n",
            "Epoch 16: Train Loss: 0.497 | Train Acc: 82.603% | Val Loss: 0.754 | Val Acc: 75.500%\n",
            "Epoch 17: Train Loss: 0.487 | Train Acc: 82.728% | Val Loss: 0.713 | Val Acc: 79.500%\n",
            "Epoch 18: Train Loss: 0.402 | Train Acc: 87.234% | Val Loss: 0.727 | Val Acc: 75.000%\n",
            "Epoch 19: Train Loss: 0.380 | Train Acc: 86.984% | Val Loss: 0.723 | Val Acc: 78.000%\n",
            "Epoch 20: Train Loss: 0.349 | Train Acc: 88.986% | Val Loss: 0.659 | Val Acc: 80.000%\n",
            "Epoch 21: Train Loss: 0.335 | Train Acc: 88.861% | Val Loss: 0.828 | Val Acc: 74.000%\n",
            "Epoch 22: Train Loss: 0.336 | Train Acc: 88.235% | Val Loss: 0.712 | Val Acc: 77.000%\n",
            "Epoch 23: Train Loss: 0.312 | Train Acc: 89.111% | Val Loss: 0.797 | Val Acc: 78.000%\n",
            "Epoch 24: Train Loss: 0.248 | Train Acc: 91.990% | Val Loss: 0.672 | Val Acc: 79.000%\n",
            "Epoch 25: Train Loss: 0.274 | Train Acc: 91.239% | Val Loss: 0.702 | Val Acc: 81.000%\n"
          ]
        }
      ]
    },
    {
      "cell_type": "markdown",
      "source": [
        "### CNN-RNN"
      ],
      "metadata": {
        "id": "KWv4yeN6eWnJ"
      }
    },
    {
      "cell_type": "markdown",
      "source": [
        "#### Adjusted Models "
      ],
      "metadata": {
        "id": "xVhyXLsQq9be"
      }
    },
    {
      "cell_type": "markdown",
      "source": [
        "Once again, in order to maximise our predictive performance, we adjusted our RNN model so it can fit in the ensemble. (Changes are commented):"
      ],
      "metadata": {
        "id": "GU24Qz7nrF1x"
      }
    },
    {
      "cell_type": "code",
      "source": [
        "#Adjusted cnn\n",
        "\n",
        "e2_cnn_net = nn.Sequential(\n",
        "    \n",
        "    nn.Conv2d(1, 16, kernel_size = 3, stride = 1, padding = \"same\"), nn.Dropout(0.2), nn.ReLU(),\n",
        "\n",
        "    nn.MaxPool2d(kernel_size=2, stride=2),\n",
        "\n",
        "    nn.Conv2d(16, 32, kernel_size = 3, stride = 1, padding = \"same\"), nn.Dropout(0.2), nn.ReLU(),\n",
        "\n",
        "    nn.MaxPool2d(kernel_size=2, stride=2),\n",
        "\n",
        "    nn.Conv2d(32, 64, kernel_size = 3, stride = 1, padding = \"same\"), nn.Dropout(0.2), nn.ReLU(),\n",
        "\n",
        "    nn.MaxPool2d(kernel_size=2, stride=2),\n",
        "\n",
        "    nn.Conv2d(64,128, kernel_size = 3, stride = 1, padding = \"same\"), nn.Dropout(0.2), nn.ReLU(),\n",
        "\n",
        "    nn.MaxPool2d(kernel_size = 4, stride = 4),\n",
        "\n",
        "    nn.Conv2d(128, 64, kernel_size = 3, stride = 1, padding = \"same\"), nn.Dropout(0.2), nn.ReLU(),\n",
        "\n",
        "    nn.Flatten(),\n",
        "\n",
        "    #768x128 FC Layer, Dropout 0.2, ReLU Activation\n",
        "    nn.Linear(768, 384), nn.Dropout(0.2), nn.ReLU(),\n",
        "\n",
        "    #384x128 FC Layer\n",
        "    nn.Linear(384,128)\n",
        "\n",
        ")\n",
        "\n",
        "##Adjusted rnn \n",
        "\n",
        "class e_rnn_net(nn.Module):\n",
        "    def __init__(self, input_dim, hidden_dim, layer_dim, output_dim):\n",
        "        super(e_rnn_net, self).__init__()\n",
        "\n",
        "        self.hidden_dim = hidden_dim\n",
        "\n",
        "        self.layer_dim = layer_dim\n",
        "\n",
        "        #Now not bi-directional\n",
        "        self.gru = nn.GRU(input_dim, hidden_dim, layer_dim, batch_first=True)\n",
        "\n",
        "        self.fc = nn.Linear(hidden_dim, output_dim)\n",
        "\n",
        "    def forward(self, x):\n",
        "\n",
        "        h0 = torch.zeros(self.layer_dim, x.size(0), self.hidden_dim).requires_grad_().to('cuda')\n",
        "\n",
        "        out, hn = self.gru(x, h0.detach())\n",
        "\n",
        "        out = self.fc(out[:, -1, :]) \n",
        "\n",
        "        return out\n",
        "\n",
        "#Define RNN Structural Parameters\n",
        "seq_input_dim = 1\n",
        "seq_hidden_dim = 128\n",
        "seq_layer_dim = 3\n",
        "seq_output_dim = 10\n",
        "\n",
        "#Define instance of RNN\n",
        "seq_rnn_model = e_rnn_net(seq_input_dim, seq_hidden_dim, seq_layer_dim, seq_output_dim).to('cuda')"
      ],
      "metadata": {
        "id": "HK-9veGrrQr_"
      },
      "execution_count": 171,
      "outputs": []
    },
    {
      "cell_type": "markdown",
      "source": [
        "#### Model Definition "
      ],
      "metadata": {
        "id": "BYfKE9KihFBh"
      }
    },
    {
      "cell_type": "code",
      "source": [
        "#Sequential Ensemble Definition\n",
        "\n",
        "class seq_cnn_rnn(nn.Module):\n",
        "    def __init__(self):\n",
        "        super(seq_cnn_rnn, self).__init__()\n",
        "\n",
        "        #Net to process images\n",
        "        self.e2_cnn = e2_cnn_net\n",
        "\n",
        "        #Net to process features\n",
        "        self.rnn = seq_rnn_model\n",
        "\n",
        "        #Final (10x10) linear layer\n",
        "        self.fc1 = nn.Linear(10, 10)\n",
        "\n",
        "    def forward(self, x):\n",
        "\n",
        "        #Pass image through cnn\n",
        "        cnn_out = self.e2_cnn(x)\n",
        "\n",
        "        #Reshape for RNN\n",
        "        seq_dim = 128\n",
        "        input_dim = 1 \n",
        "\n",
        "        cnn_out = cnn_out.view(-1, seq_dim, input_dim).requires_grad_()\n",
        "\n",
        "        #Pass features through rnn\n",
        "        rnn_out = self.rnn(cnn_out)\n",
        "        \n",
        "        #Pass through linear layer\n",
        "        out = self.fc1(rnn_out)\n",
        "\n",
        "        return out\n",
        "\n",
        "#Define instance of CNN-RNN\n",
        "seq_cnn_rnn = seq_cnn_rnn().to('cuda')\n",
        "\n",
        "#Define model functions\n",
        "seq_cnn_rnn_optimizer = torch.optim.Adam(seq_cnn_rnn.parameters(), lr=0.0001)\n",
        "seq_cnn_rnn_loss = nn.CrossEntropyLoss()\n",
        "\n",
        "#Define epochs\n",
        "seq_cnn_rnn_epochs = 35"
      ],
      "metadata": {
        "id": "-dq2sQb0eYhg"
      },
      "execution_count": 172,
      "outputs": []
    },
    {
      "cell_type": "markdown",
      "source": [
        "#### Model Training"
      ],
      "metadata": {
        "id": "IK9_a9mphc8a"
      }
    },
    {
      "cell_type": "code",
      "source": [
        "#Training Loop\n",
        "\n",
        "for epoch in range(seq_cnn_rnn_epochs):\n",
        "    running_loss = 0.0\n",
        "    correct = 0\n",
        "    total = 0\n",
        "    \n",
        "    for batch_idx, (inputs, targets) in enumerate(slice_train_loader):\n",
        "      \n",
        "        #Moves inputs to the gpu\n",
        "        inputs = inputs.to('cuda')\n",
        "        targets = targets.to('cuda')\n",
        "\n",
        "        # Zero the gradients\n",
        "        seq_cnn_rnn_optimizer.zero_grad()\n",
        "        \n",
        "        # Forward pass\n",
        "        outputs = seq_cnn_rnn(inputs)\n",
        "        loss = seq_cnn_rnn_loss(outputs, targets)\n",
        "        \n",
        "        # Backward pass and optimization\n",
        "        loss.backward()\n",
        "        seq_cnn_rnn_optimizer.step()\n",
        "        \n",
        "        # Compute running loss and accuracy\n",
        "        running_loss += loss.item()\n",
        "        _, predicted = outputs.max(1)\n",
        "        total += targets.size(0)\n",
        "        correct += predicted.eq(targets).sum().item()\n",
        "        \n",
        "    # Compute validation loss and accuracy\n",
        "    val_loss = 0.0\n",
        "    val_correct = 0\n",
        "    val_total = 0\n",
        "    \n",
        "    with torch.no_grad():\n",
        "        for inputs, targets in slice_test_loader:\n",
        "\n",
        "            #Moves inputs to gpu\n",
        "            inputs = inputs.to('cuda')\n",
        "            targets = targets.to('cuda')\n",
        "            \n",
        "            outputs = seq_cnn_rnn(inputs)\n",
        "            loss = seq_cnn_rnn_loss(outputs, targets)\n",
        "            val_loss += loss.item()\n",
        "            _, predicted = outputs.max(1)\n",
        "            val_total += targets.size(0)\n",
        "            val_correct += predicted.eq(targets).sum().item()\n",
        "    \n",
        "    # Print epoch statistics\n",
        "    print('Epoch %d: Train Loss: %.3f | Train Acc: %.3f%% | Val Loss: %.3f | Val Acc: %.3f%%'\n",
        "          % (epoch+1, running_loss/len(slice_train_loader), 100*correct/total,\n",
        "             val_loss/len(slice_test_loader), 100*val_correct/val_total))"
      ],
      "metadata": {
        "colab": {
          "base_uri": "https://localhost:8080/"
        },
        "id": "MYr979mfheJB",
        "outputId": "b0ad97ab-b889-436c-969f-47e26f02eb36"
      },
      "execution_count": 173,
      "outputs": [
        {
          "output_type": "stream",
          "name": "stdout",
          "text": [
            "Epoch 1: Train Loss: 2.272 | Train Acc: 13.288% | Val Loss: 2.173 | Val Acc: 20.320%\n",
            "Epoch 2: Train Loss: 2.068 | Train Acc: 26.026% | Val Loss: 1.945 | Val Acc: 29.229%\n",
            "Epoch 3: Train Loss: 1.868 | Train Acc: 31.256% | Val Loss: 1.819 | Val Acc: 33.433%\n",
            "Epoch 4: Train Loss: 1.716 | Train Acc: 40.591% | Val Loss: 1.670 | Val Acc: 40.541%\n",
            "Epoch 5: Train Loss: 1.591 | Train Acc: 44.770% | Val Loss: 1.603 | Val Acc: 43.143%\n",
            "Epoch 6: Train Loss: 1.502 | Train Acc: 48.574% | Val Loss: 1.532 | Val Acc: 48.448%\n",
            "Epoch 7: Train Loss: 1.432 | Train Acc: 51.727% | Val Loss: 1.433 | Val Acc: 50.951%\n",
            "Epoch 8: Train Loss: 1.349 | Train Acc: 55.455% | Val Loss: 1.422 | Val Acc: 51.251%\n",
            "Epoch 9: Train Loss: 1.287 | Train Acc: 57.107% | Val Loss: 1.338 | Val Acc: 55.255%\n",
            "Epoch 10: Train Loss: 1.247 | Train Acc: 58.233% | Val Loss: 1.327 | Val Acc: 56.256%\n",
            "Epoch 11: Train Loss: 1.186 | Train Acc: 60.911% | Val Loss: 1.314 | Val Acc: 54.555%\n",
            "Epoch 12: Train Loss: 1.131 | Train Acc: 62.563% | Val Loss: 1.280 | Val Acc: 57.558%\n",
            "Epoch 13: Train Loss: 1.072 | Train Acc: 64.865% | Val Loss: 1.266 | Val Acc: 58.358%\n",
            "Epoch 14: Train Loss: 1.011 | Train Acc: 67.142% | Val Loss: 1.253 | Val Acc: 58.559%\n",
            "Epoch 15: Train Loss: 0.976 | Train Acc: 68.193% | Val Loss: 1.211 | Val Acc: 60.561%\n",
            "Epoch 16: Train Loss: 0.900 | Train Acc: 71.221% | Val Loss: 1.193 | Val Acc: 60.060%\n",
            "Epoch 17: Train Loss: 0.864 | Train Acc: 72.548% | Val Loss: 1.280 | Val Acc: 58.458%\n",
            "Epoch 18: Train Loss: 0.818 | Train Acc: 73.373% | Val Loss: 1.231 | Val Acc: 59.760%\n",
            "Epoch 19: Train Loss: 0.787 | Train Acc: 74.850% | Val Loss: 1.174 | Val Acc: 63.063%\n",
            "Epoch 20: Train Loss: 0.737 | Train Acc: 75.901% | Val Loss: 1.191 | Val Acc: 62.663%\n",
            "Epoch 21: Train Loss: 0.702 | Train Acc: 77.778% | Val Loss: 1.165 | Val Acc: 63.163%\n",
            "Epoch 22: Train Loss: 0.655 | Train Acc: 78.829% | Val Loss: 1.184 | Val Acc: 64.064%\n",
            "Epoch 23: Train Loss: 0.643 | Train Acc: 79.254% | Val Loss: 1.208 | Val Acc: 63.363%\n",
            "Epoch 24: Train Loss: 0.587 | Train Acc: 81.707% | Val Loss: 1.138 | Val Acc: 64.765%\n",
            "Epoch 25: Train Loss: 0.557 | Train Acc: 82.257% | Val Loss: 1.132 | Val Acc: 65.566%\n",
            "Epoch 26: Train Loss: 0.541 | Train Acc: 82.382% | Val Loss: 1.211 | Val Acc: 63.664%\n",
            "Epoch 27: Train Loss: 0.525 | Train Acc: 82.933% | Val Loss: 1.294 | Val Acc: 62.462%\n",
            "Epoch 28: Train Loss: 0.496 | Train Acc: 84.259% | Val Loss: 1.219 | Val Acc: 64.565%\n",
            "Epoch 29: Train Loss: 0.455 | Train Acc: 85.260% | Val Loss: 1.266 | Val Acc: 63.564%\n",
            "Epoch 30: Train Loss: 0.443 | Train Acc: 86.036% | Val Loss: 1.290 | Val Acc: 62.262%\n",
            "Epoch 31: Train Loss: 0.421 | Train Acc: 87.012% | Val Loss: 1.204 | Val Acc: 66.366%\n",
            "Epoch 32: Train Loss: 0.384 | Train Acc: 87.237% | Val Loss: 1.233 | Val Acc: 65.065%\n",
            "Epoch 33: Train Loss: 0.386 | Train Acc: 87.487% | Val Loss: 1.193 | Val Acc: 67.067%\n",
            "Epoch 34: Train Loss: 0.386 | Train Acc: 87.913% | Val Loss: 1.312 | Val Acc: 62.663%\n",
            "Epoch 35: Train Loss: 0.334 | Train Acc: 89.289% | Val Loss: 1.201 | Val Acc: 67.968%\n"
          ]
        }
      ]
    }
  ]
}